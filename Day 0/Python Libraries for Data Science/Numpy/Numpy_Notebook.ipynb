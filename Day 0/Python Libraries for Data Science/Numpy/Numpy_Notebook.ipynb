{
 "cells": [
  {
   "cell_type": "code",
   "execution_count": null,
   "id": "659f7f8d",
   "metadata": {},
   "outputs": [],
   "source": [
    "Importing libraries"
   ]
  },
  {
   "cell_type": "code",
   "execution_count": 2,
   "id": "c9ecaa66",
   "metadata": {},
   "outputs": [],
   "source": [
    "import numpy as np"
   ]
  },
  {
   "cell_type": "markdown",
   "id": "77d86ff9",
   "metadata": {},
   "source": [
    "## Creating numpy array\n",
    "\n",
    "1) Using np.array()\n",
    "2) Using np.zeros/one/empty/random()\n",
    "3) Using np.arange()\n",
    "4) Using np.linspace()\n",
    "5) Using Identitiy\n",
    "6) Using Copy()"
   ]
  },
  {
   "cell_type": "code",
   "execution_count": 5,
   "id": "f14e81b8",
   "metadata": {},
   "outputs": [
    {
     "data": {
      "text/plain": [
       "array([ 2,  3,  5,  7, 11])"
      ]
     },
     "execution_count": 5,
     "metadata": {},
     "output_type": "execute_result"
    }
   ],
   "source": [
    "# Using np.array()  --> 1 dim\n",
    "arr1 = np.array([2,3,5,7,11])\n",
    "arr1"
   ]
  },
  {
   "cell_type": "code",
   "execution_count": 6,
   "id": "5b78df67",
   "metadata": {},
   "outputs": [
    {
     "data": {
      "text/plain": [
       "array([[1, 3, 5, 7, 9],\n",
       "       [0, 2, 4, 6, 8]])"
      ]
     },
     "execution_count": 6,
     "metadata": {},
     "output_type": "execute_result"
    }
   ],
   "source": [
    "# Using np.array()  --> 2 dim\n",
    "arr2 = np.array([[1,3,5,7,9],[0,2,4,6,8]])\n",
    "arr2"
   ]
  },
  {
   "cell_type": "code",
   "execution_count": 7,
   "id": "60a63f55",
   "metadata": {},
   "outputs": [
    {
     "data": {
      "text/plain": [
       "array([[[1, 2, 3],\n",
       "        [4, 5, 6]],\n",
       "\n",
       "       [[3, 2, 1],\n",
       "        [6, 5, 4]]])"
      ]
     },
     "execution_count": 7,
     "metadata": {},
     "output_type": "execute_result"
    }
   ],
   "source": [
    "# Using np.array()  --> 3 dim\n",
    "arr3 = np.array([[[1,2,3],[4,5,6]],[[3,2,1],[6,5,4]]])\n",
    "arr3"
   ]
  },
  {
   "cell_type": "code",
   "execution_count": 8,
   "id": "f0ea22ca",
   "metadata": {},
   "outputs": [
    {
     "data": {
      "text/plain": [
       "numpy.ndarray"
      ]
     },
     "execution_count": 8,
     "metadata": {},
     "output_type": "execute_result"
    }
   ],
   "source": [
    "type(arr3)"
   ]
  },
  {
   "cell_type": "code",
   "execution_count": 9,
   "id": "5d34dd2d",
   "metadata": {},
   "outputs": [
    {
     "data": {
      "text/plain": [
       "array([[0., 0.],\n",
       "       [0., 0.],\n",
       "       [0., 0.],\n",
       "       [0., 0.],\n",
       "       [0., 0.]])"
      ]
     },
     "execution_count": 9,
     "metadata": {},
     "output_type": "execute_result"
    }
   ],
   "source": [
    "# Using np.zeros\n",
    "arr4 = np.zeros([5,2])\n",
    "arr4"
   ]
  },
  {
   "cell_type": "code",
   "execution_count": 10,
   "id": "566a2dc0",
   "metadata": {},
   "outputs": [
    {
     "data": {
      "text/plain": [
       "array([[1., 1., 1.],\n",
       "       [1., 1., 1.],\n",
       "       [1., 1., 1.]])"
      ]
     },
     "execution_count": 10,
     "metadata": {},
     "output_type": "execute_result"
    }
   ],
   "source": [
    "# Using np.ones\n",
    "arr5 = np.ones([3,3])\n",
    "arr5"
   ]
  },
  {
   "cell_type": "code",
   "execution_count": 11,
   "id": "06746b45",
   "metadata": {},
   "outputs": [
    {
     "data": {
      "text/plain": [
       "array([[1.10415460e-311, 2.47032823e-322, 0.00000000e+000,\n",
       "        0.00000000e+000, 1.03977794e-312, 2.92966904e-033],\n",
       "       [7.17930486e-091, 2.36053201e+180, 8.26661920e-072,\n",
       "        6.52537023e-038, 3.99910963e+252, 1.90979636e-312]])"
      ]
     },
     "execution_count": 11,
     "metadata": {},
     "output_type": "execute_result"
    }
   ],
   "source": [
    "# Using np.empty\n",
    "arr6 = np.empty([2,6])\n",
    "arr6"
   ]
  },
  {
   "cell_type": "code",
   "execution_count": 12,
   "id": "79e0f3ee",
   "metadata": {},
   "outputs": [
    {
     "data": {
      "text/plain": [
       "array([0.37306624, 0.72823529, 0.63692438, 0.24393214, 0.91402169])"
      ]
     },
     "execution_count": 12,
     "metadata": {},
     "output_type": "execute_result"
    }
   ],
   "source": [
    "# Using np.random\n",
    "arr7 = np.random.rand(5)\n",
    "arr7"
   ]
  },
  {
   "cell_type": "code",
   "execution_count": 13,
   "id": "880eadb7",
   "metadata": {},
   "outputs": [
    {
     "data": {
      "text/plain": [
       "array([0, 1, 2, 3, 4, 5, 6, 7, 8, 9])"
      ]
     },
     "execution_count": 13,
     "metadata": {},
     "output_type": "execute_result"
    }
   ],
   "source": [
    "# Using np.arange\n",
    "arr8 = np.arange(10)\n",
    "arr8"
   ]
  },
  {
   "cell_type": "code",
   "execution_count": 14,
   "id": "b2de75fe",
   "metadata": {},
   "outputs": [
    {
     "data": {
      "text/plain": [
       "array([ 2,  4,  6,  8, 10, 12, 14, 16, 18, 20, 22, 24])"
      ]
     },
     "execution_count": 14,
     "metadata": {},
     "output_type": "execute_result"
    }
   ],
   "source": [
    "arr9 = np.arange(2,25,2)\n",
    "arr9"
   ]
  },
  {
   "cell_type": "code",
   "execution_count": 15,
   "id": "26594884",
   "metadata": {},
   "outputs": [
    {
     "data": {
      "text/plain": [
       "array([10., 15., 20.])"
      ]
     },
     "execution_count": 15,
     "metadata": {},
     "output_type": "execute_result"
    }
   ],
   "source": [
    "# Using linspace\n",
    "arr10 = np.linspace(10,20,3)\n",
    "arr10"
   ]
  },
  {
   "cell_type": "code",
   "execution_count": 16,
   "id": "6f0ceb89",
   "metadata": {},
   "outputs": [
    {
     "data": {
      "text/plain": [
       "array([ 1.        ,  3.63636364,  6.27272727,  8.90909091, 11.54545455,\n",
       "       14.18181818, 16.81818182, 19.45454545, 22.09090909, 24.72727273,\n",
       "       27.36363636, 30.        ])"
      ]
     },
     "execution_count": 16,
     "metadata": {},
     "output_type": "execute_result"
    }
   ],
   "source": [
    "arr11 = np.linspace(1,30,12)\n",
    "arr11"
   ]
  },
  {
   "cell_type": "code",
   "execution_count": 17,
   "id": "9994cf29",
   "metadata": {},
   "outputs": [
    {
     "data": {
      "text/plain": [
       "array([[1., 0., 0., 0., 0., 0.],\n",
       "       [0., 1., 0., 0., 0., 0.],\n",
       "       [0., 0., 1., 0., 0., 0.],\n",
       "       [0., 0., 0., 1., 0., 0.],\n",
       "       [0., 0., 0., 0., 1., 0.],\n",
       "       [0., 0., 0., 0., 0., 1.]])"
      ]
     },
     "execution_count": 17,
     "metadata": {},
     "output_type": "execute_result"
    }
   ],
   "source": [
    "arr12 = np.identity(6)\n",
    "arr12"
   ]
  },
  {
   "cell_type": "code",
   "execution_count": 18,
   "id": "6538302c",
   "metadata": {},
   "outputs": [
    {
     "data": {
      "text/plain": [
       "array([ 1.        ,  3.63636364,  6.27272727,  8.90909091, 11.54545455,\n",
       "       14.18181818, 16.81818182, 19.45454545, 22.09090909, 24.72727273,\n",
       "       27.36363636, 30.        ])"
      ]
     },
     "execution_count": 18,
     "metadata": {},
     "output_type": "execute_result"
    }
   ],
   "source": [
    "arr12 = arr11.copy()\n",
    "arr12"
   ]
  },
  {
   "cell_type": "markdown",
   "id": "7f4af2ad",
   "metadata": {},
   "source": [
    "## Properties & Attributes\n",
    "\n",
    "1) Shape\n",
    "2) nDim\n",
    "3) Size\n",
    "4) Itemsize\n",
    "5) Dtype\n",
    "6) astype"
   ]
  },
  {
   "cell_type": "code",
   "execution_count": 19,
   "id": "e1bc43a6",
   "metadata": {},
   "outputs": [
    {
     "data": {
      "text/plain": [
       "array([[[1, 2, 3],\n",
       "        [4, 5, 6]],\n",
       "\n",
       "       [[3, 2, 1],\n",
       "        [6, 5, 4]]])"
      ]
     },
     "execution_count": 19,
     "metadata": {},
     "output_type": "execute_result"
    }
   ],
   "source": [
    "arr3"
   ]
  },
  {
   "cell_type": "code",
   "execution_count": 20,
   "id": "3266d3a5",
   "metadata": {},
   "outputs": [
    {
     "data": {
      "text/plain": [
       "(2, 2, 3)"
      ]
     },
     "execution_count": 20,
     "metadata": {},
     "output_type": "execute_result"
    }
   ],
   "source": [
    "# Shape\n",
    "arr3.shape"
   ]
  },
  {
   "cell_type": "code",
   "execution_count": 21,
   "id": "730074ad",
   "metadata": {},
   "outputs": [
    {
     "data": {
      "text/plain": [
       "3"
      ]
     },
     "execution_count": 21,
     "metadata": {},
     "output_type": "execute_result"
    }
   ],
   "source": [
    "# ndim\n",
    "arr3.ndim"
   ]
  },
  {
   "cell_type": "code",
   "execution_count": 22,
   "id": "7b437842",
   "metadata": {},
   "outputs": [
    {
     "data": {
      "text/plain": [
       "12"
      ]
     },
     "execution_count": 22,
     "metadata": {},
     "output_type": "execute_result"
    }
   ],
   "source": [
    "# Size\n",
    "arr3.size"
   ]
  },
  {
   "cell_type": "code",
   "execution_count": 23,
   "id": "84fdb5c0",
   "metadata": {},
   "outputs": [
    {
     "data": {
      "text/plain": [
       "4"
      ]
     },
     "execution_count": 23,
     "metadata": {},
     "output_type": "execute_result"
    }
   ],
   "source": [
    "# Itemsize (size of item in memory; 4 for integer & 8 for float)\n",
    "arr3.itemsize   # 4 because of integer"
   ]
  },
  {
   "cell_type": "code",
   "execution_count": 24,
   "id": "bc67ff05",
   "metadata": {},
   "outputs": [
    {
     "data": {
      "text/plain": [
       "dtype('int32')"
      ]
     },
     "execution_count": 24,
     "metadata": {},
     "output_type": "execute_result"
    }
   ],
   "source": [
    "# dtype\n",
    "arr3.dtype"
   ]
  },
  {
   "cell_type": "code",
   "execution_count": 25,
   "id": "6dba412a",
   "metadata": {},
   "outputs": [
    {
     "data": {
      "text/plain": [
       "array([[[1., 2., 3.],\n",
       "        [4., 5., 6.]],\n",
       "\n",
       "       [[3., 2., 1.],\n",
       "        [6., 5., 4.]]])"
      ]
     },
     "execution_count": 25,
     "metadata": {},
     "output_type": "execute_result"
    }
   ],
   "source": [
    "# astype (to change datatype)\n",
    "arr3 = arr3.astype('float')\n",
    "arr3"
   ]
  },
  {
   "cell_type": "code",
   "execution_count": 26,
   "id": "789bb7a8",
   "metadata": {},
   "outputs": [
    {
     "data": {
      "text/plain": [
       "dtype('float64')"
      ]
     },
     "execution_count": 26,
     "metadata": {},
     "output_type": "execute_result"
    }
   ],
   "source": [
    "arr3.dtype"
   ]
  },
  {
   "cell_type": "markdown",
   "id": "b4105b66",
   "metadata": {},
   "source": [
    "## Numpy arrays vs Python list\n",
    "\n",
    "1) Less memory\n",
    "2) Faster in execution\n",
    "3) Convenient"
   ]
  },
  {
   "cell_type": "code",
   "execution_count": 27,
   "id": "5c76b326",
   "metadata": {},
   "outputs": [],
   "source": [
    "# Less memory\n",
    "listA = list(range(100))\n",
    "arrayA = np.arange(100)"
   ]
  },
  {
   "cell_type": "code",
   "execution_count": 28,
   "id": "d7a81abf",
   "metadata": {},
   "outputs": [
    {
     "name": "stdout",
     "output_type": "stream",
     "text": [
      "Size of list is 2800 bytes.\n",
      "Size of array is 400 bytes.\n"
     ]
    }
   ],
   "source": [
    "import sys     \n",
    "# Calculating total size of list\n",
    "print('Size of list is', sys.getsizeof(60)*len(listA), 'bytes.')\n",
    "\n",
    "# Calculating total size of array\n",
    "print('Size of array is', arrayA.itemsize * arrayA.size, 'bytes.')"
   ]
  },
  {
   "cell_type": "code",
   "execution_count": 29,
   "id": "8084e022",
   "metadata": {},
   "outputs": [],
   "source": [
    "# Faster in execution\n",
    "import time"
   ]
  },
  {
   "cell_type": "code",
   "execution_count": 30,
   "id": "05ab84ee",
   "metadata": {},
   "outputs": [
    {
     "name": "stdout",
     "output_type": "stream",
     "text": [
      "Total time taken by list : 81.68343043327332 seconds\n"
     ]
    }
   ],
   "source": [
    "# Calculating total time taken by list for execution\n",
    "start_time = time.time()\n",
    "lista = list(range(100000000))\n",
    "listb = list(range(100000000,200000000))\n",
    "listc = [lista + listb for lista,listb in zip(lista,listb)]\n",
    "print(\"Total time taken by list :\", time.time() - start_time, 'seconds')"
   ]
  },
  {
   "cell_type": "code",
   "execution_count": 31,
   "id": "7b33fede",
   "metadata": {},
   "outputs": [
    {
     "name": "stdout",
     "output_type": "stream",
     "text": [
      "Total time taken by array : 1.279796838760376 seconds\n"
     ]
    }
   ],
   "source": [
    "# Calculating total time taken by array for execution\n",
    "start_time = time.time()\n",
    "arraya = np.arange(100000000)\n",
    "arrayb = np.arange(100000000,200000000)\n",
    "arrayc = arraya + arrayb\n",
    "print(\"Total time taken by array :\", time.time() - start_time, 'seconds')"
   ]
  },
  {
   "cell_type": "markdown",
   "id": "a90c7f56",
   "metadata": {},
   "source": [
    "## Indexing and slicing array\n",
    "\n",
    "Fetching one item --> Indexing\n",
    "\n",
    "Fetching multiple item --> Slicing"
   ]
  },
  {
   "cell_type": "code",
   "execution_count": 34,
   "id": "10fcff90",
   "metadata": {},
   "outputs": [
    {
     "data": {
      "text/plain": [
       "array([[ 0,  1,  2,  3],\n",
       "       [ 4,  5,  6,  7],\n",
       "       [ 8,  9, 10, 11],\n",
       "       [12, 13, 14, 15],\n",
       "       [16, 17, 18, 19],\n",
       "       [20, 21, 22, 23]])"
      ]
     },
     "execution_count": 34,
     "metadata": {},
     "output_type": "execute_result"
    }
   ],
   "source": [
    "arr13 = np.arange(24).reshape(6,4)\n",
    "arr13"
   ]
  },
  {
   "cell_type": "code",
   "execution_count": 36,
   "id": "44ac2234",
   "metadata": {},
   "outputs": [
    {
     "data": {
      "text/plain": [
       "array([ 8,  9, 10, 11])"
      ]
     },
     "execution_count": 36,
     "metadata": {},
     "output_type": "execute_result"
    }
   ],
   "source": [
    "# Fetching a row\n",
    "arr13[2]"
   ]
  },
  {
   "cell_type": "code",
   "execution_count": 43,
   "id": "69fecb70",
   "metadata": {},
   "outputs": [
    {
     "data": {
      "text/plain": [
       "array([20, 21, 22, 23])"
      ]
     },
     "execution_count": 43,
     "metadata": {},
     "output_type": "execute_result"
    }
   ],
   "source": [
    "# Fetching last row\n",
    "arr13[-1]"
   ]
  },
  {
   "cell_type": "code",
   "execution_count": 38,
   "id": "f839f829",
   "metadata": {},
   "outputs": [
    {
     "data": {
      "text/plain": [
       "array([ 2,  6, 10, 14, 18, 22])"
      ]
     },
     "execution_count": 38,
     "metadata": {},
     "output_type": "execute_result"
    }
   ],
   "source": [
    "# Fetching a column\n",
    "arr13[:,2]"
   ]
  },
  {
   "cell_type": "code",
   "execution_count": 39,
   "id": "87b0286d",
   "metadata": {},
   "outputs": [
    {
     "data": {
      "text/plain": [
       "5"
      ]
     },
     "execution_count": 39,
     "metadata": {},
     "output_type": "execute_result"
    }
   ],
   "source": [
    "# Fetching a single value\n",
    "arr13[1,1]"
   ]
  },
  {
   "cell_type": "code",
   "execution_count": 40,
   "id": "1c426601",
   "metadata": {},
   "outputs": [
    {
     "data": {
      "text/plain": [
       "array([[10, 11],\n",
       "       [14, 15]])"
      ]
     },
     "execution_count": 40,
     "metadata": {},
     "output_type": "execute_result"
    }
   ],
   "source": [
    "# Fetching multiples values\n",
    "arr13[2:4,2:4]"
   ]
  },
  {
   "cell_type": "markdown",
   "id": "e7d021cc",
   "metadata": {},
   "source": [
    "## Iterating the array\n",
    "\n",
    "1) Using loop\n",
    "2) Using nditer function (to iterate item by item)"
   ]
  },
  {
   "cell_type": "code",
   "execution_count": 45,
   "id": "c07c9158",
   "metadata": {},
   "outputs": [
    {
     "name": "stdout",
     "output_type": "stream",
     "text": [
      "[0 1 2 3]\n",
      "[4 5 6 7]\n",
      "[ 8  9 10 11]\n",
      "[12 13 14 15]\n",
      "[16 17 18 19]\n",
      "[20 21 22 23]\n"
     ]
    }
   ],
   "source": [
    "# Iterating the array using loop\n",
    "for i in arr13:\n",
    "    print(i)"
   ]
  },
  {
   "cell_type": "code",
   "execution_count": 46,
   "id": "c80442b6",
   "metadata": {},
   "outputs": [
    {
     "name": "stdout",
     "output_type": "stream",
     "text": [
      "0\n",
      "1\n",
      "2\n",
      "3\n",
      "4\n",
      "5\n",
      "6\n",
      "7\n",
      "8\n",
      "9\n",
      "10\n",
      "11\n",
      "12\n",
      "13\n",
      "14\n",
      "15\n",
      "16\n",
      "17\n",
      "18\n",
      "19\n",
      "20\n",
      "21\n",
      "22\n",
      "23\n"
     ]
    }
   ],
   "source": [
    "# Iterating the array using nditer function (item by item)\n",
    "for i in np.nditer(arr13):\n",
    "    print(i)"
   ]
  },
  {
   "cell_type": "markdown",
   "id": "fa0c0681",
   "metadata": {},
   "source": [
    "## Numpy Array Basic Operations\n",
    "\n",
    "1) Subtraction\n",
    "2) Addition (vector addition)\n",
    "3) Multiplication (vector multiplication)\n",
    "4) Division\n",
    "5) Less than \n",
    "6) Greater than\n",
    "7) Square\n",
    "8) Cube\n",
    "9) Scalar addition\n",
    "10) Scalar multiplication\n",
    "11) Dot product"
   ]
  },
  {
   "cell_type": "code",
   "execution_count": 48,
   "id": "0102618f",
   "metadata": {},
   "outputs": [],
   "source": [
    "array01 = np.array([1,3,5,7,9])\n",
    "array02 = np.array([2,4,6,8,10])"
   ]
  },
  {
   "cell_type": "code",
   "execution_count": 55,
   "id": "e4fd3d24",
   "metadata": {},
   "outputs": [
    {
     "data": {
      "text/plain": [
       "array([-1, -1, -1, -1, -1])"
      ]
     },
     "execution_count": 55,
     "metadata": {},
     "output_type": "execute_result"
    }
   ],
   "source": [
    "# Subtraction\n",
    "array01 - array02"
   ]
  },
  {
   "cell_type": "code",
   "execution_count": 51,
   "id": "7b57220d",
   "metadata": {},
   "outputs": [
    {
     "data": {
      "text/plain": [
       "array([ 3,  7, 11, 15, 19])"
      ]
     },
     "execution_count": 51,
     "metadata": {},
     "output_type": "execute_result"
    }
   ],
   "source": [
    "# Addition (vector addition)\n",
    "array01 + array02"
   ]
  },
  {
   "cell_type": "code",
   "execution_count": 52,
   "id": "e2ae9a64",
   "metadata": {},
   "outputs": [
    {
     "data": {
      "text/plain": [
       "array([ 2, 12, 30, 56, 90])"
      ]
     },
     "execution_count": 52,
     "metadata": {},
     "output_type": "execute_result"
    }
   ],
   "source": [
    "# Multiplication (vector multiplication)\n",
    "array01 * array02"
   ]
  },
  {
   "cell_type": "code",
   "execution_count": 53,
   "id": "63582d5f",
   "metadata": {},
   "outputs": [
    {
     "data": {
      "text/plain": [
       "array([0.5       , 0.75      , 0.83333333, 0.875     , 0.9       ])"
      ]
     },
     "execution_count": 53,
     "metadata": {},
     "output_type": "execute_result"
    }
   ],
   "source": [
    "# Division\n",
    "array01 / array02"
   ]
  },
  {
   "cell_type": "code",
   "execution_count": 58,
   "id": "56e457ae",
   "metadata": {},
   "outputs": [
    {
     "data": {
      "text/plain": [
       "array([False, False, False,  True,  True])"
      ]
     },
     "execution_count": 58,
     "metadata": {},
     "output_type": "execute_result"
    }
   ],
   "source": [
    "# Comparing each item of array whether it is greater than given value or not\n",
    "array01 > 5"
   ]
  },
  {
   "cell_type": "code",
   "execution_count": 60,
   "id": "f3e9c00c",
   "metadata": {},
   "outputs": [
    {
     "data": {
      "text/plain": [
       "array([ True,  True,  True, False, False])"
      ]
     },
     "execution_count": 60,
     "metadata": {},
     "output_type": "execute_result"
    }
   ],
   "source": [
    "# Comparing each item of array whether it is lesser than given value or not\n",
    "array01 < 6"
   ]
  },
  {
   "cell_type": "code",
   "execution_count": 62,
   "id": "20c25303",
   "metadata": {},
   "outputs": [
    {
     "data": {
      "text/plain": [
       "array([  1,  27, 125, 343, 729], dtype=int32)"
      ]
     },
     "execution_count": 62,
     "metadata": {},
     "output_type": "execute_result"
    }
   ],
   "source": [
    "# Taking square of array\n",
    "array01 ** 2"
   ]
  },
  {
   "cell_type": "code",
   "execution_count": 63,
   "id": "bde4761f",
   "metadata": {},
   "outputs": [
    {
     "data": {
      "text/plain": [
       "array([   8,   64,  216,  512, 1000], dtype=int32)"
      ]
     },
     "execution_count": 63,
     "metadata": {},
     "output_type": "execute_result"
    }
   ],
   "source": [
    "# Taking cube of array\n",
    "array02 ** 3"
   ]
  },
  {
   "cell_type": "code",
   "execution_count": 65,
   "id": "745ccfb1",
   "metadata": {},
   "outputs": [
    {
     "data": {
      "text/plain": [
       "array([ 6,  8, 10, 12, 14])"
      ]
     },
     "execution_count": 65,
     "metadata": {},
     "output_type": "execute_result"
    }
   ],
   "source": [
    "# Scalar addition\n",
    "array01 + 5"
   ]
  },
  {
   "cell_type": "code",
   "execution_count": 66,
   "id": "e83154fb",
   "metadata": {},
   "outputs": [
    {
     "data": {
      "text/plain": [
       "array([ 6, 12, 18, 24, 30])"
      ]
     },
     "execution_count": 66,
     "metadata": {},
     "output_type": "execute_result"
    }
   ],
   "source": [
    "# Scalar multiplication\n",
    "array02 * 3"
   ]
  },
  {
   "cell_type": "code",
   "execution_count": 91,
   "id": "8e079558",
   "metadata": {},
   "outputs": [
    {
     "data": {
      "text/plain": [
       "array([[ 906,  973, 1040],\n",
       "       [ 960, 1031, 1102],\n",
       "       [1014, 1089, 1164]])"
      ]
     },
     "execution_count": 91,
     "metadata": {},
     "output_type": "execute_result"
    }
   ],
   "source": [
    "# Dot product of two array\n",
    "array03 = np.arange(1,12,2).reshape(3,2)\n",
    "array04 = np.arange(2,13,2).reshape(2,3)\n",
    "array05 = array03.dot(array04)\n",
    "array05"
   ]
  },
  {
   "cell_type": "markdown",
   "id": "16cc4ae5",
   "metadata": {},
   "source": [
    "## Numpy array unary operations\n",
    "\n",
    "1) Min\n",
    "2) Max\n",
    "3) Sum"
   ]
  },
  {
   "cell_type": "code",
   "execution_count": 10,
   "id": "50b0f231",
   "metadata": {},
   "outputs": [
    {
     "data": {
      "text/plain": [
       "array([[ 2,  6,  9],\n",
       "       [ 4,  6,  1],\n",
       "       [11,  4,  2]])"
      ]
     },
     "execution_count": 10,
     "metadata": {},
     "output_type": "execute_result"
    }
   ],
   "source": [
    "array06 = np.array([[2,6,9],[4,6,1],[11,4,2]])\n",
    "array06"
   ]
  },
  {
   "cell_type": "code",
   "execution_count": 93,
   "id": "d8beaf4a",
   "metadata": {},
   "outputs": [
    {
     "data": {
      "text/plain": [
       "2"
      ]
     },
     "execution_count": 93,
     "metadata": {},
     "output_type": "execute_result"
    }
   ],
   "source": [
    "# Minimum value in array\n",
    "array06.min()"
   ]
  },
  {
   "cell_type": "code",
   "execution_count": 97,
   "id": "6142a680",
   "metadata": {},
   "outputs": [
    {
     "data": {
      "text/plain": [
       "array([2, 4, 1])"
      ]
     },
     "execution_count": 97,
     "metadata": {},
     "output_type": "execute_result"
    }
   ],
   "source": [
    "# Minimum value in array column wise\n",
    "array06.min(axis=0)"
   ]
  },
  {
   "cell_type": "code",
   "execution_count": 98,
   "id": "eab2f329",
   "metadata": {},
   "outputs": [
    {
     "data": {
      "text/plain": [
       "array([2, 1, 2])"
      ]
     },
     "execution_count": 98,
     "metadata": {},
     "output_type": "execute_result"
    }
   ],
   "source": [
    "# Minimum value in array row wise\n",
    "array06.min(axis=1)"
   ]
  },
  {
   "cell_type": "code",
   "execution_count": 100,
   "id": "f9aadb04",
   "metadata": {},
   "outputs": [
    {
     "data": {
      "text/plain": [
       "11"
      ]
     },
     "execution_count": 100,
     "metadata": {},
     "output_type": "execute_result"
    }
   ],
   "source": [
    "# Maximum value in array\n",
    "array06.max()"
   ]
  },
  {
   "cell_type": "code",
   "execution_count": 101,
   "id": "6e876ea5",
   "metadata": {},
   "outputs": [
    {
     "data": {
      "text/plain": [
       "array([11,  6,  9])"
      ]
     },
     "execution_count": 101,
     "metadata": {},
     "output_type": "execute_result"
    }
   ],
   "source": [
    "# Maximum value in array column wise\n",
    "array06.max(axis=0)"
   ]
  },
  {
   "cell_type": "code",
   "execution_count": 102,
   "id": "ec493f5f",
   "metadata": {},
   "outputs": [
    {
     "data": {
      "text/plain": [
       "array([ 9,  6, 11])"
      ]
     },
     "execution_count": 102,
     "metadata": {},
     "output_type": "execute_result"
    }
   ],
   "source": [
    "# Maximum value in array row wise\n",
    "array06.max(axis=1)"
   ]
  },
  {
   "cell_type": "code",
   "execution_count": 103,
   "id": "1fb46404",
   "metadata": {},
   "outputs": [
    {
     "data": {
      "text/plain": [
       "45"
      ]
     },
     "execution_count": 103,
     "metadata": {},
     "output_type": "execute_result"
    }
   ],
   "source": [
    "# Sum of array\n",
    "array06.sum()"
   ]
  },
  {
   "cell_type": "code",
   "execution_count": 105,
   "id": "7e4d57dd",
   "metadata": {},
   "outputs": [
    {
     "data": {
      "text/plain": [
       "array([17, 16, 12])"
      ]
     },
     "execution_count": 105,
     "metadata": {},
     "output_type": "execute_result"
    }
   ],
   "source": [
    "# Sum of array column wise\n",
    "array06.sum(axis=0)"
   ]
  },
  {
   "cell_type": "code",
   "execution_count": 106,
   "id": "3c7fe9cb",
   "metadata": {},
   "outputs": [
    {
     "data": {
      "text/plain": [
       "array([17, 11, 17])"
      ]
     },
     "execution_count": 106,
     "metadata": {},
     "output_type": "execute_result"
    }
   ],
   "source": [
    "# Sum of array row wise\n",
    "array06.sum(axis=1)"
   ]
  },
  {
   "cell_type": "markdown",
   "id": "af8355c7",
   "metadata": {},
   "source": [
    "## Numpy Array Universal Functions\n",
    "\n",
    "1) Exponent\n",
    "2) Square root\n",
    "3) sin/cos/tan\n",
    "4) Median\n",
    "5) Mean\n",
    "6) Average\n",
    "7) Standard Deviation"
   ]
  },
  {
   "cell_type": "code",
   "execution_count": 3,
   "id": "4cd6cac2",
   "metadata": {},
   "outputs": [
    {
     "data": {
      "text/plain": [
       "array([[0, 1, 2, 3],\n",
       "       [4, 5, 6, 7]])"
      ]
     },
     "execution_count": 3,
     "metadata": {},
     "output_type": "execute_result"
    }
   ],
   "source": [
    "array07 = np.arange(8).reshape(2,4)\n",
    "array07"
   ]
  },
  {
   "cell_type": "code",
   "execution_count": 4,
   "id": "3ec36323",
   "metadata": {},
   "outputs": [
    {
     "data": {
      "text/plain": [
       "array([[1.00000000e+00, 2.71828183e+00, 7.38905610e+00, 2.00855369e+01],\n",
       "       [5.45981500e+01, 1.48413159e+02, 4.03428793e+02, 1.09663316e+03]])"
      ]
     },
     "execution_count": 4,
     "metadata": {},
     "output_type": "execute_result"
    }
   ],
   "source": [
    "# Exponent\n",
    "np.exp(array07)"
   ]
  },
  {
   "cell_type": "code",
   "execution_count": 5,
   "id": "7b6553ee",
   "metadata": {},
   "outputs": [
    {
     "data": {
      "text/plain": [
       "array([[0.        , 1.        , 1.41421356, 1.73205081],\n",
       "       [2.        , 2.23606798, 2.44948974, 2.64575131]])"
      ]
     },
     "execution_count": 5,
     "metadata": {},
     "output_type": "execute_result"
    }
   ],
   "source": [
    "# Square root\n",
    "np.sqrt(array07)"
   ]
  },
  {
   "cell_type": "code",
   "execution_count": 6,
   "id": "d5ba6b57",
   "metadata": {},
   "outputs": [
    {
     "data": {
      "text/plain": [
       "array([[ 0.        ,  0.84147098,  0.90929743,  0.14112001],\n",
       "       [-0.7568025 , -0.95892427, -0.2794155 ,  0.6569866 ]])"
      ]
     },
     "execution_count": 6,
     "metadata": {},
     "output_type": "execute_result"
    }
   ],
   "source": [
    "# sin function\n",
    "np.sin(array07)"
   ]
  },
  {
   "cell_type": "code",
   "execution_count": 7,
   "id": "68bbcff3",
   "metadata": {},
   "outputs": [
    {
     "data": {
      "text/plain": [
       "array([[ 1.        ,  0.54030231, -0.41614684, -0.9899925 ],\n",
       "       [-0.65364362,  0.28366219,  0.96017029,  0.75390225]])"
      ]
     },
     "execution_count": 7,
     "metadata": {},
     "output_type": "execute_result"
    }
   ],
   "source": [
    "# cos function\n",
    "np.cos(array07)"
   ]
  },
  {
   "cell_type": "code",
   "execution_count": 8,
   "id": "64c7cd27",
   "metadata": {},
   "outputs": [
    {
     "data": {
      "text/plain": [
       "array([[ 0.        ,  1.55740772, -2.18503986, -0.14254654],\n",
       "       [ 1.15782128, -3.38051501, -0.29100619,  0.87144798]])"
      ]
     },
     "execution_count": 8,
     "metadata": {},
     "output_type": "execute_result"
    }
   ],
   "source": [
    "#ntan function\n",
    "np.tan(array07)"
   ]
  },
  {
   "cell_type": "code",
   "execution_count": 9,
   "id": "e05083fd",
   "metadata": {},
   "outputs": [
    {
     "data": {
      "text/plain": [
       "3.5"
      ]
     },
     "execution_count": 9,
     "metadata": {},
     "output_type": "execute_result"
    }
   ],
   "source": [
    "# Median\n",
    "np.median(array07)"
   ]
  },
  {
   "cell_type": "code",
   "execution_count": 16,
   "id": "e5d94b65",
   "metadata": {},
   "outputs": [
    {
     "data": {
      "text/plain": [
       "3.5"
      ]
     },
     "execution_count": 16,
     "metadata": {},
     "output_type": "execute_result"
    }
   ],
   "source": [
    "# Mean\n",
    "np.mean(array07)"
   ]
  },
  {
   "cell_type": "code",
   "execution_count": 17,
   "id": "37655f44",
   "metadata": {},
   "outputs": [
    {
     "data": {
      "text/plain": [
       "3.5"
      ]
     },
     "execution_count": 17,
     "metadata": {},
     "output_type": "execute_result"
    }
   ],
   "source": [
    "# Average\n",
    "np.average(array07)"
   ]
  },
  {
   "cell_type": "code",
   "execution_count": 23,
   "id": "fbe9e5f9",
   "metadata": {},
   "outputs": [
    {
     "data": {
      "text/plain": [
       "2.29128784747792"
      ]
     },
     "execution_count": 23,
     "metadata": {},
     "output_type": "execute_result"
    }
   ],
   "source": [
    "# Standard Deviation\n",
    "np.std(array07)"
   ]
  },
  {
   "cell_type": "markdown",
   "id": "ef47db11",
   "metadata": {},
   "source": [
    "## Reshaping numpy array\n",
    "\n",
    "1) Ravel\n",
    "2) Reshape\n",
    "3) Transpose\n",
    "4) Stacking\n",
    "5) Splitting"
   ]
  },
  {
   "cell_type": "code",
   "execution_count": 27,
   "id": "6d50cb60",
   "metadata": {},
   "outputs": [
    {
     "data": {
      "text/plain": [
       "array([[0, 1, 2, 3],\n",
       "       [4, 5, 6, 7]])"
      ]
     },
     "execution_count": 27,
     "metadata": {},
     "output_type": "execute_result"
    }
   ],
   "source": [
    "array07"
   ]
  },
  {
   "cell_type": "code",
   "execution_count": 28,
   "id": "92c237c9",
   "metadata": {},
   "outputs": [
    {
     "data": {
      "text/plain": [
       "array([0, 1, 2, 3, 4, 5, 6, 7])"
      ]
     },
     "execution_count": 28,
     "metadata": {},
     "output_type": "execute_result"
    }
   ],
   "source": [
    "# Ravel (Higher dimension to one dimension)\n",
    "array07.ravel()"
   ]
  },
  {
   "cell_type": "code",
   "execution_count": 33,
   "id": "e8a548af",
   "metadata": {},
   "outputs": [
    {
     "data": {
      "text/plain": [
       "array([[0],\n",
       "       [1],\n",
       "       [2],\n",
       "       [3],\n",
       "       [4],\n",
       "       [5],\n",
       "       [6],\n",
       "       [7]])"
      ]
     },
     "execution_count": 33,
     "metadata": {},
     "output_type": "execute_result"
    }
   ],
   "source": [
    "# Reshape (Reshape the numpy array)\n",
    "array07.reshape(8,1)"
   ]
  },
  {
   "cell_type": "code",
   "execution_count": 32,
   "id": "6e0e4d17",
   "metadata": {},
   "outputs": [
    {
     "data": {
      "text/plain": [
       "array([[[0, 1],\n",
       "        [2, 3]],\n",
       "\n",
       "       [[4, 5],\n",
       "        [6, 7]]])"
      ]
     },
     "execution_count": 32,
     "metadata": {},
     "output_type": "execute_result"
    }
   ],
   "source": [
    "# Reshape (Reshape the numpy array)\n",
    "array07.reshape(2,2,2)"
   ]
  },
  {
   "cell_type": "code",
   "execution_count": 34,
   "id": "b051cdf4",
   "metadata": {},
   "outputs": [
    {
     "data": {
      "text/plain": [
       "array([[0, 4],\n",
       "       [1, 5],\n",
       "       [2, 6],\n",
       "       [3, 7]])"
      ]
     },
     "execution_count": 34,
     "metadata": {},
     "output_type": "execute_result"
    }
   ],
   "source": [
    "# Transpose ( interchanging rows into columns or columns into rows)\n",
    "array07.transpose()"
   ]
  },
  {
   "cell_type": "code",
   "execution_count": 35,
   "id": "fae4c9cf",
   "metadata": {},
   "outputs": [
    {
     "data": {
      "text/plain": [
       "array([[0, 1, 2, 3],\n",
       "       [4, 5, 6, 7]])"
      ]
     },
     "execution_count": 35,
     "metadata": {},
     "output_type": "execute_result"
    }
   ],
   "source": [
    "array08 = array07.copy()\n",
    "array08"
   ]
  },
  {
   "cell_type": "code",
   "execution_count": 38,
   "id": "52958dae",
   "metadata": {},
   "outputs": [
    {
     "data": {
      "text/plain": [
       "array([[0, 1, 2, 3, 0, 1, 2, 3],\n",
       "       [4, 5, 6, 7, 4, 5, 6, 7]])"
      ]
     },
     "execution_count": 38,
     "metadata": {},
     "output_type": "execute_result"
    }
   ],
   "source": [
    "# Stacking arrays horizontally\n",
    "np.hstack((array07, array08))"
   ]
  },
  {
   "cell_type": "code",
   "execution_count": 39,
   "id": "1e52954b",
   "metadata": {},
   "outputs": [
    {
     "data": {
      "text/plain": [
       "array([[0, 1, 2, 3],\n",
       "       [4, 5, 6, 7],\n",
       "       [0, 1, 2, 3],\n",
       "       [4, 5, 6, 7]])"
      ]
     },
     "execution_count": 39,
     "metadata": {},
     "output_type": "execute_result"
    }
   ],
   "source": [
    "# Stacking array vertically\n",
    "np.vstack((array07,array08))"
   ]
  },
  {
   "cell_type": "code",
   "execution_count": 45,
   "id": "78bfc835",
   "metadata": {},
   "outputs": [
    {
     "data": {
      "text/plain": [
       "[array([[0],\n",
       "        [4]]),\n",
       " array([[1],\n",
       "        [5]]),\n",
       " array([[2],\n",
       "        [6]]),\n",
       " array([[3],\n",
       "        [7]])]"
      ]
     },
     "execution_count": 45,
     "metadata": {},
     "output_type": "execute_result"
    }
   ],
   "source": [
    "# Splitting the array in horizontal manner\n",
    "np.hsplit(array08,4)"
   ]
  },
  {
   "cell_type": "code",
   "execution_count": 46,
   "id": "001faabf",
   "metadata": {},
   "outputs": [
    {
     "data": {
      "text/plain": [
       "[array([[0, 1, 2, 3]]), array([[4, 5, 6, 7]])]"
      ]
     },
     "execution_count": 46,
     "metadata": {},
     "output_type": "execute_result"
    }
   ],
   "source": [
    "# Splitting the array in vertical manner\n",
    "np.vsplit(array08,2)"
   ]
  },
  {
   "cell_type": "markdown",
   "id": "cfbd3ff4",
   "metadata": {},
   "source": [
    "## Fancy indexing"
   ]
  },
  {
   "cell_type": "code",
   "execution_count": 59,
   "id": "01fcc691",
   "metadata": {},
   "outputs": [
    {
     "data": {
      "text/plain": [
       "array([[ 0,  1,  2,  3,  4,  5],\n",
       "       [ 6,  7,  8,  9, 10, 11],\n",
       "       [12, 13, 14, 15, 16, 17],\n",
       "       [18, 19, 20, 21, 22, 23],\n",
       "       [24, 25, 26, 27, 28, 29],\n",
       "       [30, 31, 32, 33, 34, 35]])"
      ]
     },
     "execution_count": 59,
     "metadata": {},
     "output_type": "execute_result"
    }
   ],
   "source": [
    "array09 = np.arange(0,36).reshape(6,6)\n",
    "array09"
   ]
  },
  {
   "cell_type": "code",
   "execution_count": 49,
   "id": "7f045a9c",
   "metadata": {},
   "outputs": [
    {
     "data": {
      "text/plain": [
       "array([[ 0,  1,  2,  3,  4,  5],\n",
       "       [30, 31, 32, 33, 34, 35]])"
      ]
     },
     "execution_count": 49,
     "metadata": {},
     "output_type": "execute_result"
    }
   ],
   "source": [
    "# Fetching discontinuous rows\n",
    "array09[[0,5]]"
   ]
  },
  {
   "cell_type": "code",
   "execution_count": 60,
   "id": "ffa33644",
   "metadata": {},
   "outputs": [
    {
     "data": {
      "text/plain": [
       "array([[ 1,  3,  5],\n",
       "       [ 7,  9, 11],\n",
       "       [13, 15, 17],\n",
       "       [19, 21, 23],\n",
       "       [25, 27, 29],\n",
       "       [31, 33, 35]])"
      ]
     },
     "execution_count": 60,
     "metadata": {},
     "output_type": "execute_result"
    }
   ],
   "source": [
    "# Fetching discontinuous columns\n",
    "array09[:,[1,3,5]]"
   ]
  },
  {
   "cell_type": "markdown",
   "id": "c8eccf45",
   "metadata": {},
   "source": [
    "## Indexing using Boolean Array"
   ]
  },
  {
   "cell_type": "code",
   "execution_count": 62,
   "id": "06bd6d31",
   "metadata": {},
   "outputs": [
    {
     "data": {
      "text/plain": [
       "array([[39, 11, 84, 63, 60],\n",
       "       [87,  7, 76, 69, 74],\n",
       "       [97, 16, 98, 22, 65],\n",
       "       [19, 65, 78, 79, 73],\n",
       "       [52, 46, 17, 78, 19]])"
      ]
     },
     "execution_count": 62,
     "metadata": {},
     "output_type": "execute_result"
    }
   ],
   "source": [
    "arr1 = np.random.randint(low=1, high=100, size=25).reshape(5,5)\n",
    "arr1"
   ]
  },
  {
   "cell_type": "code",
   "execution_count": 67,
   "id": "2f6ba2c9",
   "metadata": {},
   "outputs": [
    {
     "ename": "SyntaxError",
     "evalue": "invalid syntax (1374680253.py, line 1)",
     "output_type": "error",
     "traceback": [
      "\u001b[1;36m  Input \u001b[1;32mIn [67]\u001b[1;36m\u001b[0m\n\u001b[1;33m    Filtering array with the condition that number are greater than 50\u001b[0m\n\u001b[1;37m              ^\u001b[0m\n\u001b[1;31mSyntaxError\u001b[0m\u001b[1;31m:\u001b[0m invalid syntax\n"
     ]
    }
   ],
   "source": [
    "# Filtering array for the values which are greater than 50\n",
    "arr1[arr1>50]"
   ]
  },
  {
   "cell_type": "code",
   "execution_count": 64,
   "id": "f9340086",
   "metadata": {},
   "outputs": [
    {
     "data": {
      "text/plain": [
       "array([63, 87, 69, 97, 65, 65, 79, 73])"
      ]
     },
     "execution_count": 64,
     "metadata": {},
     "output_type": "execute_result"
    }
   ],
   "source": [
    "# Filtering array for the values which are greater than 50 and are odd\n",
    "arr1[(arr1>50) & (arr1 % 2 != 0)]"
   ]
  },
  {
   "cell_type": "code",
   "execution_count": 66,
   "id": "9d574b2e",
   "metadata": {},
   "outputs": [
    {
     "data": {
      "text/plain": [
       "array([[39, 11, 84,  0, 60],\n",
       "       [ 0,  7, 76,  0, 74],\n",
       "       [ 0, 16, 98, 22,  0],\n",
       "       [19,  0, 78,  0,  0],\n",
       "       [52, 46, 17, 78, 19]])"
      ]
     },
     "execution_count": 66,
     "metadata": {},
     "output_type": "execute_result"
    }
   ],
   "source": [
    "# Filtering array for the values which are greater than 50 and are odd and then setting them 0 \n",
    "arr1[(arr1>50) & (arr1 % 2 != 0)] = 0\n",
    "arr1"
   ]
  },
  {
   "cell_type": "markdown",
   "id": "db6721e3",
   "metadata": {},
   "source": [
    "## Some other important numpy functions"
   ]
  },
  {
   "cell_type": "code",
   "execution_count": 6,
   "id": "81eb8096",
   "metadata": {},
   "outputs": [
    {
     "data": {
      "text/plain": [
       "0.666057260534201"
      ]
     },
     "execution_count": 6,
     "metadata": {},
     "output_type": "execute_result"
    }
   ],
   "source": [
    "np.random.random()     # It gives random number each time we run."
   ]
  },
  {
   "cell_type": "code",
   "execution_count": 14,
   "id": "61689bbf",
   "metadata": {},
   "outputs": [
    {
     "data": {
      "text/plain": [
       "0.417022004702574"
      ]
     },
     "execution_count": 14,
     "metadata": {},
     "output_type": "execute_result"
    }
   ],
   "source": [
    "np.random.seed(1)     # It will give same random number each time we run.\n",
    "np.random.random()"
   ]
  },
  {
   "cell_type": "code",
   "execution_count": 16,
   "id": "6ababc80",
   "metadata": {},
   "outputs": [
    {
     "data": {
      "text/plain": [
       "20.643893921305896"
      ]
     },
     "execution_count": 16,
     "metadata": {},
     "output_type": "execute_result"
    }
   ],
   "source": [
    "np.random.uniform(12,24)   # It will give a random number within provided range"
   ]
  },
  {
   "cell_type": "code",
   "execution_count": 17,
   "id": "e0fb5cb7",
   "metadata": {},
   "outputs": [
    {
     "data": {
      "text/plain": [
       "array([ 1.01132311, 30.93092469, 15.52883319, 10.14152088, 19.43976093,\n",
       "       35.21051198, 40.27997995, 54.34285667, 42.50025693, 68.83673054])"
      ]
     },
     "execution_count": 17,
     "metadata": {},
     "output_type": "execute_result"
    }
   ],
   "source": [
    "np.random.uniform(1,100,10)    # Third parameter is for size; in this case it will give an array of 10 values"
   ]
  },
  {
   "cell_type": "code",
   "execution_count": 18,
   "id": "44571a0f",
   "metadata": {},
   "outputs": [
    {
     "data": {
      "text/plain": [
       "12"
      ]
     },
     "execution_count": 18,
     "metadata": {},
     "output_type": "execute_result"
    }
   ],
   "source": [
    "np.random.randint(1,100)    # This will give integer random value instead of floating point"
   ]
  },
  {
   "cell_type": "code",
   "execution_count": 19,
   "id": "ff314280",
   "metadata": {},
   "outputs": [
    {
     "data": {
      "text/plain": [
       "array([29, 30, 15, 51, 69, 88, 88, 95, 97, 87, 14, 10,  8, 64, 62, 23, 58,\n",
       "        2,  1])"
      ]
     },
     "execution_count": 19,
     "metadata": {},
     "output_type": "execute_result"
    }
   ],
   "source": [
    "np.random.randint(1,100,19)    # Third parameter is for size; in this case it will give an array of 19 values"
   ]
  },
  {
   "cell_type": "code",
   "execution_count": 21,
   "id": "d8b901d4",
   "metadata": {},
   "outputs": [
    {
     "data": {
      "text/plain": [
       "array([48.5195465 ,  6.42229899,  4.03084873, 10.83118182, 47.66341018,\n",
       "        7.11403536, 23.8975965 , 51.81025557, 29.72459482, 37.97760993])"
      ]
     },
     "execution_count": 21,
     "metadata": {},
     "output_type": "execute_result"
    }
   ],
   "source": [
    "x = np.random.uniform(2,54,10)\n",
    "x"
   ]
  },
  {
   "cell_type": "code",
   "execution_count": 23,
   "id": "e98d0538",
   "metadata": {},
   "outputs": [
    {
     "data": {
      "text/plain": [
       "7"
      ]
     },
     "execution_count": 23,
     "metadata": {},
     "output_type": "execute_result"
    }
   ],
   "source": [
    "np.argmax(x)    # It will give index of largest number in a array"
   ]
  },
  {
   "cell_type": "code",
   "execution_count": 24,
   "id": "dcd00b62",
   "metadata": {},
   "outputs": [
    {
     "data": {
      "text/plain": [
       "2"
      ]
     },
     "execution_count": 24,
     "metadata": {},
     "output_type": "execute_result"
    }
   ],
   "source": [
    "np.argmin(x)    # It will give index of smallest number in a "
   ]
  },
  {
   "cell_type": "code",
   "execution_count": 25,
   "id": "0414117a",
   "metadata": {},
   "outputs": [
    {
     "data": {
      "text/plain": [
       "array([18, 12, 13, 27, 21])"
      ]
     },
     "execution_count": 25,
     "metadata": {},
     "output_type": "execute_result"
    }
   ],
   "source": [
    "y = np.random.randint(1,30,5)\n",
    "y"
   ]
  },
  {
   "cell_type": "code",
   "execution_count": 27,
   "id": "ee44d031",
   "metadata": {},
   "outputs": [
    {
     "data": {
      "text/plain": [
       "array([ 1,  1, -1, -1, -1])"
      ]
     },
     "execution_count": 27,
     "metadata": {},
     "output_type": "execute_result"
    }
   ],
   "source": [
    "np.where(y%2==1,-1,1)    # It actually is like this [np.where(condition,if true,if false)]"
   ]
  },
  {
   "cell_type": "code",
   "execution_count": 28,
   "id": "c9855499",
   "metadata": {},
   "outputs": [
    {
     "data": {
      "text/plain": [
       "array([17, 14, 20, 10, 19])"
      ]
     },
     "execution_count": 28,
     "metadata": {},
     "output_type": "execute_result"
    }
   ],
   "source": [
    "z = np.random.randint(1,30,5)\n",
    "z"
   ]
  },
  {
   "cell_type": "code",
   "execution_count": 30,
   "id": "229be6e0",
   "metadata": {},
   "outputs": [
    {
     "data": {
      "text/plain": [
       "array([10, 14, 17, 19, 20])"
      ]
     },
     "execution_count": 30,
     "metadata": {},
     "output_type": "execute_result"
    }
   ],
   "source": [
    "z = np.sort(z)    # Sorting the array\n",
    "z"
   ]
  },
  {
   "cell_type": "code",
   "execution_count": 31,
   "id": "33e15a66",
   "metadata": {},
   "outputs": [
    {
     "data": {
      "text/plain": [
       "13.2"
      ]
     },
     "execution_count": 31,
     "metadata": {},
     "output_type": "execute_result"
    }
   ],
   "source": [
    "np.percentile(z,20) \n",
    "# NumPy percentile() function in Python is used to compute the nth percentile of the array elements along the specified axis. \n",
    "# We basically use percentile in statistics which gives you a number that describes the value that a given percent of the values\n",
    "# are lower than."
   ]
  },
  {
   "cell_type": "code",
   "execution_count": 32,
   "id": "5737ae4f",
   "metadata": {},
   "outputs": [
    {
     "data": {
      "text/plain": [
       "20.0"
      ]
     },
     "execution_count": 32,
     "metadata": {},
     "output_type": "execute_result"
    }
   ],
   "source": [
    "np.percentile(z,100)"
   ]
  },
  {
   "cell_type": "code",
   "execution_count": null,
   "id": "0696f2bf",
   "metadata": {},
   "outputs": [],
   "source": []
  }
 ],
 "metadata": {
  "kernelspec": {
   "display_name": "Python 3 (ipykernel)",
   "language": "python",
   "name": "python3"
  },
  "language_info": {
   "codemirror_mode": {
    "name": "ipython",
    "version": 3
   },
   "file_extension": ".py",
   "mimetype": "text/x-python",
   "name": "python",
   "nbconvert_exporter": "python",
   "pygments_lexer": "ipython3",
   "version": "3.9.12"
  }
 },
 "nbformat": 4,
 "nbformat_minor": 5
}
