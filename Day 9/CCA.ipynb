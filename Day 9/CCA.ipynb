{
 "cells": [
  {
   "cell_type": "markdown",
   "id": "674fd116",
   "metadata": {},
   "source": [
    "# Importing libraries"
   ]
  },
  {
   "cell_type": "code",
   "execution_count": 24,
   "id": "98c0c653",
   "metadata": {},
   "outputs": [],
   "source": [
    "# Import the pandas library and alias it as 'pd'\n",
    "import pandas as pd\n",
    "\n",
    "# Import the numpy library and alias it as 'np'\n",
    "import numpy as np\n",
    "\n",
    "# Import the matplotlib.pyplot module and alias it as 'plt'\n",
    "import matplotlib.pyplot as plt"
   ]
  },
  {
   "cell_type": "markdown",
   "id": "3ffc54b0",
   "metadata": {},
   "source": [
    "# Reading the dataset"
   ]
  },
  {
   "cell_type": "code",
   "execution_count": 25,
   "id": "03a4ff40",
   "metadata": {},
   "outputs": [
    {
     "data": {
      "text/html": [
       "<div>\n",
       "<style scoped>\n",
       "    .dataframe tbody tr th:only-of-type {\n",
       "        vertical-align: middle;\n",
       "    }\n",
       "\n",
       "    .dataframe tbody tr th {\n",
       "        vertical-align: top;\n",
       "    }\n",
       "\n",
       "    .dataframe thead th {\n",
       "        text-align: right;\n",
       "    }\n",
       "</style>\n",
       "<table border=\"1\" class=\"dataframe\">\n",
       "  <thead>\n",
       "    <tr style=\"text-align: right;\">\n",
       "      <th></th>\n",
       "      <th>enrollee_id</th>\n",
       "      <th>city</th>\n",
       "      <th>city_development_index</th>\n",
       "      <th>gender</th>\n",
       "      <th>relevent_experience</th>\n",
       "      <th>enrolled_university</th>\n",
       "      <th>education_level</th>\n",
       "      <th>major_discipline</th>\n",
       "      <th>experience</th>\n",
       "      <th>company_size</th>\n",
       "      <th>company_type</th>\n",
       "      <th>training_hours</th>\n",
       "      <th>target</th>\n",
       "    </tr>\n",
       "  </thead>\n",
       "  <tbody>\n",
       "    <tr>\n",
       "      <th>17686</th>\n",
       "      <td>11312</td>\n",
       "      <td>city_160</td>\n",
       "      <td>0.920</td>\n",
       "      <td>Female</td>\n",
       "      <td>Has relevent experience</td>\n",
       "      <td>no_enrollment</td>\n",
       "      <td>Graduate</td>\n",
       "      <td>STEM</td>\n",
       "      <td>9.0</td>\n",
       "      <td>50-99</td>\n",
       "      <td>Pvt Ltd</td>\n",
       "      <td>105.0</td>\n",
       "      <td>0.0</td>\n",
       "    </tr>\n",
       "    <tr>\n",
       "      <th>16086</th>\n",
       "      <td>4493</td>\n",
       "      <td>city_28</td>\n",
       "      <td>0.939</td>\n",
       "      <td>Male</td>\n",
       "      <td>Has relevent experience</td>\n",
       "      <td>no_enrollment</td>\n",
       "      <td>Graduate</td>\n",
       "      <td>STEM</td>\n",
       "      <td>7.0</td>\n",
       "      <td>1000-4999</td>\n",
       "      <td>Pvt Ltd</td>\n",
       "      <td>29.0</td>\n",
       "      <td>0.0</td>\n",
       "    </tr>\n",
       "    <tr>\n",
       "      <th>7334</th>\n",
       "      <td>32293</td>\n",
       "      <td>city_16</td>\n",
       "      <td>0.910</td>\n",
       "      <td>Male</td>\n",
       "      <td>Has relevent experience</td>\n",
       "      <td>no_enrollment</td>\n",
       "      <td>Masters</td>\n",
       "      <td>STEM</td>\n",
       "      <td>20.0</td>\n",
       "      <td>NaN</td>\n",
       "      <td>NaN</td>\n",
       "      <td>14.0</td>\n",
       "      <td>1.0</td>\n",
       "    </tr>\n",
       "    <tr>\n",
       "      <th>14481</th>\n",
       "      <td>30764</td>\n",
       "      <td>city_16</td>\n",
       "      <td>0.910</td>\n",
       "      <td>Other</td>\n",
       "      <td>No relevent experience</td>\n",
       "      <td>NaN</td>\n",
       "      <td>High School</td>\n",
       "      <td>NaN</td>\n",
       "      <td>1.0</td>\n",
       "      <td>NaN</td>\n",
       "      <td>NaN</td>\n",
       "      <td>34.0</td>\n",
       "      <td>1.0</td>\n",
       "    </tr>\n",
       "    <tr>\n",
       "      <th>13584</th>\n",
       "      <td>21684</td>\n",
       "      <td>city_138</td>\n",
       "      <td>0.836</td>\n",
       "      <td>Female</td>\n",
       "      <td>Has relevent experience</td>\n",
       "      <td>no_enrollment</td>\n",
       "      <td>Graduate</td>\n",
       "      <td>STEM</td>\n",
       "      <td>9.0</td>\n",
       "      <td>50-99</td>\n",
       "      <td>Pvt Ltd</td>\n",
       "      <td>6.0</td>\n",
       "      <td>0.0</td>\n",
       "    </tr>\n",
       "  </tbody>\n",
       "</table>\n",
       "</div>"
      ],
      "text/plain": [
       "       enrollee_id      city  city_development_index  gender  \\\n",
       "17686        11312  city_160                   0.920  Female   \n",
       "16086         4493   city_28                   0.939    Male   \n",
       "7334         32293   city_16                   0.910    Male   \n",
       "14481        30764   city_16                   0.910   Other   \n",
       "13584        21684  city_138                   0.836  Female   \n",
       "\n",
       "           relevent_experience enrolled_university education_level  \\\n",
       "17686  Has relevent experience       no_enrollment        Graduate   \n",
       "16086  Has relevent experience       no_enrollment        Graduate   \n",
       "7334   Has relevent experience       no_enrollment         Masters   \n",
       "14481   No relevent experience                 NaN     High School   \n",
       "13584  Has relevent experience       no_enrollment        Graduate   \n",
       "\n",
       "      major_discipline  experience company_size company_type  training_hours  \\\n",
       "17686             STEM         9.0        50-99      Pvt Ltd           105.0   \n",
       "16086             STEM         7.0    1000-4999      Pvt Ltd            29.0   \n",
       "7334              STEM        20.0          NaN          NaN            14.0   \n",
       "14481              NaN         1.0          NaN          NaN            34.0   \n",
       "13584             STEM         9.0        50-99      Pvt Ltd             6.0   \n",
       "\n",
       "       target  \n",
       "17686     0.0  \n",
       "16086     0.0  \n",
       "7334      1.0  \n",
       "14481     1.0  \n",
       "13584     0.0  "
      ]
     },
     "execution_count": 25,
     "metadata": {},
     "output_type": "execute_result"
    }
   ],
   "source": [
    "# Read the data from the \"data_science_job.csv\" file and store it in the DataFrame 'df'\n",
    "df = pd.read_csv(\"data_science_job.csv\")\n",
    "\n",
    "# Display a random sample of 5 rows from the DataFrame 'df'\n",
    "df.sample(5)"
   ]
  },
  {
   "cell_type": "markdown",
   "id": "1b726cd5",
   "metadata": {},
   "source": [
    "# Handling missing values"
   ]
  },
  {
   "cell_type": "code",
   "execution_count": 26,
   "id": "657e313c",
   "metadata": {},
   "outputs": [
    {
     "data": {
      "text/plain": [
       "enrollee_id                0.000000\n",
       "city                       0.000000\n",
       "city_development_index     2.500261\n",
       "gender                    23.530640\n",
       "relevent_experience        0.000000\n",
       "enrolled_university        2.014824\n",
       "education_level            2.401086\n",
       "major_discipline          14.683161\n",
       "experience                 0.339284\n",
       "company_size              30.994885\n",
       "company_type              32.049274\n",
       "training_hours             3.998330\n",
       "target                     0.000000\n",
       "dtype: float64"
      ]
     },
     "execution_count": 26,
     "metadata": {},
     "output_type": "execute_result"
    }
   ],
   "source": [
    "# This code computes the mean of null values in each column and multiplies it by 100 to get the percentage.\n",
    "df.isnull().mean() * 100"
   ]
  },
  {
   "cell_type": "code",
   "execution_count": 27,
   "id": "5451c144",
   "metadata": {},
   "outputs": [
    {
     "data": {
      "text/plain": [
       "['city_development_index',\n",
       " 'enrolled_university',\n",
       " 'education_level',\n",
       " 'experience',\n",
       " 'training_hours']"
      ]
     },
     "execution_count": 27,
     "metadata": {},
     "output_type": "execute_result"
    }
   ],
   "source": [
    "# Create a list 'cols' containing column names where the null (missing) value percentage is less than 5% (0.05) and greater\n",
    "# than 0% \n",
    "cols = [var for var in df.columns if df[var].isnull().mean() < 0.05 and df[var].isnull().mean() > 0]\n",
    "\n",
    "# Display the 'cols' list, which contains the selected column names.\n",
    "cols"
   ]
  },
  {
   "cell_type": "code",
   "execution_count": 28,
   "id": "38e66a8a",
   "metadata": {},
   "outputs": [
    {
     "data": {
      "text/html": [
       "<div>\n",
       "<style scoped>\n",
       "    .dataframe tbody tr th:only-of-type {\n",
       "        vertical-align: middle;\n",
       "    }\n",
       "\n",
       "    .dataframe tbody tr th {\n",
       "        vertical-align: top;\n",
       "    }\n",
       "\n",
       "    .dataframe thead th {\n",
       "        text-align: right;\n",
       "    }\n",
       "</style>\n",
       "<table border=\"1\" class=\"dataframe\">\n",
       "  <thead>\n",
       "    <tr style=\"text-align: right;\">\n",
       "      <th></th>\n",
       "      <th>city_development_index</th>\n",
       "      <th>enrolled_university</th>\n",
       "      <th>education_level</th>\n",
       "      <th>experience</th>\n",
       "      <th>training_hours</th>\n",
       "    </tr>\n",
       "  </thead>\n",
       "  <tbody>\n",
       "    <tr>\n",
       "      <th>11044</th>\n",
       "      <td>0.754</td>\n",
       "      <td>NaN</td>\n",
       "      <td>High School</td>\n",
       "      <td>4.0</td>\n",
       "      <td>10.0</td>\n",
       "    </tr>\n",
       "    <tr>\n",
       "      <th>17050</th>\n",
       "      <td>0.920</td>\n",
       "      <td>no_enrollment</td>\n",
       "      <td>Graduate</td>\n",
       "      <td>20.0</td>\n",
       "      <td>90.0</td>\n",
       "    </tr>\n",
       "    <tr>\n",
       "      <th>11811</th>\n",
       "      <td>0.926</td>\n",
       "      <td>Part time course</td>\n",
       "      <td>Graduate</td>\n",
       "      <td>1.0</td>\n",
       "      <td>33.0</td>\n",
       "    </tr>\n",
       "    <tr>\n",
       "      <th>11621</th>\n",
       "      <td>0.920</td>\n",
       "      <td>Full time course</td>\n",
       "      <td>Phd</td>\n",
       "      <td>13.0</td>\n",
       "      <td>28.0</td>\n",
       "    </tr>\n",
       "    <tr>\n",
       "      <th>18046</th>\n",
       "      <td>0.939</td>\n",
       "      <td>no_enrollment</td>\n",
       "      <td>Graduate</td>\n",
       "      <td>4.0</td>\n",
       "      <td>NaN</td>\n",
       "    </tr>\n",
       "  </tbody>\n",
       "</table>\n",
       "</div>"
      ],
      "text/plain": [
       "       city_development_index enrolled_university education_level  experience  \\\n",
       "11044                   0.754                 NaN     High School         4.0   \n",
       "17050                   0.920       no_enrollment        Graduate        20.0   \n",
       "11811                   0.926    Part time course        Graduate         1.0   \n",
       "11621                   0.920    Full time course             Phd        13.0   \n",
       "18046                   0.939       no_enrollment        Graduate         4.0   \n",
       "\n",
       "       training_hours  \n",
       "11044            10.0  \n",
       "17050            90.0  \n",
       "11811            33.0  \n",
       "11621            28.0  \n",
       "18046             NaN  "
      ]
     },
     "execution_count": 28,
     "metadata": {},
     "output_type": "execute_result"
    }
   ],
   "source": [
    "# Create a random sample of 5 rows from the DataFrame 'df' using only the columns specified in the 'cols' list.\n",
    "df[cols].sample(5)"
   ]
  },
  {
   "cell_type": "code",
   "execution_count": 29,
   "id": "bc1f7fe0",
   "metadata": {},
   "outputs": [
    {
     "data": {
      "text/plain": [
       "0.8968577095730244"
      ]
     },
     "execution_count": 29,
     "metadata": {},
     "output_type": "execute_result"
    }
   ],
   "source": [
    "# Calculate the proportion of non-null values in the specified columns ('cols') of the DataFrame 'df' by dividing the \n",
    "# length of the DataFrame with non-null values by the total length of 'df'.\n",
    "len(df[cols].dropna()) / len(df)"
   ]
  },
  {
   "cell_type": "markdown",
   "id": "9b0ad801",
   "metadata": {},
   "source": [
    "<h3>Dropping missing values (CCA)</h3>"
   ]
  },
  {
   "cell_type": "code",
   "execution_count": 30,
   "id": "9d057b49",
   "metadata": {},
   "outputs": [
    {
     "data": {
      "text/plain": [
       "((19158, 13), (17182, 5))"
      ]
     },
     "execution_count": 30,
     "metadata": {},
     "output_type": "execute_result"
    }
   ],
   "source": [
    "# Create a new DataFrame 'new_df' by selecting only the specified columns ('cols') from the original DataFrame ('df')\n",
    "# and dropping rows with missing values.\n",
    "new_df = df[cols].dropna()\n",
    "\n",
    "# Display the shapes of both the original DataFrame 'df' and the new DataFrame 'new_df'.\n",
    "df.shape, new_df.shape"
   ]
  },
  {
   "cell_type": "markdown",
   "id": "b87e8138",
   "metadata": {},
   "source": [
    " "
   ]
  },
  {
   "cell_type": "markdown",
   "id": "c1406bac",
   "metadata": {},
   "source": [
    "# Graphical representation of original dataset vs CCA data"
   ]
  },
  {
   "cell_type": "markdown",
   "id": "32f9c61a",
   "metadata": {},
   "source": [
    " "
   ]
  },
  {
   "cell_type": "markdown",
   "id": "e76e5844",
   "metadata": {},
   "source": [
    "<h4>Graphical representation of the 'training hour' column in the original dataset 'df' and the new CCA dataset 'df_new'</h4>"
   ]
  },
  {
   "cell_type": "code",
   "execution_count": 31,
   "id": "9501e62d",
   "metadata": {},
   "outputs": [
    {
     "data": {
      "text/plain": [
       "<AxesSubplot:>"
      ]
     },
     "execution_count": 31,
     "metadata": {},
     "output_type": "execute_result"
    },
    {
     "data": {
      "image/png": "[encoded data removed]",
      "text/plain": [
       "<Figure size 432x288 with 1 Axes>"
      ]
     },
     "metadata": {
      "needs_background": "light"
     },
     "output_type": "display_data"
    }
   ],
   "source": [
    "# Create a new figure and axis for plotting.\n",
    "fig = plt.figure()\n",
    "ax = fig.add_subplot(111)\n",
    "\n",
    "# Plot the histogram of the 'training_hours' column from the original data (df).\n",
    "# Using 'bins=50' to set the number of bins, 'density=True' for density normalization, and 'color' for the color of the plot.\n",
    "df['training_hours'].hist(bins=50, density=True, color='green', ax=ax)\n",
    "\n",
    "# Plot the histogram of the 'training_hours' column from the data (new_df) after transformation (dropping missing values)\n",
    "# Using 'bins=50' to set the number of bins, 'density=True' for density normalization, 'color' for the color of the plot, \n",
    "# and 'alpha=0.8' to make the color slightly transparent for better visualization.\n",
    "new_df['training_hours'].hist(bins=50, density=True, color='yellow', ax=ax, alpha=0.8)"
   ]
  },
  {
   "cell_type": "markdown",
   "id": "529c0a47",
   "metadata": {},
   "source": [
    "As we can see, there is no significant difference in the histogram of the training hour column between the original dataset 'df' and the new dataset 'df_new.' If this is the case, we can drop the missing values."
   ]
  },
  {
   "cell_type": "markdown",
   "id": "e5daf0f0",
   "metadata": {},
   "source": [
    " "
   ]
  },
  {
   "cell_type": "code",
   "execution_count": 41,
   "id": "e409ebf3",
   "metadata": {},
   "outputs": [
    {
     "data": {
      "text/plain": [
       "<AxesSubplot:ylabel='Density'>"
      ]
     },
     "execution_count": 41,
     "metadata": {},
     "output_type": "execute_result"
    },
    {
     "data": {
      "image/png": "[encoded data removed]",
      "text/plain": [
       "<Figure size 432x288 with 1 Axes>"
      ]
     },
     "metadata": {
      "needs_background": "light"
     },
     "output_type": "display_data"
    }
   ],
   "source": [
    "# Create a new figure and axis for plotting.\n",
    "fig = plt.figure()\n",
    "ax = fig.add_subplot(111)\n",
    "\n",
    "# Plot the density plot of the 'training_hours' column from the original data (df).\n",
    "# Using 'color' to specify the color of the plot.\n",
    "df['training_hours'].plot.density(color='green')\n",
    "\n",
    "# Plot the density plot of the 'training_hours' column from the data (new_df) after transformation (dropping missing values)\n",
    "# Using 'color' to specify the color of the plot.\n",
    "new_df['training_hours'].plot.density(color='yellow')"
   ]
  },
  {
   "cell_type": "markdown",
   "id": "5df68ccf",
   "metadata": {},
   "source": [
    "As we can see, there is no significant difference in the density plot of the training hour column between the original dataset 'df' and the new dataset 'df_new.' If this is the case, we can drop the missing values."
   ]
  },
  {
   "cell_type": "markdown",
   "id": "0d13e303",
   "metadata": {},
   "source": [
    " "
   ]
  },
  {
   "cell_type": "markdown",
   "id": "ec3f4658",
   "metadata": {},
   "source": [
    "<h4>Graphical representation of the 'city_development_index' column in the original dataset 'df' and the new CCA dataset 'df_new'</h4>"
   ]
  },
  {
   "cell_type": "code",
   "execution_count": 33,
   "id": "6fa221b1",
   "metadata": {},
   "outputs": [
    {
     "data": {
      "text/plain": [
       "<AxesSubplot:>"
      ]
     },
     "execution_count": 33,
     "metadata": {},
     "output_type": "execute_result"
    },
    {
     "data": {
      "image/png": "[encoded data removed]",
      "text/plain": [
       "<Figure size 432x288 with 1 Axes>"
      ]
     },
     "metadata": {
      "needs_background": "light"
     },
     "output_type": "display_data"
    }
   ],
   "source": [
    "# Create a new figure and axis for plotting.\n",
    "fig = plt.figure()\n",
    "ax = fig.add_subplot(111)\n",
    "\n",
    "# Plot the histogram of the 'city_development_index' column from the original data (df).\n",
    "# Using 'bins=50' to set the number of bins, 'density=True' for density normalization, and 'color' for the color of the plot.\n",
    "df['city_development_index'].hist(bins=50, density=True, color='green', ax=ax)\n",
    "\n",
    "# Plot the histogram of the 'city_development_index' column from the data (new_df) after transformation (dropping missing values)\n",
    "# Using 'bins=50' to set the number of bins, 'density=True' for density normalization, 'color' for the color of the plot, \n",
    "# and 'alpha=0.8' to make the color slightly transparent for better visualization.\n",
    "new_df['city_development_index'].hist(bins=50, density=True, color='yellow', ax=ax, alpha=0.8)"
   ]
  },
  {
   "cell_type": "markdown",
   "id": "5ed6ab1e",
   "metadata": {},
   "source": [
    "As we can see, there is no significant difference in the histogram of thecity_development_index column between the original dataset 'df' and the new dataset 'df_new.' If this is the case, we can drop the missing values."
   ]
  },
  {
   "cell_type": "markdown",
   "id": "92a30b49",
   "metadata": {},
   "source": [
    " "
   ]
  },
  {
   "cell_type": "code",
   "execution_count": 40,
   "id": "b679cfa5",
   "metadata": {},
   "outputs": [
    {
     "data": {
      "text/plain": [
       "<AxesSubplot:ylabel='Density'>"
      ]
     },
     "execution_count": 40,
     "metadata": {},
     "output_type": "execute_result"
    },
    {
     "data": {
      "image/png": "[encoded data removed]",
      "text/plain": [
       "<Figure size 432x288 with 1 Axes>"
      ]
     },
     "metadata": {
      "needs_background": "light"
     },
     "output_type": "display_data"
    }
   ],
   "source": [
    "# Create a new figure and axis for plotting.\n",
    "fig = plt.figure()\n",
    "ax = fig.add_subplot(111)\n",
    "\n",
    "# Plot the density plot of the 'city_development_index' column from the original data (df).\n",
    "# Using 'color' to specify the color of the plot.\n",
    "df['city_development_index'].plot.density(color='green')\n",
    "\n",
    "# Plot the density plot of the 'city_development_index' column from the data (new_df) after transformation (dropping missing values)\n",
    "# Using 'color' to specify the color of the plot.\n",
    "new_df['city_development_index'].plot.density(color='yellow')"
   ]
  },
  {
   "cell_type": "markdown",
   "id": "22b20011",
   "metadata": {},
   "source": [
    "As we can see, there is no significant difference in the density plot of the city_development_index column between the original dataset 'df' and the new dataset 'df_new.' If this is the case, we can drop the missing values"
   ]
  },
  {
   "cell_type": "markdown",
   "id": "f15367a4",
   "metadata": {},
   "source": [
    " "
   ]
  },
  {
   "cell_type": "markdown",
   "id": "3e31ae8b",
   "metadata": {},
   "source": [
    "<h4>Graphical representation of the 'experience' column in the original dataset 'df' and the new CCA dataset 'df_new'</h4>"
   ]
  },
  {
   "cell_type": "code",
   "execution_count": 35,
   "id": "e4849b79",
   "metadata": {},
   "outputs": [
    {
     "data": {
      "text/plain": [
       "<AxesSubplot:>"
      ]
     },
     "execution_count": 35,
     "metadata": {},
     "output_type": "execute_result"
    },
    {
     "data": {
      "image/png": "[encoded data removed]",
      "text/plain": [
       "<Figure size 432x288 with 1 Axes>"
      ]
     },
     "metadata": {
      "needs_background": "light"
     },
     "output_type": "display_data"
    }
   ],
   "source": [
    "# Create a new figure and axis for plotting.\n",
    "fig = plt.figure()\n",
    "ax = fig.add_subplot(111)\n",
    "\n",
    "# Plot the histogram of the 'experience' column from the original data (df).\n",
    "# Using 'bins=50' to set the number of bins, 'density=True' for density normalization, and 'color' for the color of the plot.\n",
    "df['experience'].hist(bins=50, density=True, color='green', ax=ax)\n",
    "\n",
    "# Plot the histogram of the 'experience' column from the data (new_df) after some transformation (dropping missing values).\n",
    "# Using 'bins=50' to set the number of bins, 'density=True' for density normalization, 'color' for the color of the plot,\n",
    "# and 'alpha=0.8' to make the color slightly transparent for better visualization.\n",
    "new_df['experience'].hist(bins=50, density=True, color='yellow', ax=ax, alpha=0.8)"
   ]
  },
  {
   "cell_type": "markdown",
   "id": "9025cc68",
   "metadata": {},
   "source": [
    "As we can see, there is a slight difference in the histogram of the 'experience' column between the original dataset 'df' and the new dataset 'df_new.' If this is the case, we have to be careful before dropping missing values."
   ]
  },
  {
   "cell_type": "markdown",
   "id": "db048ba8",
   "metadata": {},
   "source": [
    " "
   ]
  },
  {
   "cell_type": "code",
   "execution_count": 39,
   "id": "4ea1f263",
   "metadata": {},
   "outputs": [
    {
     "data": {
      "text/plain": [
       "<AxesSubplot:ylabel='Density'>"
      ]
     },
     "execution_count": 39,
     "metadata": {},
     "output_type": "execute_result"
    },
    {
     "data": {
      "image/png": "[encoded data removed]",
      "text/plain": [
       "<Figure size 432x288 with 1 Axes>"
      ]
     },
     "metadata": {
      "needs_background": "light"
     },
     "output_type": "display_data"
    }
   ],
   "source": [
    "# Create a new figure and axis for plotting.\n",
    "fig = plt.figure()\n",
    "ax = fig.add_subplot(111)\n",
    "\n",
    "# Plot the density plot of the 'experience' column from the original data (df).\n",
    "# Using 'color' to specify the color of the plot.\n",
    "df['experience'].plot.density(color='green')\n",
    "\n",
    "# Plot the density plot of the 'experience' column from the data(new_df) after transformation (droping missing value).\n",
    "# Using 'color' to specify the color of the plot.\n",
    "new_df['experience'].plot.density(color='yellow')"
   ]
  },
  {
   "cell_type": "markdown",
   "id": "338b9474",
   "metadata": {},
   "source": [
    "As we can see, there is a slight difference in the density plot of the 'experience' column between the original dataset 'df' and the new dataset 'df_new.' If this is the case, we have to be careful before dropping missing values"
   ]
  },
  {
   "cell_type": "markdown",
   "id": "6720961f",
   "metadata": {},
   "source": [
    " "
   ]
  },
  {
   "cell_type": "markdown",
   "id": "b946df87",
   "metadata": {},
   "source": [
    "## The percentage per category of the columns before and after dropping missing values"
   ]
  },
  {
   "cell_type": "markdown",
   "id": "f4a04027",
   "metadata": {},
   "source": [
    "#### The percentage per category of the column 'enrolled_university' before and after dropping missing values"
   ]
  },
  {
   "cell_type": "code",
   "execution_count": 44,
   "id": "e6829a50",
   "metadata": {},
   "outputs": [
    {
     "data": {
      "text/html": [
       "<div>\n",
       "<style scoped>\n",
       "    .dataframe tbody tr th:only-of-type {\n",
       "        vertical-align: middle;\n",
       "    }\n",
       "\n",
       "    .dataframe tbody tr th {\n",
       "        vertical-align: top;\n",
       "    }\n",
       "\n",
       "    .dataframe thead th {\n",
       "        text-align: right;\n",
       "    }\n",
       "</style>\n",
       "<table border=\"1\" class=\"dataframe\">\n",
       "  <thead>\n",
       "    <tr style=\"text-align: right;\">\n",
       "      <th></th>\n",
       "      <th>original</th>\n",
       "      <th>cca</th>\n",
       "    </tr>\n",
       "  </thead>\n",
       "  <tbody>\n",
       "    <tr>\n",
       "      <th>no_enrollment</th>\n",
       "      <td>0.721213</td>\n",
       "      <td>0.735188</td>\n",
       "    </tr>\n",
       "    <tr>\n",
       "      <th>Full time course</th>\n",
       "      <td>0.196106</td>\n",
       "      <td>0.200733</td>\n",
       "    </tr>\n",
       "    <tr>\n",
       "      <th>Part time course</th>\n",
       "      <td>0.062533</td>\n",
       "      <td>0.064079</td>\n",
       "    </tr>\n",
       "  </tbody>\n",
       "</table>\n",
       "</div>"
      ],
      "text/plain": [
       "                  original       cca\n",
       "no_enrollment     0.721213  0.735188\n",
       "Full time course  0.196106  0.200733\n",
       "Part time course  0.062533  0.064079"
      ]
     },
     "execution_count": 44,
     "metadata": {},
     "output_type": "execute_result"
    }
   ],
   "source": [
    "temp = pd.concat([\n",
    "    # Calculate the percentage of observations per category for the 'enrolled_university' column in the original data.\n",
    "    df['enrolled_university'].value_counts() / len(df),\n",
    "    \n",
    "    # Calculate the percentage of observations per category for the 'enrolled_university' column in the transformed data (new_df).\n",
    "    new_df['enrolled_university'].value_counts() / len(new_df)\n",
    "    ], \n",
    "    axis=1)\n",
    "\n",
    "# Add column names to the DataFrame 'temp' for clarity.\n",
    "temp.columns = ['original', 'cca']\n",
    "temp"
   ]
  },
  {
   "cell_type": "markdown",
   "id": "61122224",
   "metadata": {},
   "source": [
    "As we can observe that percentage per category for the 'enrolled_university' column is almost equal, which shows that dropping missing value doesn't create any negative effect."
   ]
  },
  {
   "cell_type": "markdown",
   "id": "ca4f7a14",
   "metadata": {},
   "source": [
    " "
   ]
  },
  {
   "cell_type": "markdown",
   "id": "465bb08c",
   "metadata": {},
   "source": [
    "#### The percentage per category of the column 'education_level' before and after dropping missing values."
   ]
  },
  {
   "cell_type": "code",
   "execution_count": 45,
   "id": "0f0cdebc",
   "metadata": {},
   "outputs": [
    {
     "data": {
      "text/html": [
       "<div>\n",
       "<style scoped>\n",
       "    .dataframe tbody tr th:only-of-type {\n",
       "        vertical-align: middle;\n",
       "    }\n",
       "\n",
       "    .dataframe tbody tr th {\n",
       "        vertical-align: top;\n",
       "    }\n",
       "\n",
       "    .dataframe thead th {\n",
       "        text-align: right;\n",
       "    }\n",
       "</style>\n",
       "<table border=\"1\" class=\"dataframe\">\n",
       "  <thead>\n",
       "    <tr style=\"text-align: right;\">\n",
       "      <th></th>\n",
       "      <th>original</th>\n",
       "      <th>cca</th>\n",
       "    </tr>\n",
       "  </thead>\n",
       "  <tbody>\n",
       "    <tr>\n",
       "      <th>Graduate</th>\n",
       "      <td>0.605387</td>\n",
       "      <td>0.619835</td>\n",
       "    </tr>\n",
       "    <tr>\n",
       "      <th>Masters</th>\n",
       "      <td>0.227633</td>\n",
       "      <td>0.234082</td>\n",
       "    </tr>\n",
       "    <tr>\n",
       "      <th>High School</th>\n",
       "      <td>0.105282</td>\n",
       "      <td>0.107380</td>\n",
       "    </tr>\n",
       "    <tr>\n",
       "      <th>Phd</th>\n",
       "      <td>0.021610</td>\n",
       "      <td>0.022116</td>\n",
       "    </tr>\n",
       "    <tr>\n",
       "      <th>Primary School</th>\n",
       "      <td>0.016077</td>\n",
       "      <td>0.016587</td>\n",
       "    </tr>\n",
       "  </tbody>\n",
       "</table>\n",
       "</div>"
      ],
      "text/plain": [
       "                original       cca\n",
       "Graduate        0.605387  0.619835\n",
       "Masters         0.227633  0.234082\n",
       "High School     0.105282  0.107380\n",
       "Phd             0.021610  0.022116\n",
       "Primary School  0.016077  0.016587"
      ]
     },
     "execution_count": 45,
     "metadata": {},
     "output_type": "execute_result"
    }
   ],
   "source": [
    "temp = pd.concat([\n",
    "    # Calculate the percentage of observations per category for the 'education_level' column in the original data.\n",
    "    df['education_level'].value_counts() / len(df),\n",
    "    \n",
    "    # Calculate the percentage of observations per category for the 'education_level' column in the transformed data (new_df).\n",
    "    new_df['education_level'].value_counts() / len(new_df)\n",
    "    ], \n",
    "    axis=1)\n",
    "\n",
    "# Add column names to the DataFrame 'temp' for clarity.\n",
    "temp.columns = ['original', 'cca']\n",
    "temp"
   ]
  },
  {
   "cell_type": "markdown",
   "id": "86951187",
   "metadata": {},
   "source": [
    "We can observe that the percentage per category for the 'education_level' column is nearly equal, indicating that dropping missing values does not have a negative effect."
   ]
  }
 ],
 "metadata": {
  "kernelspec": {
   "display_name": "Python 3 (ipykernel)",
   "language": "python",
   "name": "python3"
  },
  "language_info": {
   "codemirror_mode": {
    "name": "ipython",
    "version": 3
   },
   "file_extension": ".py",
   "mimetype": "text/x-python",
   "name": "python",
   "nbconvert_exporter": "python",
   "pygments_lexer": "ipython3",
   "version": "3.9.12"
  }
 },
 "nbformat": 4,
 "nbformat_minor": 5
}
