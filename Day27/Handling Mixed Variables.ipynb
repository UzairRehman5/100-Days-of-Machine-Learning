{
 "cells": [
  {
   "cell_type": "markdown",
   "id": "0dd231eb",
   "metadata": {},
   "source": [
    "# Importing Libraries"
   ]
  },
  {
   "cell_type": "code",
   "execution_count": 43,
   "id": "e2461e95",
   "metadata": {},
   "outputs": [],
   "source": [
    "# Import the Pandas library and alias it as 'pd' for convenience.\n",
    "import pandas as pd\n",
    "\n",
    "# Import the NumPy library and alias it as 'np' for convenience.\n",
    "import numpy as np"
   ]
  },
  {
   "cell_type": "markdown",
   "id": "005a285e",
   "metadata": {},
   "source": [
    "# Importing Dataset"
   ]
  },
  {
   "cell_type": "code",
   "execution_count": 44,
   "id": "7442fb2e",
   "metadata": {},
   "outputs": [
    {
     "data": {
      "text/html": [
       "<div>\n",
       "<style scoped>\n",
       "    .dataframe tbody tr th:only-of-type {\n",
       "        vertical-align: middle;\n",
       "    }\n",
       "\n",
       "    .dataframe tbody tr th {\n",
       "        vertical-align: top;\n",
       "    }\n",
       "\n",
       "    .dataframe thead th {\n",
       "        text-align: right;\n",
       "    }\n",
       "</style>\n",
       "<table border=\"1\" class=\"dataframe\">\n",
       "  <thead>\n",
       "    <tr style=\"text-align: right;\">\n",
       "      <th></th>\n",
       "      <th>Cabin</th>\n",
       "      <th>Ticket</th>\n",
       "      <th>number</th>\n",
       "      <th>Survived</th>\n",
       "    </tr>\n",
       "  </thead>\n",
       "  <tbody>\n",
       "    <tr>\n",
       "      <th>0</th>\n",
       "      <td>NaN</td>\n",
       "      <td>A/5 21171</td>\n",
       "      <td>5</td>\n",
       "      <td>0</td>\n",
       "    </tr>\n",
       "    <tr>\n",
       "      <th>1</th>\n",
       "      <td>C85</td>\n",
       "      <td>PC 17599</td>\n",
       "      <td>3</td>\n",
       "      <td>1</td>\n",
       "    </tr>\n",
       "    <tr>\n",
       "      <th>2</th>\n",
       "      <td>NaN</td>\n",
       "      <td>STON/O2. 3101282</td>\n",
       "      <td>6</td>\n",
       "      <td>1</td>\n",
       "    </tr>\n",
       "    <tr>\n",
       "      <th>3</th>\n",
       "      <td>C123</td>\n",
       "      <td>113803</td>\n",
       "      <td>3</td>\n",
       "      <td>1</td>\n",
       "    </tr>\n",
       "    <tr>\n",
       "      <th>4</th>\n",
       "      <td>NaN</td>\n",
       "      <td>373450</td>\n",
       "      <td>A</td>\n",
       "      <td>0</td>\n",
       "    </tr>\n",
       "  </tbody>\n",
       "</table>\n",
       "</div>"
      ],
      "text/plain": [
       "  Cabin            Ticket number  Survived\n",
       "0   NaN         A/5 21171      5         0\n",
       "1   C85          PC 17599      3         1\n",
       "2   NaN  STON/O2. 3101282      6         1\n",
       "3  C123            113803      3         1\n",
       "4   NaN            373450      A         0"
      ]
     },
     "execution_count": 44,
     "metadata": {},
     "output_type": "execute_result"
    }
   ],
   "source": [
    "# Read the CSV file 'titanic.csv' and load its contents into a Pandas DataFrame.\n",
    "df = pd.read_csv('titanic.csv')\n",
    "\n",
    "# Display the first five rows of the DataFrame to inspect the data.\n",
    "df.head()"
   ]
  },
  {
   "cell_type": "code",
   "execution_count": 45,
   "id": "8be83c47",
   "metadata": {},
   "outputs": [],
   "source": [
    "# Remove rows with missing values (NaN) from the DataFrame 'df'.\n",
    "df = df.dropna()"
   ]
  },
  {
   "cell_type": "code",
   "execution_count": 46,
   "id": "6ee989b2",
   "metadata": {},
   "outputs": [
    {
     "data": {
      "text/plain": [
       "(204, 4)"
      ]
     },
     "execution_count": 46,
     "metadata": {},
     "output_type": "execute_result"
    }
   ],
   "source": [
    "# Shape of dataset\n",
    "df.shape"
   ]
  },
  {
   "cell_type": "markdown",
   "id": "c20658e2",
   "metadata": {},
   "source": [
    "# Handling Mixed Variables"
   ]
  },
  {
   "cell_type": "markdown",
   "id": "a96d494e",
   "metadata": {},
   "source": [
    "### =>  \"number\" column"
   ]
  },
  {
   "cell_type": "code",
   "execution_count": 47,
   "id": "cd4179f0",
   "metadata": {},
   "outputs": [
    {
     "data": {
      "text/plain": [
       "array(['3', '2', '1', '4', 'A', '6', '5'], dtype=object)"
      ]
     },
     "execution_count": 47,
     "metadata": {},
     "output_type": "execute_result"
    }
   ],
   "source": [
    "# Retrieve the unique values in the 'number' column of the DataFrame 'df'.\n",
    "df['number'].unique()"
   ]
  },
  {
   "cell_type": "code",
   "execution_count": 48,
   "id": "f30949d5",
   "metadata": {},
   "outputs": [
    {
     "data": {
      "text/plain": [
       "<AxesSubplot:xlabel='number'>"
      ]
     },
     "execution_count": 48,
     "metadata": {},
     "output_type": "execute_result"
    },
    {
     "data": {
      "image/png": "[encoded data removed]",
      "text/plain": [
       "<Figure size 432x288 with 1 Axes>"
      ]
     },
     "metadata": {
      "needs_background": "light"
     },
     "output_type": "display_data"
    }
   ],
   "source": [
    "# Create a bar plot to visualize the frequency of unique values in the 'number' column.\n",
    "df['number'].value_counts().plot.bar()"
   ]
  },
  {
   "cell_type": "code",
   "execution_count": 49,
   "id": "b0470b90",
   "metadata": {},
   "outputs": [],
   "source": [
    "# Create a new column 'number_numerical' by extracting integer values from 'number' column.\n",
    "df['number_numerical'] = pd.to_numeric(df['number'], errors=\"coerce\", downcast='integer')"
   ]
  },
  {
   "cell_type": "code",
   "execution_count": 50,
   "id": "b4edab8b",
   "metadata": {},
   "outputs": [],
   "source": [
    "# Create a new column 'number_categorical' based on conditions from 'number_numerical' column.\n",
    "df['number_categorical'] = np.where(df['number_numerical'].isnull(), df['number'], np.nan)"
   ]
  },
  {
   "cell_type": "code",
   "execution_count": 51,
   "id": "9bcc3211",
   "metadata": {},
   "outputs": [
    {
     "data": {
      "text/html": [
       "<div>\n",
       "<style scoped>\n",
       "    .dataframe tbody tr th:only-of-type {\n",
       "        vertical-align: middle;\n",
       "    }\n",
       "\n",
       "    .dataframe tbody tr th {\n",
       "        vertical-align: top;\n",
       "    }\n",
       "\n",
       "    .dataframe thead th {\n",
       "        text-align: right;\n",
       "    }\n",
       "</style>\n",
       "<table border=\"1\" class=\"dataframe\">\n",
       "  <thead>\n",
       "    <tr style=\"text-align: right;\">\n",
       "      <th></th>\n",
       "      <th>Cabin</th>\n",
       "      <th>Ticket</th>\n",
       "      <th>number</th>\n",
       "      <th>Survived</th>\n",
       "      <th>number_numerical</th>\n",
       "      <th>number_categorical</th>\n",
       "    </tr>\n",
       "  </thead>\n",
       "  <tbody>\n",
       "    <tr>\n",
       "      <th>139</th>\n",
       "      <td>B86</td>\n",
       "      <td>PC 17593</td>\n",
       "      <td>2</td>\n",
       "      <td>0</td>\n",
       "      <td>2.0</td>\n",
       "      <td>NaN</td>\n",
       "    </tr>\n",
       "    <tr>\n",
       "      <th>345</th>\n",
       "      <td>F33</td>\n",
       "      <td>248733</td>\n",
       "      <td>A</td>\n",
       "      <td>1</td>\n",
       "      <td>NaN</td>\n",
       "      <td>A</td>\n",
       "    </tr>\n",
       "    <tr>\n",
       "      <th>366</th>\n",
       "      <td>D37</td>\n",
       "      <td>110813</td>\n",
       "      <td>5</td>\n",
       "      <td>1</td>\n",
       "      <td>5.0</td>\n",
       "      <td>NaN</td>\n",
       "    </tr>\n",
       "    <tr>\n",
       "      <th>487</th>\n",
       "      <td>B37</td>\n",
       "      <td>11771</td>\n",
       "      <td>2</td>\n",
       "      <td>0</td>\n",
       "      <td>2.0</td>\n",
       "      <td>NaN</td>\n",
       "    </tr>\n",
       "    <tr>\n",
       "      <th>62</th>\n",
       "      <td>C83</td>\n",
       "      <td>36973</td>\n",
       "      <td>6</td>\n",
       "      <td>0</td>\n",
       "      <td>6.0</td>\n",
       "      <td>NaN</td>\n",
       "    </tr>\n",
       "  </tbody>\n",
       "</table>\n",
       "</div>"
      ],
      "text/plain": [
       "    Cabin    Ticket number  Survived  number_numerical number_categorical\n",
       "139   B86  PC 17593      2         0               2.0                NaN\n",
       "345   F33    248733      A         1               NaN                  A\n",
       "366   D37    110813      5         1               5.0                NaN\n",
       "487   B37     11771      2         0               2.0                NaN\n",
       "62    C83     36973      6         0               6.0                NaN"
      ]
     },
     "execution_count": 51,
     "metadata": {},
     "output_type": "execute_result"
    }
   ],
   "source": [
    "df.sample(5)"
   ]
  },
  {
   "cell_type": "markdown",
   "id": "78c11efe",
   "metadata": {},
   "source": [
    "### => \"Cabin\" column"
   ]
  },
  {
   "cell_type": "code",
   "execution_count": 52,
   "id": "e2ba4f13",
   "metadata": {},
   "outputs": [
    {
     "data": {
      "text/plain": [
       "array(['C85', 'C123', 'E46', 'G6', 'C103', 'D56', 'A6', 'C23 C25 C27',\n",
       "       'B78', 'D33', 'B30', 'C52', 'B28', 'C83', 'F33', 'F G73', 'E31',\n",
       "       'A5', 'D10 D12', 'D26', 'C110', 'B58 B60', 'E101', 'F E69', 'D47',\n",
       "       'B86', 'F2', 'C2', 'E33', 'B19', 'A7', 'C49', 'F4', 'A32', 'B4',\n",
       "       'B80', 'A31', 'D36', 'D15', 'C93', 'C78', 'D35', 'C87', 'B77',\n",
       "       'E67', 'B94', 'C125', 'C99', 'C118', 'D7', 'A19', 'B49', 'D',\n",
       "       'C22 C26', 'C106', 'C65', 'E36', 'C54', 'B57 B59 B63 B66', 'C7',\n",
       "       'E34', 'C32', 'B18', 'C124', 'C91', 'E40', 'T', 'C128', 'D37',\n",
       "       'B35', 'E50', 'C82', 'B96 B98', 'E10', 'E44', 'A34', 'C104',\n",
       "       'C111', 'C92', 'E38', 'D21', 'E12', 'E63', 'A14', 'B37', 'C30',\n",
       "       'D20', 'B79', 'E25', 'D46', 'B73', 'C95', 'B38', 'B39', 'B22',\n",
       "       'C86', 'C70', 'A16', 'C101', 'C68', 'A10', 'E68', 'B41', 'A20',\n",
       "       'D19', 'D50', 'D9', 'A23', 'B50', 'A26', 'D48', 'E58', 'C126',\n",
       "       'B71', 'B51 B53 B55', 'D49', 'B5', 'B20', 'F G63', 'C62 C64',\n",
       "       'E24', 'C90', 'C45', 'E8', 'B101', 'D45', 'C46', 'D30', 'E121',\n",
       "       'D11', 'E77', 'F38', 'B3', 'D6', 'B82 B84', 'D17', 'A36', 'B102',\n",
       "       'B69', 'E49', 'C47', 'D28', 'E17', 'A24', 'C50', 'B42', 'C148'],\n",
       "      dtype=object)"
      ]
     },
     "execution_count": 52,
     "metadata": {},
     "output_type": "execute_result"
    }
   ],
   "source": [
    "# Retrieve the unique values in the 'Cabin' column of the DataFrame 'df'.\n",
    "df['Cabin'].unique()"
   ]
  },
  {
   "cell_type": "code",
   "execution_count": 53,
   "id": "18f7f005",
   "metadata": {},
   "outputs": [],
   "source": [
    "# Create a new column 'Cabin_category' by extracting the first character from 'Cabin' column.\n",
    "df['Cabin_category'] = df['Cabin'].str[0]"
   ]
  },
  {
   "cell_type": "code",
   "execution_count": 54,
   "id": "96c67753",
   "metadata": {},
   "outputs": [],
   "source": [
    "# Create a new column 'Cabin_numerical' by extracting numerical values from the 'Cabin' column.\n",
    "df['Cabin_numerical'] = df['Cabin'].str.extract('(\\d+)')"
   ]
  },
  {
   "cell_type": "code",
   "execution_count": 55,
   "id": "6912701d",
   "metadata": {},
   "outputs": [
    {
     "data": {
      "text/html": [
       "<div>\n",
       "<style scoped>\n",
       "    .dataframe tbody tr th:only-of-type {\n",
       "        vertical-align: middle;\n",
       "    }\n",
       "\n",
       "    .dataframe tbody tr th {\n",
       "        vertical-align: top;\n",
       "    }\n",
       "\n",
       "    .dataframe thead th {\n",
       "        text-align: right;\n",
       "    }\n",
       "</style>\n",
       "<table border=\"1\" class=\"dataframe\">\n",
       "  <thead>\n",
       "    <tr style=\"text-align: right;\">\n",
       "      <th></th>\n",
       "      <th>Cabin</th>\n",
       "      <th>Ticket</th>\n",
       "      <th>number</th>\n",
       "      <th>Survived</th>\n",
       "      <th>number_numerical</th>\n",
       "      <th>number_categorical</th>\n",
       "      <th>Cabin_category</th>\n",
       "      <th>Cabin_numerical</th>\n",
       "    </tr>\n",
       "  </thead>\n",
       "  <tbody>\n",
       "    <tr>\n",
       "      <th>724</th>\n",
       "      <td>E8</td>\n",
       "      <td>113806</td>\n",
       "      <td>2</td>\n",
       "      <td>1</td>\n",
       "      <td>2.0</td>\n",
       "      <td>NaN</td>\n",
       "      <td>E</td>\n",
       "      <td>8</td>\n",
       "    </tr>\n",
       "    <tr>\n",
       "      <th>215</th>\n",
       "      <td>D36</td>\n",
       "      <td>35273</td>\n",
       "      <td>A</td>\n",
       "      <td>1</td>\n",
       "      <td>NaN</td>\n",
       "      <td>A</td>\n",
       "      <td>D</td>\n",
       "      <td>36</td>\n",
       "    </tr>\n",
       "    <tr>\n",
       "      <th>10</th>\n",
       "      <td>G6</td>\n",
       "      <td>PP 9549</td>\n",
       "      <td>1</td>\n",
       "      <td>1</td>\n",
       "      <td>1.0</td>\n",
       "      <td>NaN</td>\n",
       "      <td>G</td>\n",
       "      <td>6</td>\n",
       "    </tr>\n",
       "    <tr>\n",
       "      <th>577</th>\n",
       "      <td>E44</td>\n",
       "      <td>13507</td>\n",
       "      <td>5</td>\n",
       "      <td>1</td>\n",
       "      <td>5.0</td>\n",
       "      <td>NaN</td>\n",
       "      <td>E</td>\n",
       "      <td>44</td>\n",
       "    </tr>\n",
       "    <tr>\n",
       "      <th>486</th>\n",
       "      <td>C93</td>\n",
       "      <td>19943</td>\n",
       "      <td>3</td>\n",
       "      <td>1</td>\n",
       "      <td>3.0</td>\n",
       "      <td>NaN</td>\n",
       "      <td>C</td>\n",
       "      <td>93</td>\n",
       "    </tr>\n",
       "  </tbody>\n",
       "</table>\n",
       "</div>"
      ],
      "text/plain": [
       "    Cabin   Ticket number  Survived  number_numerical number_categorical  \\\n",
       "724    E8   113806      2         1               2.0                NaN   \n",
       "215   D36    35273      A         1               NaN                  A   \n",
       "10     G6  PP 9549      1         1               1.0                NaN   \n",
       "577   E44    13507      5         1               5.0                NaN   \n",
       "486   C93    19943      3         1               3.0                NaN   \n",
       "\n",
       "    Cabin_category Cabin_numerical  \n",
       "724              E               8  \n",
       "215              D              36  \n",
       "10               G               6  \n",
       "577              E              44  \n",
       "486              C              93  "
      ]
     },
     "execution_count": 55,
     "metadata": {},
     "output_type": "execute_result"
    }
   ],
   "source": [
    "df.sample(5)"
   ]
  },
  {
   "cell_type": "code",
   "execution_count": 56,
   "id": "62fa4c25",
   "metadata": {},
   "outputs": [
    {
     "data": {
      "text/plain": [
       "<AxesSubplot:xlabel='Cabin_category'>"
      ]
     },
     "execution_count": 56,
     "metadata": {},
     "output_type": "execute_result"
    },
    {
     "data": {
      "image/png": "[encoded data removed]",
      "text/plain": [
       "<Figure size 432x288 with 1 Axes>"
      ]
     },
     "metadata": {
      "needs_background": "light"
     },
     "output_type": "display_data"
    }
   ],
   "source": [
    "# Create a bar plot to visualize the frequency of unique values in the 'Cabin_category' column.\n",
    "df['Cabin_category'].value_counts().plot(kind='bar')"
   ]
  },
  {
   "cell_type": "markdown",
   "id": "7f17a92c",
   "metadata": {},
   "source": [
    "### => \"Ticket\" column"
   ]
  },
  {
   "cell_type": "code",
   "execution_count": 57,
   "id": "fca2c1eb",
   "metadata": {},
   "outputs": [
    {
     "data": {
      "text/plain": [
       "array(['PC 17599', '113803', '17463', 'PP 9549', '113783', '248698',\n",
       "       '113788', '19950', 'PC 17569', 'PC 17572', '113509', '19947',\n",
       "       '113572', '36973', 'C.A. 29395', '348123', 'W.E.P. 5734',\n",
       "       'PC 17754', 'PC 17759', '35281', '110465', 'PC 17558', '27267',\n",
       "       '2668', '11752', 'PC 17593', '230080', '113776', '113505',\n",
       "       '111240', '17764', 'PC 17595', '230136', '113767', 'PC 17610',\n",
       "       '347054', '112277', '35273', '11813', '19943', '19928', '11751',\n",
       "       '113514', '110152', '110413', '112059', 'PC 17582', 'PC 17760',\n",
       "       'PC 17596', '13502', '113056', '11967', 'SC/Paris 2163', '113781',\n",
       "       '19988', '226593', 'PC 17758', 'PC 17485', '11767', 'PC 17608',\n",
       "       '36928', '16966', '28551', '111361', '113043', '113784', '248733',\n",
       "       '113510', '110813', 'PC 17477', '11765', '113503', '113760',\n",
       "       'SOTON/O.Q. 392078', '110564', '13507', '33638', '113786',\n",
       "       '113051', '17453', '13509', '17464', '19952', '111320',\n",
       "       'SC/AH Basle 541', '11771', '113787', '36947', 'PC 17473', '36967',\n",
       "       'C.A. 34260', '12749', 'PC 17483', '113050', '13568', 'WE/P 5735',\n",
       "       'PC 17761', '17421', '11755', '11769', 'PC 17474', '13049',\n",
       "       '13567', '11753', '36963', '27042', '13214', '13213', '5727',\n",
       "       '19996', 'F.C. 12750', 'PC 17755', '24160', '17474', '348121',\n",
       "       'PC 17757', 'PC 17475', 'PC 17476', 'PC 17482', '113028', '348124',\n",
       "       '34218', '113806', '16988', '19877', '113773', '392096',\n",
       "       'S.O./P.P. 3', '383121', '113501', '17465', '112050', '112058',\n",
       "       'PC 17756', '11774', 'PC 17592', '113055', '17466', 'PC 17590',\n",
       "       '695', '112053', '111369'], dtype=object)"
      ]
     },
     "execution_count": 57,
     "metadata": {},
     "output_type": "execute_result"
    }
   ],
   "source": [
    "# Retrieve the unique values in the 'Ticket' column of the DataFrame 'df'.\n",
    "df['Ticket'].unique()"
   ]
  },
  {
   "cell_type": "code",
   "execution_count": 58,
   "id": "7de78dda",
   "metadata": {},
   "outputs": [],
   "source": [
    "# Create a new column 'Ticket_category' by extracting the first part of each ticket value.\n",
    "df['Ticket_category'] = df['Ticket'].apply(lambda s: s.split()[0])\n",
    "\n",
    "# Set 'Ticket_category' values to NaN for rows where it consists only of digits.\n",
    "df['Ticket_category'] = np.where(df['Ticket_category'].str.isdigit(), np.nan, df['Ticket_category']) "
   ]
  },
  {
   "cell_type": "code",
   "execution_count": 59,
   "id": "94dee096",
   "metadata": {},
   "outputs": [],
   "source": [
    "# Create a new column 'Ticket_number' by extracting the last part of each ticket value.\n",
    "df['Ticket_number'] = df['Ticket'].apply(lambda s: s.split()[-1])\n",
    "\n",
    "# Convert 'Ticket_number' values to integers, handling errors by coercing to NaN.\n",
    "df['Ticket_number'] = pd.to_numeric(df['Ticket_number'], errors='coerce', downcast='integer')"
   ]
  },
  {
   "cell_type": "code",
   "execution_count": 60,
   "id": "e9247923",
   "metadata": {
    "scrolled": true
   },
   "outputs": [
    {
     "data": {
      "text/html": [
       "<div>\n",
       "<style scoped>\n",
       "    .dataframe tbody tr th:only-of-type {\n",
       "        vertical-align: middle;\n",
       "    }\n",
       "\n",
       "    .dataframe tbody tr th {\n",
       "        vertical-align: top;\n",
       "    }\n",
       "\n",
       "    .dataframe thead th {\n",
       "        text-align: right;\n",
       "    }\n",
       "</style>\n",
       "<table border=\"1\" class=\"dataframe\">\n",
       "  <thead>\n",
       "    <tr style=\"text-align: right;\">\n",
       "      <th></th>\n",
       "      <th>Cabin</th>\n",
       "      <th>Ticket</th>\n",
       "      <th>number</th>\n",
       "      <th>Survived</th>\n",
       "      <th>number_numerical</th>\n",
       "      <th>number_categorical</th>\n",
       "      <th>Cabin_category</th>\n",
       "      <th>Cabin_numerical</th>\n",
       "      <th>Ticket_category</th>\n",
       "      <th>Ticket_number</th>\n",
       "    </tr>\n",
       "  </thead>\n",
       "  <tbody>\n",
       "    <tr>\n",
       "      <th>1</th>\n",
       "      <td>C85</td>\n",
       "      <td>PC 17599</td>\n",
       "      <td>3</td>\n",
       "      <td>1</td>\n",
       "      <td>3.0</td>\n",
       "      <td>NaN</td>\n",
       "      <td>C</td>\n",
       "      <td>85</td>\n",
       "      <td>PC</td>\n",
       "      <td>17599</td>\n",
       "    </tr>\n",
       "    <tr>\n",
       "      <th>3</th>\n",
       "      <td>C123</td>\n",
       "      <td>113803</td>\n",
       "      <td>3</td>\n",
       "      <td>1</td>\n",
       "      <td>3.0</td>\n",
       "      <td>NaN</td>\n",
       "      <td>C</td>\n",
       "      <td>123</td>\n",
       "      <td>NaN</td>\n",
       "      <td>113803</td>\n",
       "    </tr>\n",
       "    <tr>\n",
       "      <th>6</th>\n",
       "      <td>E46</td>\n",
       "      <td>17463</td>\n",
       "      <td>2</td>\n",
       "      <td>0</td>\n",
       "      <td>2.0</td>\n",
       "      <td>NaN</td>\n",
       "      <td>E</td>\n",
       "      <td>46</td>\n",
       "      <td>NaN</td>\n",
       "      <td>17463</td>\n",
       "    </tr>\n",
       "    <tr>\n",
       "      <th>10</th>\n",
       "      <td>G6</td>\n",
       "      <td>PP 9549</td>\n",
       "      <td>1</td>\n",
       "      <td>1</td>\n",
       "      <td>1.0</td>\n",
       "      <td>NaN</td>\n",
       "      <td>G</td>\n",
       "      <td>6</td>\n",
       "      <td>PP</td>\n",
       "      <td>9549</td>\n",
       "    </tr>\n",
       "    <tr>\n",
       "      <th>11</th>\n",
       "      <td>C103</td>\n",
       "      <td>113783</td>\n",
       "      <td>1</td>\n",
       "      <td>1</td>\n",
       "      <td>1.0</td>\n",
       "      <td>NaN</td>\n",
       "      <td>C</td>\n",
       "      <td>103</td>\n",
       "      <td>NaN</td>\n",
       "      <td>113783</td>\n",
       "    </tr>\n",
       "  </tbody>\n",
       "</table>\n",
       "</div>"
      ],
      "text/plain": [
       "   Cabin    Ticket number  Survived  number_numerical number_categorical  \\\n",
       "1    C85  PC 17599      3         1               3.0                NaN   \n",
       "3   C123    113803      3         1               3.0                NaN   \n",
       "6    E46     17463      2         0               2.0                NaN   \n",
       "10    G6   PP 9549      1         1               1.0                NaN   \n",
       "11  C103    113783      1         1               1.0                NaN   \n",
       "\n",
       "   Cabin_category Cabin_numerical Ticket_category  Ticket_number  \n",
       "1               C              85              PC          17599  \n",
       "3               C             123             NaN         113803  \n",
       "6               E              46             NaN          17463  \n",
       "10              G               6              PP           9549  \n",
       "11              C             103             NaN         113783  "
      ]
     },
     "execution_count": 60,
     "metadata": {},
     "output_type": "execute_result"
    }
   ],
   "source": [
    "df.head(5)"
   ]
  },
  {
   "cell_type": "markdown",
   "id": "29a42c9a",
   "metadata": {},
   "source": [
    "### Reordering the columns"
   ]
  },
  {
   "cell_type": "code",
   "execution_count": 62,
   "id": "2d9272a5",
   "metadata": {},
   "outputs": [
    {
     "data": {
      "text/html": [
       "<div>\n",
       "<style scoped>\n",
       "    .dataframe tbody tr th:only-of-type {\n",
       "        vertical-align: middle;\n",
       "    }\n",
       "\n",
       "    .dataframe tbody tr th {\n",
       "        vertical-align: top;\n",
       "    }\n",
       "\n",
       "    .dataframe thead th {\n",
       "        text-align: right;\n",
       "    }\n",
       "</style>\n",
       "<table border=\"1\" class=\"dataframe\">\n",
       "  <thead>\n",
       "    <tr style=\"text-align: right;\">\n",
       "      <th></th>\n",
       "      <th>Cabin</th>\n",
       "      <th>Cabin_category</th>\n",
       "      <th>Cabin_numerical</th>\n",
       "      <th>Ticket</th>\n",
       "      <th>Ticket_category</th>\n",
       "      <th>Ticket_number</th>\n",
       "      <th>number</th>\n",
       "      <th>number_numerical</th>\n",
       "      <th>number_categorical</th>\n",
       "      <th>Survived</th>\n",
       "    </tr>\n",
       "  </thead>\n",
       "  <tbody>\n",
       "    <tr>\n",
       "      <th>1</th>\n",
       "      <td>C85</td>\n",
       "      <td>C</td>\n",
       "      <td>85</td>\n",
       "      <td>PC 17599</td>\n",
       "      <td>PC</td>\n",
       "      <td>17599</td>\n",
       "      <td>3</td>\n",
       "      <td>3.0</td>\n",
       "      <td>NaN</td>\n",
       "      <td>1</td>\n",
       "    </tr>\n",
       "    <tr>\n",
       "      <th>3</th>\n",
       "      <td>C123</td>\n",
       "      <td>C</td>\n",
       "      <td>123</td>\n",
       "      <td>113803</td>\n",
       "      <td>NaN</td>\n",
       "      <td>113803</td>\n",
       "      <td>3</td>\n",
       "      <td>3.0</td>\n",
       "      <td>NaN</td>\n",
       "      <td>1</td>\n",
       "    </tr>\n",
       "    <tr>\n",
       "      <th>6</th>\n",
       "      <td>E46</td>\n",
       "      <td>E</td>\n",
       "      <td>46</td>\n",
       "      <td>17463</td>\n",
       "      <td>NaN</td>\n",
       "      <td>17463</td>\n",
       "      <td>2</td>\n",
       "      <td>2.0</td>\n",
       "      <td>NaN</td>\n",
       "      <td>0</td>\n",
       "    </tr>\n",
       "    <tr>\n",
       "      <th>10</th>\n",
       "      <td>G6</td>\n",
       "      <td>G</td>\n",
       "      <td>6</td>\n",
       "      <td>PP 9549</td>\n",
       "      <td>PP</td>\n",
       "      <td>9549</td>\n",
       "      <td>1</td>\n",
       "      <td>1.0</td>\n",
       "      <td>NaN</td>\n",
       "      <td>1</td>\n",
       "    </tr>\n",
       "    <tr>\n",
       "      <th>11</th>\n",
       "      <td>C103</td>\n",
       "      <td>C</td>\n",
       "      <td>103</td>\n",
       "      <td>113783</td>\n",
       "      <td>NaN</td>\n",
       "      <td>113783</td>\n",
       "      <td>1</td>\n",
       "      <td>1.0</td>\n",
       "      <td>NaN</td>\n",
       "      <td>1</td>\n",
       "    </tr>\n",
       "  </tbody>\n",
       "</table>\n",
       "</div>"
      ],
      "text/plain": [
       "   Cabin Cabin_category Cabin_numerical    Ticket Ticket_category  \\\n",
       "1    C85              C              85  PC 17599              PC   \n",
       "3   C123              C             123    113803             NaN   \n",
       "6    E46              E              46     17463             NaN   \n",
       "10    G6              G               6   PP 9549              PP   \n",
       "11  C103              C             103    113783             NaN   \n",
       "\n",
       "    Ticket_number number  number_numerical number_categorical  Survived  \n",
       "1           17599      3               3.0                NaN         1  \n",
       "3          113803      3               3.0                NaN         1  \n",
       "6           17463      2               2.0                NaN         0  \n",
       "10           9549      1               1.0                NaN         1  \n",
       "11         113783      1               1.0                NaN         1  "
      ]
     },
     "execution_count": 62,
     "metadata": {},
     "output_type": "execute_result"
    }
   ],
   "source": [
    "# Select and reorder columns in the DataFrame 'df.'\n",
    "df = df[['Cabin', 'Cabin_category', 'Cabin_numerical', 'Ticket', 'Ticket_category',\n",
    "         'Ticket_number', 'number', 'number_numerical', 'number_categorical', 'Survived']]\n",
    "\n",
    "# Display the first few rows of the updated DataFrame to inspect the changes.\n",
    "df.head()"
   ]
  },
  {
   "cell_type": "code",
   "execution_count": null,
   "id": "7bc5db90",
   "metadata": {},
   "outputs": [],
   "source": []
  }
 ],
 "metadata": {
  "kernelspec": {
   "display_name": "Python 3 (ipykernel)",
   "language": "python",
   "name": "python3"
  },
  "language_info": {
   "codemirror_mode": {
    "name": "ipython",
    "version": 3
   },
   "file_extension": ".py",
   "mimetype": "text/x-python",
   "name": "python",
   "nbconvert_exporter": "python",
   "pygments_lexer": "ipython3",
   "version": "3.9.12"
  }
 },
 "nbformat": 4,
 "nbformat_minor": 5
}
