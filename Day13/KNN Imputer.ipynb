{
 "cells": [
  {
   "cell_type": "markdown",
   "id": "7155df0e",
   "metadata": {},
   "source": [
    "# Importing libraries"
   ]
  },
  {
   "cell_type": "code",
   "execution_count": 52,
   "id": "97ebba3d",
   "metadata": {},
   "outputs": [],
   "source": [
    "import pandas as pd\n",
    "import numpy as np\n",
    "\n",
    "from sklearn.linear_model import LogisticRegression\n",
    "from sklearn.impute import SimpleImputer, KNNImputer\n",
    "from sklearn.model_selection import train_test_split\n",
    "from sklearn.metrics import accuracy_score"
   ]
  },
  {
   "cell_type": "markdown",
   "id": "e06dcd2e",
   "metadata": {},
   "source": [
    "# Loading Dataset"
   ]
  },
  {
   "cell_type": "code",
   "execution_count": 53,
   "id": "028a026d",
   "metadata": {},
   "outputs": [
    {
     "data": {
      "text/html": [
       "<div>\n",
       "<style scoped>\n",
       "    .dataframe tbody tr th:only-of-type {\n",
       "        vertical-align: middle;\n",
       "    }\n",
       "\n",
       "    .dataframe tbody tr th {\n",
       "        vertical-align: top;\n",
       "    }\n",
       "\n",
       "    .dataframe thead th {\n",
       "        text-align: right;\n",
       "    }\n",
       "</style>\n",
       "<table border=\"1\" class=\"dataframe\">\n",
       "  <thead>\n",
       "    <tr style=\"text-align: right;\">\n",
       "      <th></th>\n",
       "      <th>Survived</th>\n",
       "      <th>Pclass</th>\n",
       "      <th>Age</th>\n",
       "      <th>Fare</th>\n",
       "    </tr>\n",
       "  </thead>\n",
       "  <tbody>\n",
       "    <tr>\n",
       "      <th>0</th>\n",
       "      <td>0</td>\n",
       "      <td>3</td>\n",
       "      <td>22.0</td>\n",
       "      <td>7.2500</td>\n",
       "    </tr>\n",
       "    <tr>\n",
       "      <th>1</th>\n",
       "      <td>1</td>\n",
       "      <td>1</td>\n",
       "      <td>38.0</td>\n",
       "      <td>71.2833</td>\n",
       "    </tr>\n",
       "    <tr>\n",
       "      <th>2</th>\n",
       "      <td>1</td>\n",
       "      <td>3</td>\n",
       "      <td>26.0</td>\n",
       "      <td>7.9250</td>\n",
       "    </tr>\n",
       "    <tr>\n",
       "      <th>3</th>\n",
       "      <td>1</td>\n",
       "      <td>1</td>\n",
       "      <td>35.0</td>\n",
       "      <td>53.1000</td>\n",
       "    </tr>\n",
       "    <tr>\n",
       "      <th>4</th>\n",
       "      <td>0</td>\n",
       "      <td>3</td>\n",
       "      <td>35.0</td>\n",
       "      <td>8.0500</td>\n",
       "    </tr>\n",
       "  </tbody>\n",
       "</table>\n",
       "</div>"
      ],
      "text/plain": [
       "   Survived  Pclass   Age     Fare\n",
       "0         0       3  22.0   7.2500\n",
       "1         1       1  38.0  71.2833\n",
       "2         1       3  26.0   7.9250\n",
       "3         1       1  35.0  53.1000\n",
       "4         0       3  35.0   8.0500"
      ]
     },
     "execution_count": 53,
     "metadata": {},
     "output_type": "execute_result"
    }
   ],
   "source": [
    "# Reading a CSV file and selecting specific columns\n",
    "df = pd.read_csv(\"train.csv\", usecols=['Age','Pclass','Fare','Survived'])\n",
    "\n",
    "# Displaying the first few rows of the DataFrame\n",
    "df.head()"
   ]
  },
  {
   "cell_type": "markdown",
   "id": "4b3ed635",
   "metadata": {},
   "source": [
    "# Handling Missing Values"
   ]
  },
  {
   "cell_type": "code",
   "execution_count": 54,
   "id": "9ec10458",
   "metadata": {},
   "outputs": [
    {
     "data": {
      "text/plain": [
       "Survived     0.00000\n",
       "Pclass       0.00000\n",
       "Age         19.86532\n",
       "Fare         0.00000\n",
       "dtype: float64"
      ]
     },
     "execution_count": 54,
     "metadata": {},
     "output_type": "execute_result"
    }
   ],
   "source": [
    "# Calculate the percentage of missing values in each column\n",
    "df.isnull().mean() * 100"
   ]
  },
  {
   "cell_type": "code",
   "execution_count": 55,
   "id": "70902d46",
   "metadata": {},
   "outputs": [],
   "source": [
    "# Storing all the input columns in variable 'X' and target column in variable 'y'\n",
    "\n",
    "X = df.drop(columns=['Survived'])\n",
    "y = df['Survived']"
   ]
  },
  {
   "cell_type": "code",
   "execution_count": 56,
   "id": "351a21b8",
   "metadata": {},
   "outputs": [],
   "source": [
    "#  Dividing dataset into two subsets: one for training the model (X_train, y_train) and the other for testing its \n",
    "# performance (y_train, y_test), helping evaluate how well the model generalizes to new unseen data.\n",
    "\n",
    "X_train, X_test, y_train, y_test = train_test_split(X, y, test_size=0.2, random_state=2)"
   ]
  },
  {
   "cell_type": "code",
   "execution_count": 57,
   "id": "1fcf4729",
   "metadata": {},
   "outputs": [],
   "source": [
    "# Create a KNNImputer instance with 3 neighbors and 'distance' weighting\n",
    "knn = KNNImputer(n_neighbors=3, weights='distance')\n",
    "\n",
    "# Fit and transform the training data (X_train) using KNN imputation\n",
    "Xtrain_trf1 = knn.fit_transform(X_train)\n",
    "\n",
    "# Transform the test data (X_test) using the same KNN imputer\n",
    "Xtest_trf1 = knn.transform(X_test)"
   ]
  },
  {
   "cell_type": "code",
   "execution_count": 58,
   "id": "91d0d86c",
   "metadata": {},
   "outputs": [
    {
     "name": "stdout",
     "output_type": "stream",
     "text": [
      "Accuracy achieved with KNN imputer : 71.50837988826815\n"
     ]
    }
   ],
   "source": [
    "# Create a LogisticRegression instance\n",
    "trf1 = LogisticRegression()\n",
    "\n",
    "# Fit the logistic regression model on the transformed training data (Xtrain_trf1) and corresponding labels (y_train)\n",
    "trf1.fit(Xtrain_trf1, y_train)\n",
    "\n",
    "# Use the trained model to make predictions on the transformed test data (Xtest_trf1)\n",
    "y_pred = trf1.predict(Xtest_trf1)\n",
    "\n",
    "# Calculate the accuracy of the model by comparing predicted labels (y_pred) to actual test labels (y_test)\n",
    "print('Accuracy achieved with KNN imputer :', accuracy_score(y_pred, y_test)*100)"
   ]
  },
  {
   "cell_type": "code",
   "execution_count": 59,
   "id": "4a4975ac",
   "metadata": {},
   "outputs": [],
   "source": [
    "# Create a SimpleImputer instance with default settings (mean imputation)\n",
    "SimpImputer = SimpleImputer()\n",
    "\n",
    "# Fit and transform the training data (X_train) using Simple Imputer\n",
    "Xtrain_trf2 = SimpImputer.fit_transform(X_train)\n",
    "\n",
    "# Transform the test data (X_test) using the same Simple Imputer\n",
    "Xtest_trf2 = SimpImputer.transform(X_test)"
   ]
  },
  {
   "cell_type": "code",
   "execution_count": 60,
   "id": "19d12ffc",
   "metadata": {},
   "outputs": [
    {
     "name": "stdout",
     "output_type": "stream",
     "text": [
      "Accuracy achieved with mean imputer : 69.27374301675978\n"
     ]
    }
   ],
   "source": [
    "# Create a LogisticRegression instance\n",
    "trf2 = LogisticRegression()\n",
    "\n",
    "# Fit the logistic regression model on the transformed training data (Xtrain_trf2) and corresponding labels (y_train)\n",
    "trf2.fit(Xtrain_trf2, y_train)\n",
    "\n",
    "# Use the trained model to make predictions on the transformed test data (Xtest_trf2)\n",
    "y_pred = trf2.predict(Xtest_trf2)\n",
    "\n",
    "# Calculate the accuracy of the model by comparing predicted labels (y_pred) to actual test labels (y_test)\n",
    "print('Accuracy achieved with mean imputer :', accuracy_score(y_pred, y_test)*100)"
   ]
  },
  {
   "cell_type": "markdown",
   "id": "7acf30a5",
   "metadata": {},
   "source": [
    "### Conclusion\n",
    "\n",
    "Imputing missing values with the mean provides us with an accuracy of almost 69%, whereas using the KNN imputer yields an accuracy of approximately 71.5%. Therefore, we can conclude that the KNN imputer is delivering better results"
   ]
  }
 ],
 "metadata": {
  "kernelspec": {
   "display_name": "Python 3 (ipykernel)",
   "language": "python",
   "name": "python3"
  },
  "language_info": {
   "codemirror_mode": {
    "name": "ipython",
    "version": 3
   },
   "file_extension": ".py",
   "mimetype": "text/x-python",
   "name": "python",
   "nbconvert_exporter": "python",
   "pygments_lexer": "ipython3",
   "version": "3.9.12"
  }
 },
 "nbformat": 4,
 "nbformat_minor": 5
}
