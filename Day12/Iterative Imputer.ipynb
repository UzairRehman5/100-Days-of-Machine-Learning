{
 "cells": [
  {
   "cell_type": "markdown",
   "id": "d27f56cc",
   "metadata": {},
   "source": [
    "# Import necessary libraries"
   ]
  },
  {
   "cell_type": "code",
   "execution_count": 41,
   "id": "7d1582d6",
   "metadata": {},
   "outputs": [],
   "source": [
    "import pandas as pd  # For data manipulation and handling (optional, depending on your data format)\n",
    "import numpy as np   # For numerical operations\n",
    "\n",
    "# Enable IterativeImputer from scikit-learn\n",
    "from sklearn.experimental import enable_iterative_imputer\n",
    "from sklearn.impute import IterativeImputer  # Import the IterativeImputer module from scikit-learn"
   ]
  },
  {
   "cell_type": "markdown",
   "id": "c38a1a4c",
   "metadata": {},
   "source": [
    "# Loading the dataset"
   ]
  },
  {
   "cell_type": "code",
   "execution_count": 42,
   "id": "19d2af4a",
   "metadata": {},
   "outputs": [
    {
     "name": "stdout",
     "output_type": "stream",
     "text": [
      "    R&D Spend  Administration  Marketing Spend  Profit\n",
      "21        8.0            15.0             30.0    11.0\n",
      "37        4.0             5.0             20.0     9.0\n",
      "2        15.0            10.0             41.0    19.0\n",
      "14       12.0            16.0             26.0    13.0\n",
      "44        2.0            15.0              3.0     7.0\n"
     ]
    }
   ],
   "source": [
    "# Read the CSV file and round the numerical columns\n",
    "df = np.round(pd.read_csv('50_Startups.csv')[['R&D Spend', 'Administration', 'Marketing Spend', 'Profit']] / 10000)\n",
    "\n",
    "# Set a random seed for reproducibility\n",
    "np.random.seed(9)\n",
    "\n",
    "# Randomly sample 5 rows without replacement\n",
    "df = df.sample(5, replace=False)\n",
    "\n",
    "# Display the resulting DataFrame\n",
    "print(df)"
   ]
  },
  {
   "cell_type": "markdown",
   "id": "8a325cbc",
   "metadata": {},
   "source": [
    "# Handling Missing Values"
   ]
  },
  {
   "cell_type": "code",
   "execution_count": 43,
   "id": "b20a2ff2",
   "metadata": {},
   "outputs": [
    {
     "name": "stdout",
     "output_type": "stream",
     "text": [
      "    R&D Spend  Administration  Marketing Spend\n",
      "21        8.0            15.0             30.0\n",
      "37        4.0             5.0             20.0\n",
      "2        15.0            10.0             41.0\n",
      "14       12.0            16.0             26.0\n",
      "44        2.0            15.0              3.0\n"
     ]
    }
   ],
   "source": [
    "# Select all rows and all columns except the last column\n",
    "df = df.iloc[:, :-1]\n",
    "\n",
    "# Display the resulting DataFrame\n",
    "print(df)"
   ]
  },
  {
   "cell_type": "code",
   "execution_count": 44,
   "id": "ba44ff6b",
   "metadata": {},
   "outputs": [
    {
     "name": "stdout",
     "output_type": "stream",
     "text": [
      "    R&D Spend  Administration  Marketing Spend\n",
      "21        8.0            15.0             30.0\n",
      "37        NaN             5.0             20.0\n",
      "2        15.0            10.0             41.0\n",
      "14       12.0             NaN             26.0\n",
      "44        2.0            15.0              NaN\n"
     ]
    }
   ],
   "source": [
    "# Set specific values to NaN\n",
    "df.iloc[1, 0] = np.NaN  # Set the value in the second row, first column to NaN\n",
    "df.iloc[3, 1] = np.NaN  # Set the value in the fourth row, second column to NaN\n",
    "df.iloc[-1, -1] = np.NaN  # Set the value in the last row, last column to NaN\n",
    "\n",
    "# Display the resulting DataFrame\n",
    "print(df)"
   ]
  },
  {
   "cell_type": "code",
   "execution_count": 51,
   "id": "0242bea6",
   "metadata": {},
   "outputs": [
    {
     "name": "stdout",
     "output_type": "stream",
     "text": [
      "\n",
      "Imputed Data:\n",
      "[[ 8.         15.         30.        ]\n",
      " [10.13505662  5.         20.        ]\n",
      " [15.         10.         41.        ]\n",
      " [12.          6.46378394 26.        ]\n",
      " [ 2.         15.         13.99209081]]\n"
     ]
    },
    {
     "name": "stderr",
     "output_type": "stream",
     "text": [
      "C:\\Users\\dell\\anaconda3\\lib\\site-packages\\sklearn\\impute\\_iterative.py:699: ConvergenceWarning: [IterativeImputer] Early stopping criterion not reached.\n",
      "  warnings.warn(\n"
     ]
    }
   ],
   "source": [
    "# Create an IterativeImputer instance\n",
    "imputer = IterativeImputer(max_iter=3)\n",
    "\n",
    "# Fit the imputer on your data to learn the imputation model\n",
    "imputer.fit(df)\n",
    "\n",
    "# Transform the data to impute missing values\n",
    "df_imputed = imputer.transform(df)\n",
    "\n",
    "print(\"\\nImputed Data:\")\n",
    "print(df_imputed)"
   ]
  }
 ],
 "metadata": {
  "kernelspec": {
   "display_name": "Python 3 (ipykernel)",
   "language": "python",
   "name": "python3"
  },
  "language_info": {
   "codemirror_mode": {
    "name": "ipython",
    "version": 3
   },
   "file_extension": ".py",
   "mimetype": "text/x-python",
   "name": "python",
   "nbconvert_exporter": "python",
   "pygments_lexer": "ipython3",
   "version": "3.9.12"
  }
 },
 "nbformat": 4,
 "nbformat_minor": 5
}
