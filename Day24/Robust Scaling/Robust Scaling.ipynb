{
 "cells": [
  {
   "cell_type": "markdown",
   "id": "d2536070",
   "metadata": {},
   "source": [
    "# Importing Libraries"
   ]
  },
  {
   "cell_type": "code",
   "execution_count": 16,
   "id": "92374140",
   "metadata": {},
   "outputs": [],
   "source": [
    "import pandas as pd  # Import Pandas library for data manipulation and analysis\n",
    "import numpy as np   # Import NumPy library for numerical computations\n",
    "import matplotlib.pyplot as plt  # Import Matplotlib library for data visualization\n",
    "from sklearn.preprocessing import RobustScaler  # Import RobustScaler from scikit-learn for robust scaling"
   ]
  },
  {
   "cell_type": "markdown",
   "id": "a0acdac4",
   "metadata": {},
   "source": [
    "# Creating a sample dataset"
   ]
  },
  {
   "cell_type": "code",
   "execution_count": 17,
   "id": "56fff8aa",
   "metadata": {},
   "outputs": [],
   "source": [
    "# Create a sample dataset with two features: Feature1 and Feature2\n",
    "data = {\n",
    "    'Feature1': [8, 12, 15, 20, 20, 25, 28, 35, 85, 100, 110],\n",
    "    'Feature2': [1, 2, 1, 3, 4, 3, 6, 5, 40, 50, 55]\n",
    "}"
   ]
  },
  {
   "cell_type": "code",
   "execution_count": 18,
   "id": "30c32f18",
   "metadata": {},
   "outputs": [
    {
     "data": {
      "text/html": [
       "<div>\n",
       "<style scoped>\n",
       "    .dataframe tbody tr th:only-of-type {\n",
       "        vertical-align: middle;\n",
       "    }\n",
       "\n",
       "    .dataframe tbody tr th {\n",
       "        vertical-align: top;\n",
       "    }\n",
       "\n",
       "    .dataframe thead th {\n",
       "        text-align: right;\n",
       "    }\n",
       "</style>\n",
       "<table border=\"1\" class=\"dataframe\">\n",
       "  <thead>\n",
       "    <tr style=\"text-align: right;\">\n",
       "      <th></th>\n",
       "      <th>Feature1</th>\n",
       "      <th>Feature2</th>\n",
       "    </tr>\n",
       "  </thead>\n",
       "  <tbody>\n",
       "    <tr>\n",
       "      <th>0</th>\n",
       "      <td>8</td>\n",
       "      <td>1</td>\n",
       "    </tr>\n",
       "    <tr>\n",
       "      <th>1</th>\n",
       "      <td>12</td>\n",
       "      <td>2</td>\n",
       "    </tr>\n",
       "    <tr>\n",
       "      <th>2</th>\n",
       "      <td>15</td>\n",
       "      <td>1</td>\n",
       "    </tr>\n",
       "    <tr>\n",
       "      <th>3</th>\n",
       "      <td>20</td>\n",
       "      <td>3</td>\n",
       "    </tr>\n",
       "    <tr>\n",
       "      <th>4</th>\n",
       "      <td>20</td>\n",
       "      <td>4</td>\n",
       "    </tr>\n",
       "    <tr>\n",
       "      <th>5</th>\n",
       "      <td>25</td>\n",
       "      <td>3</td>\n",
       "    </tr>\n",
       "    <tr>\n",
       "      <th>6</th>\n",
       "      <td>28</td>\n",
       "      <td>6</td>\n",
       "    </tr>\n",
       "    <tr>\n",
       "      <th>7</th>\n",
       "      <td>35</td>\n",
       "      <td>5</td>\n",
       "    </tr>\n",
       "    <tr>\n",
       "      <th>8</th>\n",
       "      <td>85</td>\n",
       "      <td>40</td>\n",
       "    </tr>\n",
       "    <tr>\n",
       "      <th>9</th>\n",
       "      <td>100</td>\n",
       "      <td>50</td>\n",
       "    </tr>\n",
       "    <tr>\n",
       "      <th>10</th>\n",
       "      <td>110</td>\n",
       "      <td>55</td>\n",
       "    </tr>\n",
       "  </tbody>\n",
       "</table>\n",
       "</div>"
      ],
      "text/plain": [
       "    Feature1  Feature2\n",
       "0          8         1\n",
       "1         12         2\n",
       "2         15         1\n",
       "3         20         3\n",
       "4         20         4\n",
       "5         25         3\n",
       "6         28         6\n",
       "7         35         5\n",
       "8         85        40\n",
       "9        100        50\n",
       "10       110        55"
      ]
     },
     "execution_count": 18,
     "metadata": {},
     "output_type": "execute_result"
    }
   ],
   "source": [
    "# Create a DataFrame using the sample data\n",
    "df = pd.DataFrame(data)\n",
    "df"
   ]
  },
  {
   "cell_type": "markdown",
   "id": "e8950a99",
   "metadata": {},
   "source": [
    "# Visualizing the original data"
   ]
  },
  {
   "cell_type": "code",
   "execution_count": 19,
   "id": "532b86e5",
   "metadata": {},
   "outputs": [
    {
     "data": {
      "text/plain": [
       "<matplotlib.legend.Legend at 0x14982e25a00>"
      ]
     },
     "execution_count": 19,
     "metadata": {},
     "output_type": "execute_result"
    },
    {
     "data": {
      "image/png": "[encoded data removed]",
      "text/plain": [
       "<Figure size 720x288 with 1 Axes>"
      ]
     },
     "metadata": {
      "needs_background": "light"
     },
     "output_type": "display_data"
    }
   ],
   "source": [
    "# Visualize the original data\n",
    "plt.figure(figsize=(10, 4))  # Create a new figure with a specified size (width: 10, height: 4)\n",
    "\n",
    "# Create the first subplot (1 row, 2 columns, first position)\n",
    "plt.subplot(1, 2, 1)\n",
    "\n",
    "# Create a scatter plot of 'Feature1' against 'Feature2' using blue markers\n",
    "plt.scatter(df['Feature1'], df['Feature2'], c='b', label='Original Data')\n",
    "\n",
    "# Set the label for the x-axis\n",
    "plt.xlabel('Feature1')\n",
    "\n",
    "# Set the label for the y-axis\n",
    "plt.ylabel('Feature2')\n",
    "\n",
    "# Add a legend to the plot with the label 'Original Data'\n",
    "plt.legend()"
   ]
  },
  {
   "cell_type": "markdown",
   "id": "2ad11c71",
   "metadata": {},
   "source": [
    "# Robust Scaling"
   ]
  },
  {
   "cell_type": "code",
   "execution_count": 20,
   "id": "44e19bc6",
   "metadata": {},
   "outputs": [],
   "source": [
    "# Create a RobustScaler object for robust scaling\n",
    "scaler = RobustScaler()\n",
    "\n",
    "# Apply Robust Scaling to the dataset and store the scaled data\n",
    "scaled_data = scaler.fit_transform(df)"
   ]
  },
  {
   "cell_type": "code",
   "execution_count": 21,
   "id": "519f388f",
   "metadata": {},
   "outputs": [
    {
     "name": "stdout",
     "output_type": "stream",
     "text": [
      "Scaled Data (Robust Scaling):\n",
      "   Feature1  Feature2\n",
      "0 -0.569231 -0.185185\n",
      "1 -0.353846 -0.111111\n",
      "2 -0.200000 -0.037037\n",
      "3 -0.046154  0.037037\n",
      "4  0.046154 -0.037037\n",
      "5  0.261538  0.111111\n",
      "6  2.261538  3.444444\n",
      "7  2.569231  3.814815\n"
     ]
    }
   ],
   "source": [
    "# Print the scaled data after Robust Scaling\n",
    "print(\"Scaled Data (Robust Scaling):\")\n",
    "print(scaled_df)"
   ]
  },
  {
   "cell_type": "code",
   "execution_count": 22,
   "id": "ad651220",
   "metadata": {},
   "outputs": [],
   "source": [
    "# Convert the scaled data (an array) back to a DataFrame for visualization\n",
    "scaled_df = pd.DataFrame(scaled_data, columns=df.columns)"
   ]
  },
  {
   "cell_type": "markdown",
   "id": "f282d7f7",
   "metadata": {},
   "source": [
    "# Visualizing the scaled data"
   ]
  },
  {
   "cell_type": "code",
   "execution_count": 25,
   "id": "18ecebe5",
   "metadata": {},
   "outputs": [
    {
     "data": {
      "image/png": "[encoded data removed]",
      "text/plain": [
       "<Figure size 432x288 with 1 Axes>"
      ]
     },
     "metadata": {
      "needs_background": "light"
     },
     "output_type": "display_data"
    }
   ],
   "source": [
    "# Create a scatter plot of 'Feature1' (robust scaled) against 'Feature2' (robust scaled) using red markers\n",
    "plt.scatter(scaled_df['Feature1'], scaled_df['Feature2'], c='r', label='Scaled Data')\n",
    "\n",
    "# Set the label for the x-axis, specifying that it represents 'Feature1' after robust scaling\n",
    "plt.xlabel('Feature1 (Robust Scaled)')\n",
    "\n",
    "# Set the label for the y-axis, specifying that it represents 'Feature2' after robust scaling\n",
    "plt.ylabel('Feature2 (Robust Scaled)')\n",
    "\n",
    "# Add a legend to the plot with the label 'Scaled Data'\n",
    "plt.legend()\n",
    "\n",
    "# Adjust the layout of the subplots to prevent overlapping\n",
    "plt.tight_layout()\n",
    "\n",
    "# Display the two subplots side by side\n",
    "plt.show()"
   ]
  },
  {
   "cell_type": "code",
   "execution_count": 24,
   "id": "0790afe1",
   "metadata": {},
   "outputs": [
    {
     "data": {
      "image/png": "[encoded data removed]",
      "text/plain": [
       "<Figure size 864x288 with 2 Axes>"
      ]
     },
     "metadata": {
      "needs_background": "light"
     },
     "output_type": "display_data"
    }
   ],
   "source": [
    "# Create two separate subplots side by side\n",
    "plt.figure(figsize=(12, 4))\n",
    "\n",
    "# Plot the original data in the left subplot\n",
    "plt.subplot(1, 2, 1)\n",
    "plt.scatter(df['Feature1'], df['Feature2'], c='b', label='Original Data')\n",
    "plt.xlabel('Feature1')\n",
    "plt.ylabel('Feature2')\n",
    "plt.legend()\n",
    "plt.title('Original Data')\n",
    "\n",
    "# Plot the scaled data in the right subplot\n",
    "plt.subplot(1, 2, 2)\n",
    "plt.scatter(scaled_df['Feature1'], scaled_df['Feature2'], c='r', label='Scaled Data')\n",
    "plt.xlabel('Feature1 (Robust Scaled)')\n",
    "plt.ylabel('Feature2 (Robust Scaled)')\n",
    "plt.legend()\n",
    "plt.title('Scaled Data')\n",
    "\n",
    "# Adjust layout to prevent overlapping\n",
    "plt.tight_layout()"
   ]
  }
 ],
 "metadata": {
  "kernelspec": {
   "display_name": "Python 3 (ipykernel)",
   "language": "python",
   "name": "python3"
  },
  "language_info": {
   "codemirror_mode": {
    "name": "ipython",
    "version": 3
   },
   "file_extension": ".py",
   "mimetype": "text/x-python",
   "name": "python",
   "nbconvert_exporter": "python",
   "pygments_lexer": "ipython3",
   "version": "3.9.12"
  }
 },
 "nbformat": 4,
 "nbformat_minor": 5
}
