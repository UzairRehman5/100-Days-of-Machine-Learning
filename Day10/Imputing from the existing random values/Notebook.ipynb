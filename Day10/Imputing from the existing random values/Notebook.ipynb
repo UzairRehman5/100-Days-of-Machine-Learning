{
 "cells": [
  {
   "cell_type": "markdown",
   "id": "9426bded",
   "metadata": {},
   "source": [
    "# Importing  libraries"
   ]
  },
  {
   "cell_type": "code",
   "execution_count": 61,
   "id": "ac8a71a4",
   "metadata": {},
   "outputs": [],
   "source": [
    "import numpy as np\n",
    "import pandas as pd\n",
    "import seaborn as sns\n",
    "import matplotlib.pyplot as plt\n",
    "\n",
    "from sklearn.model_selection import train_test_split"
   ]
  },
  {
   "cell_type": "markdown",
   "id": "22d400d2",
   "metadata": {},
   "source": [
    "# Importing dataset and reading the specified columns (Age, Fare, Survived) "
   ]
  },
  {
   "cell_type": "code",
   "execution_count": 62,
   "id": "d50ba1a6",
   "metadata": {},
   "outputs": [],
   "source": [
    "df = pd.read_csv('train.csv',usecols=['Age','Fare','Survived'])"
   ]
  },
  {
   "cell_type": "code",
   "execution_count": 63,
   "id": "de9d51bb",
   "metadata": {},
   "outputs": [
    {
     "data": {
      "text/html": [
       "<div>\n",
       "<style scoped>\n",
       "    .dataframe tbody tr th:only-of-type {\n",
       "        vertical-align: middle;\n",
       "    }\n",
       "\n",
       "    .dataframe tbody tr th {\n",
       "        vertical-align: top;\n",
       "    }\n",
       "\n",
       "    .dataframe thead th {\n",
       "        text-align: right;\n",
       "    }\n",
       "</style>\n",
       "<table border=\"1\" class=\"dataframe\">\n",
       "  <thead>\n",
       "    <tr style=\"text-align: right;\">\n",
       "      <th></th>\n",
       "      <th>Survived</th>\n",
       "      <th>Age</th>\n",
       "      <th>Fare</th>\n",
       "    </tr>\n",
       "  </thead>\n",
       "  <tbody>\n",
       "    <tr>\n",
       "      <th>0</th>\n",
       "      <td>0</td>\n",
       "      <td>22.0</td>\n",
       "      <td>7.2500</td>\n",
       "    </tr>\n",
       "    <tr>\n",
       "      <th>1</th>\n",
       "      <td>1</td>\n",
       "      <td>38.0</td>\n",
       "      <td>71.2833</td>\n",
       "    </tr>\n",
       "    <tr>\n",
       "      <th>2</th>\n",
       "      <td>1</td>\n",
       "      <td>26.0</td>\n",
       "      <td>7.9250</td>\n",
       "    </tr>\n",
       "    <tr>\n",
       "      <th>3</th>\n",
       "      <td>1</td>\n",
       "      <td>35.0</td>\n",
       "      <td>53.1000</td>\n",
       "    </tr>\n",
       "    <tr>\n",
       "      <th>4</th>\n",
       "      <td>0</td>\n",
       "      <td>35.0</td>\n",
       "      <td>8.0500</td>\n",
       "    </tr>\n",
       "  </tbody>\n",
       "</table>\n",
       "</div>"
      ],
      "text/plain": [
       "   Survived   Age     Fare\n",
       "0         0  22.0   7.2500\n",
       "1         1  38.0  71.2833\n",
       "2         1  26.0   7.9250\n",
       "3         1  35.0  53.1000\n",
       "4         0  35.0   8.0500"
      ]
     },
     "execution_count": 63,
     "metadata": {},
     "output_type": "execute_result"
    }
   ],
   "source": [
    "df.head()"
   ]
  },
  {
   "cell_type": "markdown",
   "id": "076ca1b8",
   "metadata": {},
   "source": [
    "# Handling missing value"
   ]
  },
  {
   "cell_type": "code",
   "execution_count": 64,
   "id": "04ecdb2a",
   "metadata": {},
   "outputs": [
    {
     "data": {
      "text/plain": [
       "Survived     0.00000\n",
       "Age         19.86532\n",
       "Fare         0.00000\n",
       "dtype: float64"
      ]
     },
     "execution_count": 64,
     "metadata": {},
     "output_type": "execute_result"
    }
   ],
   "source": [
    "# Calculate the percentage of missing values in each column of the DataFrame 'df'\n",
    "df.isnull().mean() * 100"
   ]
  },
  {
   "cell_type": "code",
   "execution_count": 65,
   "id": "efde5c9f",
   "metadata": {},
   "outputs": [],
   "source": [
    "# Storing all the input columns in variable 'X' and target column in variable 'y'\n",
    "\n",
    "X = df.drop(columns=[\"Survived\"])\n",
    "y = df['Survived']"
   ]
  },
  {
   "cell_type": "code",
   "execution_count": 66,
   "id": "92aa7624",
   "metadata": {},
   "outputs": [],
   "source": [
    "#  Dividing dataset into two subsets: one for training the model (X_train, y_train) and the other for testing its \n",
    "# performance (y_train, y_test), helping evaluate how well the model generalizes to new unseen data.\n",
    "\n",
    "X_train, X_test, y_train, y_test = train_test_split(X,y,test_size=0.2,random_state=2)"
   ]
  },
  {
   "cell_type": "code",
   "execution_count": 67,
   "id": "048e1828",
   "metadata": {},
   "outputs": [
    {
     "data": {
      "text/plain": [
       "((712, 2), (179, 2))"
      ]
     },
     "execution_count": 67,
     "metadata": {},
     "output_type": "execute_result"
    }
   ],
   "source": [
    "# Shape of training and testing data\n",
    "\n",
    "X_train.shape, X_test.shape"
   ]
  },
  {
   "cell_type": "code",
   "execution_count": 68,
   "id": "22d62a9d",
   "metadata": {},
   "outputs": [],
   "source": [
    "# Create new columns 'Age_imputed' in the training and testing datasets, initially copying values from 'Age'\n",
    "X_train['Age_imputed'] = X_train['Age']\n",
    "X_test['Age_imputed'] = X_test['Age']"
   ]
  },
  {
   "cell_type": "code",
   "execution_count": 69,
   "id": "aa1b567d",
   "metadata": {},
   "outputs": [
    {
     "data": {
      "text/plain": [
       "((712, 3), (179, 3))"
      ]
     },
     "execution_count": 69,
     "metadata": {},
     "output_type": "execute_result"
    }
   ],
   "source": [
    "# Shape of training and testing data\n",
    "\n",
    "X_train.shape, X_test.shape"
   ]
  },
  {
   "cell_type": "code",
   "execution_count": 70,
   "id": "cc60fc96",
   "metadata": {},
   "outputs": [],
   "source": [
    "# Impute missing values in the 'Age_imputed' column of the training dataset from the existing non-null values of the X_train['Age'] column\n",
    "X_train['Age_imputed'][X_train['Age_imputed'].isnull()] = X_train['Age'].dropna().sample(X_train['Age'].isnull().sum()).values\n",
    "\n",
    "# Impute missing values in the 'Age_imputed' column of the testing dataset from the existing non-null values of the X_test['Age'] column\n",
    "X_test['Age_imputed'][X_test['Age_imputed'].isnull()] = X_test['Age'].dropna().sample(X_test['Age'].isnull().sum()).values"
   ]
  },
  {
   "cell_type": "code",
   "execution_count": 71,
   "id": "485b3ce7",
   "metadata": {},
   "outputs": [
    {
     "data": {
      "text/plain": [
       "array([ 5.  , 35.  , 23.  , 40.  , 41.  , 29.  , 20.  , 46.  , 58.  ,\n",
       "       65.  , 15.  , 54.  , 34.  , 17.  , 25.  , 13.  ,  8.  , 21.  ,\n",
       "       25.  , 42.  , 24.  , 28.  , 39.  , 34.  , 39.  , 21.  , 25.  ,\n",
       "       21.  ,  8.  , 20.  ,  2.  , 32.  , 60.  , 22.  , 26.  , 40.  ,\n",
       "       27.  ,  0.67, 45.5 , 44.  , 50.  , 45.5 , 33.  , 18.  , 36.  ,\n",
       "       40.  , 30.  , 20.  , 41.  , 14.  , 37.  , 31.  , 22.  , 30.  ,\n",
       "       36.  , 42.  , 57.  , 31.  , 47.  , 19.  , 25.  , 18.  , 36.  ,\n",
       "       34.  , 22.  , 18.  , 30.  , 36.  , 30.  , 27.  , 31.  , 25.  ,\n",
       "       19.  , 26.  ,  4.  , 16.  , 19.  , 25.  , 25.  ,  9.  , 42.  ,\n",
       "       45.  ,  9.  , 22.  , 34.  , 16.  , 51.  , 33.  , 22.  , 43.  ,\n",
       "       29.  , 50.  , 64.  , 36.  , 23.  , 22.  , 28.  , 42.  , 30.  ,\n",
       "       24.  , 21.  , 22.  , 14.  , 28.  , 27.  , 24.  , 16.  , 34.  ,\n",
       "       20.  , 19.  ,  0.75, 22.  , 54.  , 16.  , 30.  , 50.  , 48.  ,\n",
       "       31.  , 51.  , 27.  , 27.  , 52.  , 32.  , 51.  , 25.  , 28.  ,\n",
       "       43.  , 25.  , 26.  , 14.  , 23.  , 71.  , 18.  ,  1.  , 32.  ,\n",
       "       28.  , 20.  , 35.  , 21.  , 21.  , 20.  ,  0.75, 16.  , 27.  ,\n",
       "       48.  , 23.  ,  0.42, 38.  ])"
      ]
     },
     "execution_count": 71,
     "metadata": {},
     "output_type": "execute_result"
    }
   ],
   "source": [
    "# Generating random samples from the non-null X_train['Age'] column to impute missing values in 'Age_imputed'\n",
    "X_train['Age'].dropna().sample(X_train['Age'].isnull().sum()).values"
   ]
  },
  {
   "cell_type": "code",
   "execution_count": 72,
   "id": "37202ced",
   "metadata": {},
   "outputs": [
    {
     "data": {
      "text/plain": [
       "array([17. , 21. , 21. , 48. , 38. , 24.5, 26. , 47. , 25. , 18. , 35. ,\n",
       "       19. , 18. , 18. , 44. ,  1. , 25. , 30. , 37. , 39. , 65. , 63. ,\n",
       "       32. , 33. ,  1. , 20.5, 28. , 10. , 18. ])"
      ]
     },
     "execution_count": 72,
     "metadata": {},
     "output_type": "execute_result"
    }
   ],
   "source": [
    "# Generating random samples from the non-null X_test['Age'] column to impute missing values in 'Age_imputed'\n",
    "X_test['Age'].dropna().sample(X_test['Age'].isnull().sum()).values"
   ]
  },
  {
   "cell_type": "code",
   "execution_count": 73,
   "id": "8a1feb4f",
   "metadata": {},
   "outputs": [
    {
     "name": "stderr",
     "output_type": "stream",
     "text": [
      "C:\\Users\\dell\\anaconda3\\lib\\site-packages\\seaborn\\distributions.py:2619: FutureWarning: `distplot` is a deprecated function and will be removed in a future version. Please adapt your code to use either `displot` (a figure-level function with similar flexibility) or `kdeplot` (an axes-level function for kernel density plots).\n",
      "  warnings.warn(msg, FutureWarning)\n",
      "C:\\Users\\dell\\anaconda3\\lib\\site-packages\\seaborn\\distributions.py:2619: FutureWarning: `distplot` is a deprecated function and will be removed in a future version. Please adapt your code to use either `displot` (a figure-level function with similar flexibility) or `kdeplot` (an axes-level function for kernel density plots).\n",
      "  warnings.warn(msg, FutureWarning)\n"
     ]
    },
    {
     "data": {
      "image/png": "[encoded data removed]",
      "text/plain": [
       "<Figure size 432x288 with 1 Axes>"
      ]
     },
     "metadata": {
      "needs_background": "light"
     },
     "output_type": "display_data"
    }
   ],
   "source": [
    "# Create a density plot for the 'Age' column in the training data with a label 'Original'\n",
    "sns.distplot(X_train['Age'], label='Original', hist=False)\n",
    "\n",
    "# Create a density plot for the 'Age_imputed' column in the training data with a label 'Imputed'\n",
    "sns.distplot(X_train['Age_imputed'], label='Imputed', hist=False)\n",
    "\n",
    "# Add a legend to the plot to distinguish between 'Original' and 'Imputed'\n",
    "plt.legend()\n",
    "\n",
    "# Display the plot\n",
    "plt.show()"
   ]
  },
  {
   "cell_type": "code",
   "execution_count": 74,
   "id": "401ea8d1",
   "metadata": {},
   "outputs": [
    {
     "name": "stdout",
     "output_type": "stream",
     "text": [
      "Original variable variance:  204.3495133904614\n",
      "Variance after random imputation:  204.62364836339867\n"
     ]
    }
   ],
   "source": [
    "# Print the variance of the 'Age' column in the training data (original variable)\n",
    "print('Original variable variance: ', X_train['Age'].var())\n",
    "\n",
    "# Print the variance of the 'Age_imputed' column in the training data (after random imputation)\n",
    "print('Variance after random imputation: ', X_train['Age_imputed'].var())"
   ]
  },
  {
   "cell_type": "code",
   "execution_count": 75,
   "id": "701da891",
   "metadata": {},
   "outputs": [
    {
     "data": {
      "text/plain": [
       "<AxesSubplot:>"
      ]
     },
     "execution_count": 75,
     "metadata": {},
     "output_type": "execute_result"
    },
    {
     "data": {
      "image/png": "[encoded data removed]",
      "text/plain": [
       "<Figure size 432x288 with 1 Axes>"
      ]
     },
     "metadata": {
      "needs_background": "light"
     },
     "output_type": "display_data"
    }
   ],
   "source": [
    "# Create a boxplot to visualize the distribution of 'Age' and 'Age_imputed' columns in the training data\n",
    "X_train[['Age', 'Age_imputed']].boxplot()"
   ]
  },
  {
   "cell_type": "markdown",
   "id": "f4fbf485",
   "metadata": {},
   "source": [
    "As we can see, the distribution, variance, and boxplots of the original 'Age' column and the imputed 'Age' column are almost the same, which is a positive indication."
   ]
  },
  {
   "cell_type": "code",
   "execution_count": null,
   "id": "73f09693",
   "metadata": {},
   "outputs": [],
   "source": []
  }
 ],
 "metadata": {
  "kernelspec": {
   "display_name": "Python 3 (ipykernel)",
   "language": "python",
   "name": "python3"
  },
  "language_info": {
   "codemirror_mode": {
    "name": "ipython",
    "version": 3
   },
   "file_extension": ".py",
   "mimetype": "text/x-python",
   "name": "python",
   "nbconvert_exporter": "python",
   "pygments_lexer": "ipython3",
   "version": "3.9.12"
  }
 },
 "nbformat": 4,
 "nbformat_minor": 5
}
