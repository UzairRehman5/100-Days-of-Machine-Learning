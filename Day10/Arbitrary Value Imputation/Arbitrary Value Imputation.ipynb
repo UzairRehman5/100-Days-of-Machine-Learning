{
 "cells": [
  {
   "cell_type": "markdown",
   "id": "7c20f07a",
   "metadata": {},
   "source": [
    "# Importing  libraries"
   ]
  },
  {
   "cell_type": "code",
   "execution_count": 45,
   "id": "031a6f81",
   "metadata": {},
   "outputs": [],
   "source": [
    "import pandas as pd\n",
    "import matplotlib.pyplot as plt"
   ]
  },
  {
   "cell_type": "markdown",
   "id": "f62a4807",
   "metadata": {},
   "source": [
    "# Importing train_test_split"
   ]
  },
  {
   "cell_type": "code",
   "execution_count": 46,
   "id": "21310476",
   "metadata": {},
   "outputs": [],
   "source": [
    "from sklearn.model_selection import train_test_split"
   ]
  },
  {
   "cell_type": "markdown",
   "id": "1d437bcb",
   "metadata": {},
   "source": [
    "# Loading dataset"
   ]
  },
  {
   "cell_type": "code",
   "execution_count": 47,
   "id": "116165a9",
   "metadata": {},
   "outputs": [
    {
     "data": {
      "text/html": [
       "<div>\n",
       "<style scoped>\n",
       "    .dataframe tbody tr th:only-of-type {\n",
       "        vertical-align: middle;\n",
       "    }\n",
       "\n",
       "    .dataframe tbody tr th {\n",
       "        vertical-align: top;\n",
       "    }\n",
       "\n",
       "    .dataframe thead th {\n",
       "        text-align: right;\n",
       "    }\n",
       "</style>\n",
       "<table border=\"1\" class=\"dataframe\">\n",
       "  <thead>\n",
       "    <tr style=\"text-align: right;\">\n",
       "      <th></th>\n",
       "      <th>Age</th>\n",
       "      <th>Fare</th>\n",
       "      <th>Family</th>\n",
       "      <th>Survived</th>\n",
       "    </tr>\n",
       "  </thead>\n",
       "  <tbody>\n",
       "    <tr>\n",
       "      <th>577</th>\n",
       "      <td>39.0</td>\n",
       "      <td>55.9000</td>\n",
       "      <td>1</td>\n",
       "      <td>1</td>\n",
       "    </tr>\n",
       "    <tr>\n",
       "      <th>68</th>\n",
       "      <td>17.0</td>\n",
       "      <td>7.9250</td>\n",
       "      <td>6</td>\n",
       "      <td>1</td>\n",
       "    </tr>\n",
       "    <tr>\n",
       "      <th>610</th>\n",
       "      <td>39.0</td>\n",
       "      <td>31.2750</td>\n",
       "      <td>6</td>\n",
       "      <td>0</td>\n",
       "    </tr>\n",
       "    <tr>\n",
       "      <th>481</th>\n",
       "      <td>NaN</td>\n",
       "      <td>0.0000</td>\n",
       "      <td>0</td>\n",
       "      <td>0</td>\n",
       "    </tr>\n",
       "    <tr>\n",
       "      <th>367</th>\n",
       "      <td>NaN</td>\n",
       "      <td>7.2292</td>\n",
       "      <td>0</td>\n",
       "      <td>1</td>\n",
       "    </tr>\n",
       "  </tbody>\n",
       "</table>\n",
       "</div>"
      ],
      "text/plain": [
       "      Age     Fare  Family  Survived\n",
       "577  39.0  55.9000       1         1\n",
       "68   17.0   7.9250       6         1\n",
       "610  39.0  31.2750       6         0\n",
       "481   NaN   0.0000       0         0\n",
       "367   NaN   7.2292       0         1"
      ]
     },
     "execution_count": 47,
     "metadata": {},
     "output_type": "execute_result"
    }
   ],
   "source": [
    "df = pd.read_csv(\"titanic_toy.csv\")\n",
    "df.sample(5)"
   ]
  },
  {
   "cell_type": "markdown",
   "id": "2f548c7a",
   "metadata": {},
   "source": [
    "# Displaying concise information about a DataFrame\n",
    "\n",
    "Also include the data types of columns, the number of non-null values, and memory usage."
   ]
  },
  {
   "cell_type": "code",
   "execution_count": 48,
   "id": "def0fd2e",
   "metadata": {},
   "outputs": [
    {
     "name": "stdout",
     "output_type": "stream",
     "text": [
      "<class 'pandas.core.frame.DataFrame'>\n",
      "RangeIndex: 891 entries, 0 to 890\n",
      "Data columns (total 4 columns):\n",
      " #   Column    Non-Null Count  Dtype  \n",
      "---  ------    --------------  -----  \n",
      " 0   Age       714 non-null    float64\n",
      " 1   Fare      846 non-null    float64\n",
      " 2   Family    891 non-null    int64  \n",
      " 3   Survived  891 non-null    int64  \n",
      "dtypes: float64(2), int64(2)\n",
      "memory usage: 28.0 KB\n"
     ]
    }
   ],
   "source": [
    "df.info()"
   ]
  },
  {
   "cell_type": "markdown",
   "id": "bea95a3b",
   "metadata": {},
   "source": [
    "# Handling missing value"
   ]
  },
  {
   "cell_type": "code",
   "execution_count": 49,
   "id": "f7bfe387",
   "metadata": {},
   "outputs": [
    {
     "data": {
      "text/plain": [
       "Age         19.865320\n",
       "Fare         5.050505\n",
       "Family       0.000000\n",
       "Survived     0.000000\n",
       "dtype: float64"
      ]
     },
     "execution_count": 49,
     "metadata": {},
     "output_type": "execute_result"
    }
   ],
   "source": [
    "# Checking the percentage of data missing in each column\n",
    "\n",
    "df.isnull().mean()*100"
   ]
  },
  {
   "cell_type": "code",
   "execution_count": 50,
   "id": "2abfe8d1",
   "metadata": {},
   "outputs": [],
   "source": [
    "# Storing all the input columns in variable 'X' and target column in variable 'y'\n",
    "\n",
    "X = df.drop(columns=[\"Survived\"])\n",
    "y = df['Survived']"
   ]
  },
  {
   "cell_type": "code",
   "execution_count": 51,
   "id": "5aa28295",
   "metadata": {},
   "outputs": [],
   "source": [
    "#  Dividing dataset into two subsets: one for training the model (X_train, y_train) and the other for testing its \n",
    "# performance (y_train, y_test), helping evaluate how well the model generalizes to new unseen data.\n",
    "\n",
    "X_train, X_test, y_train, y_test = train_test_split(X,y,test_size=0.2,random_state=2)"
   ]
  },
  {
   "cell_type": "code",
   "execution_count": 52,
   "id": "f052db08",
   "metadata": {},
   "outputs": [
    {
     "data": {
      "text/plain": [
       "((712, 3), (179, 3))"
      ]
     },
     "execution_count": 52,
     "metadata": {},
     "output_type": "execute_result"
    }
   ],
   "source": [
    "# Shape of training and testing data\n",
    "\n",
    "X_train.shape, X_test.shape"
   ]
  },
  {
   "cell_type": "code",
   "execution_count": 53,
   "id": "b0bd9977",
   "metadata": {},
   "outputs": [
    {
     "data": {
      "text/plain": [
       "Age       20.786517\n",
       "Fare       5.056180\n",
       "Family     0.000000\n",
       "dtype: float64"
      ]
     },
     "execution_count": 53,
     "metadata": {},
     "output_type": "execute_result"
    }
   ],
   "source": [
    "# Percentage of missing data of input columns in training dataset\n",
    "\n",
    "X_train.isnull().mean()*100"
   ]
  },
  {
   "cell_type": "code",
   "execution_count": 54,
   "id": "38862e3c",
   "metadata": {},
   "outputs": [],
   "source": [
    "# Filling the missing data in the 'Age' column with the value -10 and creating a new column named 'Age_minus10'.\n",
    "\n",
    "X_train['Age_minus10'] = X_train['Age'].fillna(-1)"
   ]
  },
  {
   "cell_type": "code",
   "execution_count": 55,
   "id": "466e3948",
   "metadata": {},
   "outputs": [],
   "source": [
    "# Filling the missing data in the 'Age' column with the value 100 and creating a new column named 'Age_100'.\n",
    "\n",
    "X_train['Age_100'] = X_train['Age'].fillna(100)"
   ]
  },
  {
   "cell_type": "code",
   "execution_count": 56,
   "id": "97c56817",
   "metadata": {},
   "outputs": [],
   "source": [
    "# Filling the missing data in the 'Fare' column with the value -10 and creating a new column named 'Fare_minus10'.\n",
    "\n",
    "X_train['Fare_minus10'] = X_train['Fare'].fillna(-10)"
   ]
  },
  {
   "cell_type": "code",
   "execution_count": 57,
   "id": "62ce7dc3",
   "metadata": {},
   "outputs": [],
   "source": [
    "# Filling the missing data in the 'Fare' column with the value 100 and creating a new column named 'Fare_100'.\n",
    "\n",
    "X_train['Fare_100'] = X_train['Fare'].fillna(100)"
   ]
  },
  {
   "cell_type": "code",
   "execution_count": 58,
   "id": "0b26adb0",
   "metadata": {},
   "outputs": [
    {
     "data": {
      "text/html": [
       "<div>\n",
       "<style scoped>\n",
       "    .dataframe tbody tr th:only-of-type {\n",
       "        vertical-align: middle;\n",
       "    }\n",
       "\n",
       "    .dataframe tbody tr th {\n",
       "        vertical-align: top;\n",
       "    }\n",
       "\n",
       "    .dataframe thead th {\n",
       "        text-align: right;\n",
       "    }\n",
       "</style>\n",
       "<table border=\"1\" class=\"dataframe\">\n",
       "  <thead>\n",
       "    <tr style=\"text-align: right;\">\n",
       "      <th></th>\n",
       "      <th>Age</th>\n",
       "      <th>Fare</th>\n",
       "      <th>Family</th>\n",
       "      <th>Age_minus10</th>\n",
       "      <th>Age_100</th>\n",
       "      <th>Fare_minus10</th>\n",
       "      <th>Fare_100</th>\n",
       "    </tr>\n",
       "  </thead>\n",
       "  <tbody>\n",
       "    <tr>\n",
       "      <th>39</th>\n",
       "      <td>14.0</td>\n",
       "      <td>11.2417</td>\n",
       "      <td>1</td>\n",
       "      <td>14.0</td>\n",
       "      <td>14.0</td>\n",
       "      <td>11.2417</td>\n",
       "      <td>11.2417</td>\n",
       "    </tr>\n",
       "    <tr>\n",
       "      <th>174</th>\n",
       "      <td>56.0</td>\n",
       "      <td>30.6958</td>\n",
       "      <td>0</td>\n",
       "      <td>56.0</td>\n",
       "      <td>56.0</td>\n",
       "      <td>30.6958</td>\n",
       "      <td>30.6958</td>\n",
       "    </tr>\n",
       "    <tr>\n",
       "      <th>388</th>\n",
       "      <td>NaN</td>\n",
       "      <td>7.7292</td>\n",
       "      <td>0</td>\n",
       "      <td>-1.0</td>\n",
       "      <td>100.0</td>\n",
       "      <td>7.7292</td>\n",
       "      <td>7.7292</td>\n",
       "    </tr>\n",
       "    <tr>\n",
       "      <th>550</th>\n",
       "      <td>17.0</td>\n",
       "      <td>110.8833</td>\n",
       "      <td>2</td>\n",
       "      <td>17.0</td>\n",
       "      <td>17.0</td>\n",
       "      <td>110.8833</td>\n",
       "      <td>110.8833</td>\n",
       "    </tr>\n",
       "    <tr>\n",
       "      <th>690</th>\n",
       "      <td>31.0</td>\n",
       "      <td>57.0000</td>\n",
       "      <td>1</td>\n",
       "      <td>31.0</td>\n",
       "      <td>31.0</td>\n",
       "      <td>57.0000</td>\n",
       "      <td>57.0000</td>\n",
       "    </tr>\n",
       "  </tbody>\n",
       "</table>\n",
       "</div>"
      ],
      "text/plain": [
       "      Age      Fare  Family  Age_minus10  Age_100  Fare_minus10  Fare_100\n",
       "39   14.0   11.2417       1         14.0     14.0       11.2417   11.2417\n",
       "174  56.0   30.6958       0         56.0     56.0       30.6958   30.6958\n",
       "388   NaN    7.7292       0         -1.0    100.0        7.7292    7.7292\n",
       "550  17.0  110.8833       2         17.0     17.0      110.8833  110.8833\n",
       "690  31.0   57.0000       1         31.0     31.0       57.0000   57.0000"
      ]
     },
     "execution_count": 58,
     "metadata": {},
     "output_type": "execute_result"
    }
   ],
   "source": [
    "X_train.sample(5)"
   ]
  },
  {
   "cell_type": "markdown",
   "id": "a9f21d3d",
   "metadata": {},
   "source": [
    "# Examing variance"
   ]
  },
  {
   "cell_type": "code",
   "execution_count": 59,
   "id": "890a0f20",
   "metadata": {},
   "outputs": [
    {
     "name": "stdout",
     "output_type": "stream",
     "text": [
      "Original Age variable variance :  204.3495133904614\n",
      "Age variance after imputating value -10 :  318.0896202624484\n",
      "Age variance after imputating value 100 :  974.717707779638\n",
      "\n",
      "\n",
      "Original Fare variable variance :  2448.197913706318\n",
      "Fare variance after imputating value -10 :  2411.5512454773966\n",
      "Fare variance after imputating value 100 :  2542.507794332463\n"
     ]
    }
   ],
   "source": [
    "# When using arbitrary value to replace missing values in a dataset, this can potentially lead to a reduction or expansion\n",
    "# in the variance of the imputed dataset compared to the original dataset, which can impact downstream analyses or modeling.\n",
    "# To verify this, we are calculating the variance. We check whether the variance of the imputed dataset has significantly  \n",
    "# changed as compared to the original dataset.\n",
    "\n",
    "print(\"Original Age variable variance : \", X_train['Age'].var())\n",
    "print(\"Age variance after imputating value -10 : \", X_train['Age_minus10'].var())\n",
    "print(\"Age variance after imputating value 100 : \", X_train['Age_100'].var())\n",
    "\n",
    "print(\"\\n\")\n",
    "\n",
    "\n",
    "print(\"Original Fare variable variance : \", X_train['Fare'].var())\n",
    "print(\"Fare variance after imputating value -10 : \", X_train['Fare_minus10'].var())\n",
    "print(\"Fare variance after imputating value 100 : \", X_train['Fare_100'].var())"
   ]
  },
  {
   "cell_type": "markdown",
   "id": "13ab70c2",
   "metadata": {},
   "source": [
    "As we observe, the variance is significantly changing in the age column. Therefore, we need to exercise caution when imputing missing values and carefully select the optimal strategy."
   ]
  },
  {
   "cell_type": "markdown",
   "id": "b1c0e8b4",
   "metadata": {},
   "source": [
    "# Examining distribution"
   ]
  },
  {
   "cell_type": "code",
   "execution_count": 60,
   "id": "52ac77f6",
   "metadata": {},
   "outputs": [
    {
     "data": {
      "text/plain": [
       "<matplotlib.legend.Legend at 0x1eb528f67c0>"
      ]
     },
     "execution_count": 60,
     "metadata": {},
     "output_type": "execute_result"
    },
    {
     "data": {
      "image/png": "[encoded data removed]",
      "text/plain": [
       "<Figure size 432x288 with 1 Axes>"
      ]
     },
     "metadata": {
      "needs_background": "light"
     },
     "output_type": "display_data"
    }
   ],
   "source": [
    "# Now, let's examine the distribution of the original column 'Age', the  'Age_minus10' column, and the 'Age_100' column.\n",
    "\n",
    "fig = plt.figure()\n",
    "ax = fig.add_subplot(111)\n",
    "\n",
    "# original variable distribution\n",
    "X_train['Age'].plot(kind='kde', ax=ax)\n",
    "\n",
    "# variable imputed with value minus10\n",
    "X_train['Age_minus10'].plot(kind='kde', ax=ax, color='green')\n",
    "\n",
    "# variable imputed with value 100\n",
    "X_train['Age_100'].plot(kind='kde', ax=ax, color='red')\n",
    "\n",
    "# adding legend\n",
    "lines, labels = ax.get_legend_handles_labels()\n",
    "ax.legend(lines, labels, loc='best')"
   ]
  },
  {
   "cell_type": "code",
   "execution_count": 61,
   "id": "8d0d0726",
   "metadata": {},
   "outputs": [
    {
     "data": {
      "text/plain": [
       "<matplotlib.legend.Legend at 0x1eb52955490>"
      ]
     },
     "execution_count": 61,
     "metadata": {},
     "output_type": "execute_result"
    },
    {
     "data": {
      "image/png": "[encoded data removed]",
      "text/plain": [
       "<Figure size 432x288 with 1 Axes>"
      ]
     },
     "metadata": {
      "needs_background": "light"
     },
     "output_type": "display_data"
    }
   ],
   "source": [
    "# Now, let's examine the distribution of the original column 'Fare', the 'Fare_minus10' column, and the 'Fare_100' column.\n",
    "\n",
    "fig = plt.figure()\n",
    "ax = fig.add_subplot(111)\n",
    "\n",
    "# original variable distribution\n",
    "X_train['Fare'].plot(kind='kde', ax=ax)\n",
    "\n",
    "# variable imputed with value -10\n",
    "X_train['Fare_minus10'].plot(kind='kde', ax=ax, color='green')\n",
    "\n",
    "# variable imputed with value 100\n",
    "X_train['Fare_100'].plot(kind='kde', ax=ax, color='red')\n",
    "\n",
    "# adding legend\n",
    "lines, labels = ax.get_legend_handles_labels()\n",
    "ax.legend(lines, labels, loc='best')"
   ]
  },
  {
   "cell_type": "markdown",
   "id": "da8414c2",
   "metadata": {},
   "source": [
    "As we can see that, distribution of imputed 'Age_minus10' column and imputed 'Age_100' column is changing as compared to original age column, which shows that it is not good strategy to fill missing value of age column with arbitrary value. \n",
    "\n",
    "Whereas in fare column, distribution of all the columns are almost same, which shows that we can fill missing values with the arbitrary values."
   ]
  },
  {
   "cell_type": "markdown",
   "id": "edbf1c5b",
   "metadata": {},
   "source": [
    "# Examining covariance"
   ]
  },
  {
   "cell_type": "code",
   "execution_count": 62,
   "id": "9ba7a277",
   "metadata": {},
   "outputs": [
    {
     "data": {
      "text/html": [
       "<div>\n",
       "<style scoped>\n",
       "    .dataframe tbody tr th:only-of-type {\n",
       "        vertical-align: middle;\n",
       "    }\n",
       "\n",
       "    .dataframe tbody tr th {\n",
       "        vertical-align: top;\n",
       "    }\n",
       "\n",
       "    .dataframe thead th {\n",
       "        text-align: right;\n",
       "    }\n",
       "</style>\n",
       "<table border=\"1\" class=\"dataframe\">\n",
       "  <thead>\n",
       "    <tr style=\"text-align: right;\">\n",
       "      <th></th>\n",
       "      <th>Age</th>\n",
       "      <th>Fare</th>\n",
       "      <th>Family</th>\n",
       "      <th>Age_minus10</th>\n",
       "      <th>Age_100</th>\n",
       "      <th>Fare_minus10</th>\n",
       "      <th>Fare_100</th>\n",
       "    </tr>\n",
       "  </thead>\n",
       "  <tbody>\n",
       "    <tr>\n",
       "      <th>Age</th>\n",
       "      <td>204.349513</td>\n",
       "      <td>70.719262</td>\n",
       "      <td>-6.498901</td>\n",
       "      <td>204.349513</td>\n",
       "      <td>204.349513</td>\n",
       "      <td>62.425937</td>\n",
       "      <td>73.367884</td>\n",
       "    </tr>\n",
       "    <tr>\n",
       "      <th>Fare</th>\n",
       "      <td>70.719262</td>\n",
       "      <td>2448.197914</td>\n",
       "      <td>17.258917</td>\n",
       "      <td>125.558364</td>\n",
       "      <td>-103.943392</td>\n",
       "      <td>2448.197914</td>\n",
       "      <td>2448.197914</td>\n",
       "    </tr>\n",
       "    <tr>\n",
       "      <th>Family</th>\n",
       "      <td>-6.498901</td>\n",
       "      <td>17.258917</td>\n",
       "      <td>2.735252</td>\n",
       "      <td>-4.149246</td>\n",
       "      <td>-7.419667</td>\n",
       "      <td>16.599217</td>\n",
       "      <td>16.046427</td>\n",
       "    </tr>\n",
       "    <tr>\n",
       "      <th>Age_minus10</th>\n",
       "      <td>204.349513</td>\n",
       "      <td>125.558364</td>\n",
       "      <td>-4.149246</td>\n",
       "      <td>318.089620</td>\n",
       "      <td>-194.611791</td>\n",
       "      <td>113.107269</td>\n",
       "      <td>128.835701</td>\n",
       "    </tr>\n",
       "    <tr>\n",
       "      <th>Age_100</th>\n",
       "      <td>204.349513</td>\n",
       "      <td>-103.943392</td>\n",
       "      <td>-7.419667</td>\n",
       "      <td>-194.611791</td>\n",
       "      <td>974.717708</td>\n",
       "      <td>-95.795213</td>\n",
       "      <td>-103.242242</td>\n",
       "    </tr>\n",
       "    <tr>\n",
       "      <th>Fare_minus10</th>\n",
       "      <td>62.425937</td>\n",
       "      <td>2448.197914</td>\n",
       "      <td>16.599217</td>\n",
       "      <td>113.107269</td>\n",
       "      <td>-95.795213</td>\n",
       "      <td>2411.551245</td>\n",
       "      <td>2186.188957</td>\n",
       "    </tr>\n",
       "    <tr>\n",
       "      <th>Fare_100</th>\n",
       "      <td>73.367884</td>\n",
       "      <td>2448.197914</td>\n",
       "      <td>16.046427</td>\n",
       "      <td>128.835701</td>\n",
       "      <td>-103.242242</td>\n",
       "      <td>2186.188957</td>\n",
       "      <td>2542.507794</td>\n",
       "    </tr>\n",
       "  </tbody>\n",
       "</table>\n",
       "</div>"
      ],
      "text/plain": [
       "                     Age         Fare     Family  Age_minus10     Age_100  \\\n",
       "Age           204.349513    70.719262  -6.498901   204.349513  204.349513   \n",
       "Fare           70.719262  2448.197914  17.258917   125.558364 -103.943392   \n",
       "Family         -6.498901    17.258917   2.735252    -4.149246   -7.419667   \n",
       "Age_minus10   204.349513   125.558364  -4.149246   318.089620 -194.611791   \n",
       "Age_100       204.349513  -103.943392  -7.419667  -194.611791  974.717708   \n",
       "Fare_minus10   62.425937  2448.197914  16.599217   113.107269  -95.795213   \n",
       "Fare_100       73.367884  2448.197914  16.046427   128.835701 -103.242242   \n",
       "\n",
       "              Fare_minus10     Fare_100  \n",
       "Age              62.425937    73.367884  \n",
       "Fare           2448.197914  2448.197914  \n",
       "Family           16.599217    16.046427  \n",
       "Age_minus10     113.107269   128.835701  \n",
       "Age_100         -95.795213  -103.242242  \n",
       "Fare_minus10   2411.551245  2186.188957  \n",
       "Fare_100       2186.188957  2542.507794  "
      ]
     },
     "execution_count": 62,
     "metadata": {},
     "output_type": "execute_result"
    }
   ],
   "source": [
    "# We can also check covariance to determine whether the covariance of imputed columns with other columns is the same \n",
    "# as that of the original columns with other columns.\n",
    "\n",
    "X_train.cov()"
   ]
  },
  {
   "cell_type": "markdown",
   "id": "9e57f20b",
   "metadata": {},
   "source": [
    "Significant changes in covariance are undesirable."
   ]
  },
  {
   "cell_type": "markdown",
   "id": "3b9d4d2d",
   "metadata": {},
   "source": [
    "# Examining correlation"
   ]
  },
  {
   "cell_type": "code",
   "execution_count": 63,
   "id": "300f4583",
   "metadata": {},
   "outputs": [
    {
     "data": {
      "text/html": [
       "<div>\n",
       "<style scoped>\n",
       "    .dataframe tbody tr th:only-of-type {\n",
       "        vertical-align: middle;\n",
       "    }\n",
       "\n",
       "    .dataframe tbody tr th {\n",
       "        vertical-align: top;\n",
       "    }\n",
       "\n",
       "    .dataframe thead th {\n",
       "        text-align: right;\n",
       "    }\n",
       "</style>\n",
       "<table border=\"1\" class=\"dataframe\">\n",
       "  <thead>\n",
       "    <tr style=\"text-align: right;\">\n",
       "      <th></th>\n",
       "      <th>Age</th>\n",
       "      <th>Fare</th>\n",
       "      <th>Family</th>\n",
       "      <th>Age_minus10</th>\n",
       "      <th>Age_100</th>\n",
       "      <th>Fare_minus10</th>\n",
       "      <th>Fare_100</th>\n",
       "    </tr>\n",
       "  </thead>\n",
       "  <tbody>\n",
       "    <tr>\n",
       "      <th>Age</th>\n",
       "      <td>1.000000</td>\n",
       "      <td>0.092644</td>\n",
       "      <td>-0.299113</td>\n",
       "      <td>1.000000</td>\n",
       "      <td>1.000000</td>\n",
       "      <td>0.082829</td>\n",
       "      <td>0.095549</td>\n",
       "    </tr>\n",
       "    <tr>\n",
       "      <th>Fare</th>\n",
       "      <td>0.092644</td>\n",
       "      <td>1.000000</td>\n",
       "      <td>0.208268</td>\n",
       "      <td>0.142022</td>\n",
       "      <td>-0.066951</td>\n",
       "      <td>1.000000</td>\n",
       "      <td>1.000000</td>\n",
       "    </tr>\n",
       "    <tr>\n",
       "      <th>Family</th>\n",
       "      <td>-0.299113</td>\n",
       "      <td>0.208268</td>\n",
       "      <td>1.000000</td>\n",
       "      <td>-0.140668</td>\n",
       "      <td>-0.143697</td>\n",
       "      <td>0.204381</td>\n",
       "      <td>0.192419</td>\n",
       "    </tr>\n",
       "    <tr>\n",
       "      <th>Age_minus10</th>\n",
       "      <td>1.000000</td>\n",
       "      <td>0.142022</td>\n",
       "      <td>-0.140668</td>\n",
       "      <td>1.000000</td>\n",
       "      <td>-0.349506</td>\n",
       "      <td>0.129142</td>\n",
       "      <td>0.143262</td>\n",
       "    </tr>\n",
       "    <tr>\n",
       "      <th>Age_100</th>\n",
       "      <td>1.000000</td>\n",
       "      <td>-0.066951</td>\n",
       "      <td>-0.143697</td>\n",
       "      <td>-0.349506</td>\n",
       "      <td>1.000000</td>\n",
       "      <td>-0.062482</td>\n",
       "      <td>-0.065582</td>\n",
       "    </tr>\n",
       "    <tr>\n",
       "      <th>Fare_minus10</th>\n",
       "      <td>0.082829</td>\n",
       "      <td>1.000000</td>\n",
       "      <td>0.204381</td>\n",
       "      <td>0.129142</td>\n",
       "      <td>-0.062482</td>\n",
       "      <td>1.000000</td>\n",
       "      <td>0.882893</td>\n",
       "    </tr>\n",
       "    <tr>\n",
       "      <th>Fare_100</th>\n",
       "      <td>0.095549</td>\n",
       "      <td>1.000000</td>\n",
       "      <td>0.192419</td>\n",
       "      <td>0.143262</td>\n",
       "      <td>-0.065582</td>\n",
       "      <td>0.882893</td>\n",
       "      <td>1.000000</td>\n",
       "    </tr>\n",
       "  </tbody>\n",
       "</table>\n",
       "</div>"
      ],
      "text/plain": [
       "                   Age      Fare    Family  Age_minus10   Age_100  \\\n",
       "Age           1.000000  0.092644 -0.299113     1.000000  1.000000   \n",
       "Fare          0.092644  1.000000  0.208268     0.142022 -0.066951   \n",
       "Family       -0.299113  0.208268  1.000000    -0.140668 -0.143697   \n",
       "Age_minus10   1.000000  0.142022 -0.140668     1.000000 -0.349506   \n",
       "Age_100       1.000000 -0.066951 -0.143697    -0.349506  1.000000   \n",
       "Fare_minus10  0.082829  1.000000  0.204381     0.129142 -0.062482   \n",
       "Fare_100      0.095549  1.000000  0.192419     0.143262 -0.065582   \n",
       "\n",
       "              Fare_minus10  Fare_100  \n",
       "Age               0.082829  0.095549  \n",
       "Fare              1.000000  1.000000  \n",
       "Family            0.204381  0.192419  \n",
       "Age_minus10       0.129142  0.143262  \n",
       "Age_100          -0.062482 -0.065582  \n",
       "Fare_minus10      1.000000  0.882893  \n",
       "Fare_100          0.882893  1.000000  "
      ]
     },
     "execution_count": 63,
     "metadata": {},
     "output_type": "execute_result"
    }
   ],
   "source": [
    "# We can also check correlation to determine whether the correlation of imputed columns with other columns is the \n",
    "# same as that of the original columns with other columns.\n",
    "\n",
    "X_train.corr()"
   ]
  },
  {
   "cell_type": "markdown",
   "id": "76111b0f",
   "metadata": {},
   "source": [
    "Since correlation values range only between -1 and 1, significant changes in correlation are also undesirable."
   ]
  },
  {
   "cell_type": "markdown",
   "id": "2d758490",
   "metadata": {},
   "source": [
    "# Creating box plots to visualize changes between the original and imputed columns"
   ]
  },
  {
   "cell_type": "code",
   "execution_count": 64,
   "id": "56bc84dd",
   "metadata": {},
   "outputs": [
    {
     "data": {
      "text/plain": [
       "<AxesSubplot:>"
      ]
     },
     "execution_count": 64,
     "metadata": {},
     "output_type": "execute_result"
    },
    {
     "data": {
      "image/png": "[encoded data removed]",
      "text/plain": [
       "<Figure size 432x288 with 1 Axes>"
      ]
     },
     "metadata": {
      "needs_background": "light"
     },
     "output_type": "display_data"
    }
   ],
   "source": [
    "X_train[['Age', 'Age_minus10', 'Age_100']].boxplot()"
   ]
  },
  {
   "cell_type": "markdown",
   "id": "5c099a46",
   "metadata": {},
   "source": [
    "We can observe that in the imputed columns, the interquartile range has changed, which is a concerning sign."
   ]
  },
  {
   "cell_type": "code",
   "execution_count": 65,
   "id": "fd382afc",
   "metadata": {},
   "outputs": [
    {
     "data": {
      "text/plain": [
       "<AxesSubplot:>"
      ]
     },
     "execution_count": 65,
     "metadata": {},
     "output_type": "execute_result"
    },
    {
     "data": {
      "image/png": "[encoded data removed]",
      "text/plain": [
       "<Figure size 432x288 with 1 Axes>"
      ]
     },
     "metadata": {
      "needs_background": "light"
     },
     "output_type": "display_data"
    }
   ],
   "source": [
    "X_train[['Fare', 'Fare_minus10', 'Fare_100']].boxplot()"
   ]
  },
  {
   "cell_type": "markdown",
   "id": "191c0367",
   "metadata": {},
   "source": [
    "We can observe that there isn't a significant difference between the original columns and the mean and median imputed columns, which is a positive indication."
   ]
  }
 ],
 "metadata": {
  "kernelspec": {
   "display_name": "Python 3 (ipykernel)",
   "language": "python",
   "name": "python3"
  },
  "language_info": {
   "codemirror_mode": {
    "name": "ipython",
    "version": 3
   },
   "file_extension": ".py",
   "mimetype": "text/x-python",
   "name": "python",
   "nbconvert_exporter": "python",
   "pygments_lexer": "ipython3",
   "version": "3.9.12"
  }
 },
 "nbformat": 4,
 "nbformat_minor": 5
}
