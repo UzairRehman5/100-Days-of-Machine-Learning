{
 "cells": [
  {
   "cell_type": "markdown",
   "id": "7c20f07a",
   "metadata": {},
   "source": [
    "# Importing  libraries"
   ]
  },
  {
   "cell_type": "code",
   "execution_count": 1,
   "id": "031a6f81",
   "metadata": {},
   "outputs": [],
   "source": [
    "import pandas as pd\n",
    "import numpy as np\n",
    "import matplotlib.pyplot as plt"
   ]
  },
  {
   "cell_type": "markdown",
   "id": "f62a4807",
   "metadata": {},
   "source": [
    "# Importing train_test_split"
   ]
  },
  {
   "cell_type": "code",
   "execution_count": 2,
   "id": "21310476",
   "metadata": {},
   "outputs": [],
   "source": [
    "from sklearn.model_selection import train_test_split"
   ]
  },
  {
   "cell_type": "markdown",
   "id": "1d437bcb",
   "metadata": {},
   "source": [
    "# Loading dataset"
   ]
  },
  {
   "cell_type": "code",
   "execution_count": 3,
   "id": "116165a9",
   "metadata": {},
   "outputs": [
    {
     "data": {
      "text/html": [
       "<div>\n",
       "<style scoped>\n",
       "    .dataframe tbody tr th:only-of-type {\n",
       "        vertical-align: middle;\n",
       "    }\n",
       "\n",
       "    .dataframe tbody tr th {\n",
       "        vertical-align: top;\n",
       "    }\n",
       "\n",
       "    .dataframe thead th {\n",
       "        text-align: right;\n",
       "    }\n",
       "</style>\n",
       "<table border=\"1\" class=\"dataframe\">\n",
       "  <thead>\n",
       "    <tr style=\"text-align: right;\">\n",
       "      <th></th>\n",
       "      <th>Age</th>\n",
       "      <th>Fare</th>\n",
       "      <th>Family</th>\n",
       "      <th>Survived</th>\n",
       "    </tr>\n",
       "  </thead>\n",
       "  <tbody>\n",
       "    <tr>\n",
       "      <th>139</th>\n",
       "      <td>24.0</td>\n",
       "      <td>79.2000</td>\n",
       "      <td>0</td>\n",
       "      <td>0</td>\n",
       "    </tr>\n",
       "    <tr>\n",
       "      <th>237</th>\n",
       "      <td>8.0</td>\n",
       "      <td>26.2500</td>\n",
       "      <td>2</td>\n",
       "      <td>1</td>\n",
       "    </tr>\n",
       "    <tr>\n",
       "      <th>133</th>\n",
       "      <td>29.0</td>\n",
       "      <td>NaN</td>\n",
       "      <td>1</td>\n",
       "      <td>1</td>\n",
       "    </tr>\n",
       "    <tr>\n",
       "      <th>483</th>\n",
       "      <td>63.0</td>\n",
       "      <td>9.5875</td>\n",
       "      <td>0</td>\n",
       "      <td>1</td>\n",
       "    </tr>\n",
       "    <tr>\n",
       "      <th>605</th>\n",
       "      <td>36.0</td>\n",
       "      <td>15.5500</td>\n",
       "      <td>1</td>\n",
       "      <td>0</td>\n",
       "    </tr>\n",
       "  </tbody>\n",
       "</table>\n",
       "</div>"
      ],
      "text/plain": [
       "      Age     Fare  Family  Survived\n",
       "139  24.0  79.2000       0         0\n",
       "237   8.0  26.2500       2         1\n",
       "133  29.0      NaN       1         1\n",
       "483  63.0   9.5875       0         1\n",
       "605  36.0  15.5500       1         0"
      ]
     },
     "execution_count": 3,
     "metadata": {},
     "output_type": "execute_result"
    }
   ],
   "source": [
    "df = pd.read_csv(\"titanic_toy.csv\")\n",
    "df.sample(5)"
   ]
  },
  {
   "cell_type": "markdown",
   "id": "2f548c7a",
   "metadata": {},
   "source": [
    "# Displaying concise information about a DataFrame\n",
    "\n",
    "Also include the data types of columns, the number of non-null values, and memory usage."
   ]
  },
  {
   "cell_type": "code",
   "execution_count": 4,
   "id": "def0fd2e",
   "metadata": {},
   "outputs": [
    {
     "name": "stdout",
     "output_type": "stream",
     "text": [
      "<class 'pandas.core.frame.DataFrame'>\n",
      "RangeIndex: 891 entries, 0 to 890\n",
      "Data columns (total 4 columns):\n",
      " #   Column    Non-Null Count  Dtype  \n",
      "---  ------    --------------  -----  \n",
      " 0   Age       714 non-null    float64\n",
      " 1   Fare      846 non-null    float64\n",
      " 2   Family    891 non-null    int64  \n",
      " 3   Survived  891 non-null    int64  \n",
      "dtypes: float64(2), int64(2)\n",
      "memory usage: 28.0 KB\n"
     ]
    }
   ],
   "source": [
    "df.info()"
   ]
  },
  {
   "cell_type": "markdown",
   "id": "bea95a3b",
   "metadata": {},
   "source": [
    "# Handling missing value"
   ]
  },
  {
   "cell_type": "code",
   "execution_count": 5,
   "id": "f7bfe387",
   "metadata": {},
   "outputs": [
    {
     "data": {
      "text/plain": [
       "Age         19.865320\n",
       "Fare         5.050505\n",
       "Family       0.000000\n",
       "Survived     0.000000\n",
       "dtype: float64"
      ]
     },
     "execution_count": 5,
     "metadata": {},
     "output_type": "execute_result"
    }
   ],
   "source": [
    "# Checking the percentage of data missing in each column\n",
    "\n",
    "df.isnull().mean()*100"
   ]
  },
  {
   "cell_type": "code",
   "execution_count": 6,
   "id": "2abfe8d1",
   "metadata": {},
   "outputs": [],
   "source": [
    "# Storing all the input columns in variable 'X' and target column in variable 'y'\n",
    "\n",
    "X = df.drop(columns=[\"Survived\"])\n",
    "y = df['Survived']"
   ]
  },
  {
   "cell_type": "code",
   "execution_count": 7,
   "id": "5aa28295",
   "metadata": {},
   "outputs": [],
   "source": [
    "#  Dividing dataset into two subsets: one for training the model (X_train, y_train) and the other for testing its \n",
    "# performance (y_train, y_test), helping evaluate how well the model generalizes to new unseen data.\n",
    "\n",
    "X_train, X_test, y_train, y_test = train_test_split(X,y,test_size=0.2,random_state=2)"
   ]
  },
  {
   "cell_type": "code",
   "execution_count": 8,
   "id": "f052db08",
   "metadata": {},
   "outputs": [
    {
     "data": {
      "text/plain": [
       "((712, 3), (179, 3))"
      ]
     },
     "execution_count": 8,
     "metadata": {},
     "output_type": "execute_result"
    }
   ],
   "source": [
    "# Shape of training and testing data\n",
    "\n",
    "X_train.shape, X_test.shape"
   ]
  },
  {
   "cell_type": "code",
   "execution_count": 9,
   "id": "b0bd9977",
   "metadata": {},
   "outputs": [
    {
     "data": {
      "text/plain": [
       "Age       20.786517\n",
       "Fare       5.056180\n",
       "Family     0.000000\n",
       "dtype: float64"
      ]
     },
     "execution_count": 9,
     "metadata": {},
     "output_type": "execute_result"
    }
   ],
   "source": [
    "# Percentage of missing data of input columns in training dataset\n",
    "\n",
    "X_train.isnull().mean()*100"
   ]
  },
  {
   "cell_type": "code",
   "execution_count": 10,
   "id": "38862e3c",
   "metadata": {},
   "outputs": [],
   "source": [
    "# Define a function to generate random values for missing data\n",
    "def fill_random(row, mean, std):\n",
    "    if pd.isna(row):\n",
    "        return np.random.normal(mean, std)\n",
    "    else:\n",
    "        return row\n",
    "    \n",
    "# Here, I defined a custom function fill_random(row, mean, std) that takes a row, mean, and standard deviation as inputs. \n",
    "# Inside this function, if the value in the row is missing (NaN), it fills it with a random value generated from a \n",
    "# normal distribution with the specified mean and standard deviation. If the value is not missing, it leaves it unchanged."
   ]
  },
  {
   "cell_type": "code",
   "execution_count": 11,
   "id": "466e3948",
   "metadata": {},
   "outputs": [],
   "source": [
    "# Defining mean and standard deviation for random value\n",
    "mean_age = X_train['Age'].mean()\n",
    "std_age = X_train['Age'].std()\n",
    "\n",
    "# Applying the function to create new columns with random values\n",
    "X_train['Age_random'] = X_train['Age'].apply(lambda x: fill_random(x, mean_age, std_age))"
   ]
  },
  {
   "cell_type": "code",
   "execution_count": 12,
   "id": "97c56817",
   "metadata": {},
   "outputs": [],
   "source": [
    "# Defining mean and standard deviation for random values\n",
    "mean_fare = X_train['Fare'].mean()\n",
    "std_fare = X_train['Fare'].std()\n",
    "\n",
    "# Applying the function to create new columns with random value\n",
    "X_train['Fare_random'] = X_train['Fare'].apply(lambda x: fill_random(x, mean_fare, std_fare))"
   ]
  },
  {
   "cell_type": "code",
   "execution_count": 13,
   "id": "0b26adb0",
   "metadata": {},
   "outputs": [
    {
     "data": {
      "text/html": [
       "<div>\n",
       "<style scoped>\n",
       "    .dataframe tbody tr th:only-of-type {\n",
       "        vertical-align: middle;\n",
       "    }\n",
       "\n",
       "    .dataframe tbody tr th {\n",
       "        vertical-align: top;\n",
       "    }\n",
       "\n",
       "    .dataframe thead th {\n",
       "        text-align: right;\n",
       "    }\n",
       "</style>\n",
       "<table border=\"1\" class=\"dataframe\">\n",
       "  <thead>\n",
       "    <tr style=\"text-align: right;\">\n",
       "      <th></th>\n",
       "      <th>Age</th>\n",
       "      <th>Fare</th>\n",
       "      <th>Family</th>\n",
       "      <th>Age_random</th>\n",
       "      <th>Fare_random</th>\n",
       "    </tr>\n",
       "  </thead>\n",
       "  <tbody>\n",
       "    <tr>\n",
       "      <th>434</th>\n",
       "      <td>50.0</td>\n",
       "      <td>NaN</td>\n",
       "      <td>1</td>\n",
       "      <td>50.000000</td>\n",
       "      <td>36.439194</td>\n",
       "    </tr>\n",
       "    <tr>\n",
       "      <th>270</th>\n",
       "      <td>NaN</td>\n",
       "      <td>31.0000</td>\n",
       "      <td>0</td>\n",
       "      <td>38.577373</td>\n",
       "      <td>31.000000</td>\n",
       "    </tr>\n",
       "    <tr>\n",
       "      <th>847</th>\n",
       "      <td>35.0</td>\n",
       "      <td>7.8958</td>\n",
       "      <td>0</td>\n",
       "      <td>35.000000</td>\n",
       "      <td>7.895800</td>\n",
       "    </tr>\n",
       "    <tr>\n",
       "      <th>314</th>\n",
       "      <td>43.0</td>\n",
       "      <td>26.2500</td>\n",
       "      <td>2</td>\n",
       "      <td>43.000000</td>\n",
       "      <td>26.250000</td>\n",
       "    </tr>\n",
       "    <tr>\n",
       "      <th>674</th>\n",
       "      <td>NaN</td>\n",
       "      <td>0.0000</td>\n",
       "      <td>0</td>\n",
       "      <td>43.601071</td>\n",
       "      <td>0.000000</td>\n",
       "    </tr>\n",
       "  </tbody>\n",
       "</table>\n",
       "</div>"
      ],
      "text/plain": [
       "      Age     Fare  Family  Age_random  Fare_random\n",
       "434  50.0      NaN       1   50.000000    36.439194\n",
       "270   NaN  31.0000       0   38.577373    31.000000\n",
       "847  35.0   7.8958       0   35.000000     7.895800\n",
       "314  43.0  26.2500       2   43.000000    26.250000\n",
       "674   NaN   0.0000       0   43.601071     0.000000"
      ]
     },
     "execution_count": 13,
     "metadata": {},
     "output_type": "execute_result"
    }
   ],
   "source": [
    "X_train.sample(5)"
   ]
  },
  {
   "cell_type": "markdown",
   "id": "a9f21d3d",
   "metadata": {},
   "source": [
    "# Examing variance"
   ]
  },
  {
   "cell_type": "code",
   "execution_count": 14,
   "id": "890a0f20",
   "metadata": {},
   "outputs": [
    {
     "name": "stdout",
     "output_type": "stream",
     "text": [
      "Original Age variable variance :  204.3495133904614\n",
      "Age variance after imputating random value :  204.56294381490918\n",
      "\n",
      "\n",
      "Original Fare variable variance :  2448.197913706318\n",
      "Fare variance after imputating random value :  2467.6899245645695\n"
     ]
    }
   ],
   "source": [
    "# When using random value to replace missing values in a dataset, this can impact downstream analyses or modeling.\n",
    "# FOr that, we are calculating the variance. We check whether the variance of the imputed dataset has significantly  \n",
    "# changed as compared to the original dataset.\n",
    "\n",
    "print(\"Original Age variable variance : \", X_train['Age'].var())\n",
    "print(\"Age variance after imputating random value : \", X_train['Age_random'].var())\n",
    "\n",
    "print(\"\\n\")\n",
    "\n",
    "\n",
    "print(\"Original Fare variable variance : \", X_train['Fare'].var())\n",
    "print(\"Fare variance after imputating random value : \", X_train['Fare_random'].var())"
   ]
  },
  {
   "cell_type": "markdown",
   "id": "13ab70c2",
   "metadata": {},
   "source": [
    "As we observe, the variance is not changing much in this columns, which is a green flag."
   ]
  },
  {
   "cell_type": "markdown",
   "id": "b1c0e8b4",
   "metadata": {},
   "source": [
    "# Examining distribution"
   ]
  },
  {
   "cell_type": "code",
   "execution_count": 15,
   "id": "52ac77f6",
   "metadata": {},
   "outputs": [
    {
     "data": {
      "text/plain": [
       "<matplotlib.legend.Legend at 0x1c5be96b580>"
      ]
     },
     "execution_count": 15,
     "metadata": {},
     "output_type": "execute_result"
    },
    {
     "data": {
      "image/png": "[encoded data removed]",
      "text/plain": [
       "<Figure size 432x288 with 1 Axes>"
      ]
     },
     "metadata": {
      "needs_background": "light"
     },
     "output_type": "display_data"
    }
   ],
   "source": [
    "# Now, let's examine the distribution of the original column 'Age' and the 'Age_random' column.\n",
    "\n",
    "fig = plt.figure()\n",
    "ax = fig.add_subplot(111)\n",
    "\n",
    "# original variable distribution\n",
    "X_train['Age'].plot(kind='kde', ax=ax)\n",
    "\n",
    "# variable imputed with random value\n",
    "X_train['Age_random'].plot(kind='kde', ax=ax, color='green')\n",
    "\n",
    "# adding legend\n",
    "lines, labels = ax.get_legend_handles_labels()\n",
    "ax.legend(lines, labels, loc='best')"
   ]
  },
  {
   "cell_type": "code",
   "execution_count": 16,
   "id": "8d0d0726",
   "metadata": {},
   "outputs": [
    {
     "data": {
      "text/plain": [
       "<matplotlib.legend.Legend at 0x1c5be8fed90>"
      ]
     },
     "execution_count": 16,
     "metadata": {},
     "output_type": "execute_result"
    },
    {
     "data": {
      "image/png": "[encoded data removed]",
      "text/plain": [
       "<Figure size 432x288 with 1 Axes>"
      ]
     },
     "metadata": {
      "needs_background": "light"
     },
     "output_type": "display_data"
    }
   ],
   "source": [
    "# Now, let's examine the distribution of the original column 'Fare', and the 'Fare_random' column.\n",
    "\n",
    "fig = plt.figure()\n",
    "ax = fig.add_subplot(111)\n",
    "\n",
    "# original variable distribution\n",
    "X_train['Fare'].plot(kind='kde', ax=ax)\n",
    "\n",
    "# variable imputed with random value\n",
    "X_train['Fare_random'].plot(kind='kde', ax=ax, color='green')\n",
    "\n",
    "# adding legend\n",
    "lines, labels = ax.get_legend_handles_labels()\n",
    "ax.legend(lines, labels, loc='best')"
   ]
  },
  {
   "cell_type": "markdown",
   "id": "da8414c2",
   "metadata": {},
   "source": [
    "As we can see that in fare and age columns, distribution of the columns are almost same, which shows that we can fill missing values with the random values."
   ]
  },
  {
   "cell_type": "markdown",
   "id": "edbf1c5b",
   "metadata": {},
   "source": [
    "# Examining covariance"
   ]
  },
  {
   "cell_type": "code",
   "execution_count": 17,
   "id": "9ba7a277",
   "metadata": {},
   "outputs": [
    {
     "data": {
      "text/html": [
       "<div>\n",
       "<style scoped>\n",
       "    .dataframe tbody tr th:only-of-type {\n",
       "        vertical-align: middle;\n",
       "    }\n",
       "\n",
       "    .dataframe tbody tr th {\n",
       "        vertical-align: top;\n",
       "    }\n",
       "\n",
       "    .dataframe thead th {\n",
       "        text-align: right;\n",
       "    }\n",
       "</style>\n",
       "<table border=\"1\" class=\"dataframe\">\n",
       "  <thead>\n",
       "    <tr style=\"text-align: right;\">\n",
       "      <th></th>\n",
       "      <th>Age</th>\n",
       "      <th>Fare</th>\n",
       "      <th>Family</th>\n",
       "      <th>Age_random</th>\n",
       "      <th>Fare_random</th>\n",
       "    </tr>\n",
       "  </thead>\n",
       "  <tbody>\n",
       "    <tr>\n",
       "      <th>Age</th>\n",
       "      <td>204.349513</td>\n",
       "      <td>70.719262</td>\n",
       "      <td>-6.498901</td>\n",
       "      <td>204.349513</td>\n",
       "      <td>57.490428</td>\n",
       "    </tr>\n",
       "    <tr>\n",
       "      <th>Fare</th>\n",
       "      <td>70.719262</td>\n",
       "      <td>2448.197914</td>\n",
       "      <td>17.258917</td>\n",
       "      <td>61.103455</td>\n",
       "      <td>2448.197914</td>\n",
       "    </tr>\n",
       "    <tr>\n",
       "      <th>Family</th>\n",
       "      <td>-6.498901</td>\n",
       "      <td>17.258917</td>\n",
       "      <td>2.735252</td>\n",
       "      <td>-5.306952</td>\n",
       "      <td>17.332337</td>\n",
       "    </tr>\n",
       "    <tr>\n",
       "      <th>Age_random</th>\n",
       "      <td>204.349513</td>\n",
       "      <td>61.103455</td>\n",
       "      <td>-5.306952</td>\n",
       "      <td>204.562944</td>\n",
       "      <td>52.593645</td>\n",
       "    </tr>\n",
       "    <tr>\n",
       "      <th>Fare_random</th>\n",
       "      <td>57.490428</td>\n",
       "      <td>2448.197914</td>\n",
       "      <td>17.332337</td>\n",
       "      <td>52.593645</td>\n",
       "      <td>2467.689925</td>\n",
       "    </tr>\n",
       "  </tbody>\n",
       "</table>\n",
       "</div>"
      ],
      "text/plain": [
       "                    Age         Fare     Family  Age_random  Fare_random\n",
       "Age          204.349513    70.719262  -6.498901  204.349513    57.490428\n",
       "Fare          70.719262  2448.197914  17.258917   61.103455  2448.197914\n",
       "Family        -6.498901    17.258917   2.735252   -5.306952    17.332337\n",
       "Age_random   204.349513    61.103455  -5.306952  204.562944    52.593645\n",
       "Fare_random   57.490428  2448.197914  17.332337   52.593645  2467.689925"
      ]
     },
     "execution_count": 17,
     "metadata": {},
     "output_type": "execute_result"
    }
   ],
   "source": [
    "# We can also check covariance to determine whether the covariance of imputed columns with other columns is the same \n",
    "# as that of the original columns with other columns.\n",
    "\n",
    "X_train.cov()"
   ]
  },
  {
   "cell_type": "markdown",
   "id": "9e57f20b",
   "metadata": {},
   "source": [
    "Significant changes in covariance are undesirable."
   ]
  },
  {
   "cell_type": "markdown",
   "id": "3b9d4d2d",
   "metadata": {},
   "source": [
    "# Examining correlation"
   ]
  },
  {
   "cell_type": "code",
   "execution_count": 18,
   "id": "300f4583",
   "metadata": {},
   "outputs": [
    {
     "data": {
      "text/html": [
       "<div>\n",
       "<style scoped>\n",
       "    .dataframe tbody tr th:only-of-type {\n",
       "        vertical-align: middle;\n",
       "    }\n",
       "\n",
       "    .dataframe tbody tr th {\n",
       "        vertical-align: top;\n",
       "    }\n",
       "\n",
       "    .dataframe thead th {\n",
       "        text-align: right;\n",
       "    }\n",
       "</style>\n",
       "<table border=\"1\" class=\"dataframe\">\n",
       "  <thead>\n",
       "    <tr style=\"text-align: right;\">\n",
       "      <th></th>\n",
       "      <th>Age</th>\n",
       "      <th>Fare</th>\n",
       "      <th>Family</th>\n",
       "      <th>Age_random</th>\n",
       "      <th>Fare_random</th>\n",
       "    </tr>\n",
       "  </thead>\n",
       "  <tbody>\n",
       "    <tr>\n",
       "      <th>Age</th>\n",
       "      <td>1.000000</td>\n",
       "      <td>0.092644</td>\n",
       "      <td>-0.299113</td>\n",
       "      <td>1.000000</td>\n",
       "      <td>0.075727</td>\n",
       "    </tr>\n",
       "    <tr>\n",
       "      <th>Fare</th>\n",
       "      <td>0.092644</td>\n",
       "      <td>1.000000</td>\n",
       "      <td>0.208268</td>\n",
       "      <td>0.085989</td>\n",
       "      <td>1.000000</td>\n",
       "    </tr>\n",
       "    <tr>\n",
       "      <th>Family</th>\n",
       "      <td>-0.299113</td>\n",
       "      <td>0.208268</td>\n",
       "      <td>1.000000</td>\n",
       "      <td>-0.224354</td>\n",
       "      <td>0.210966</td>\n",
       "    </tr>\n",
       "    <tr>\n",
       "      <th>Age_random</th>\n",
       "      <td>1.000000</td>\n",
       "      <td>0.085989</td>\n",
       "      <td>-0.224354</td>\n",
       "      <td>1.000000</td>\n",
       "      <td>0.074024</td>\n",
       "    </tr>\n",
       "    <tr>\n",
       "      <th>Fare_random</th>\n",
       "      <td>0.075727</td>\n",
       "      <td>1.000000</td>\n",
       "      <td>0.210966</td>\n",
       "      <td>0.074024</td>\n",
       "      <td>1.000000</td>\n",
       "    </tr>\n",
       "  </tbody>\n",
       "</table>\n",
       "</div>"
      ],
      "text/plain": [
       "                  Age      Fare    Family  Age_random  Fare_random\n",
       "Age          1.000000  0.092644 -0.299113    1.000000     0.075727\n",
       "Fare         0.092644  1.000000  0.208268    0.085989     1.000000\n",
       "Family      -0.299113  0.208268  1.000000   -0.224354     0.210966\n",
       "Age_random   1.000000  0.085989 -0.224354    1.000000     0.074024\n",
       "Fare_random  0.075727  1.000000  0.210966    0.074024     1.000000"
      ]
     },
     "execution_count": 18,
     "metadata": {},
     "output_type": "execute_result"
    }
   ],
   "source": [
    "# We can also check correlation to determine whether the correlation of imputed columns with other columns is the \n",
    "# same as that of the original columns with other columns.\n",
    "\n",
    "X_train.corr()"
   ]
  },
  {
   "cell_type": "markdown",
   "id": "76111b0f",
   "metadata": {},
   "source": [
    "Since correlation values range only between -1 and 1, significant changes in correlation are also undesirable."
   ]
  },
  {
   "cell_type": "markdown",
   "id": "2d758490",
   "metadata": {},
   "source": [
    "# Creating box plots to visualize changes between the original and imputed columns"
   ]
  },
  {
   "cell_type": "code",
   "execution_count": 19,
   "id": "56bc84dd",
   "metadata": {},
   "outputs": [
    {
     "data": {
      "text/plain": [
       "<AxesSubplot:>"
      ]
     },
     "execution_count": 19,
     "metadata": {},
     "output_type": "execute_result"
    },
    {
     "data": {
      "image/png": "[encoded data removed]",
      "text/plain": [
       "<Figure size 432x288 with 1 Axes>"
      ]
     },
     "metadata": {
      "needs_background": "light"
     },
     "output_type": "display_data"
    }
   ],
   "source": [
    "X_train[['Age', 'Age_random']].boxplot()"
   ]
  },
  {
   "cell_type": "markdown",
   "id": "5c099a46",
   "metadata": {},
   "source": [
    "We can observe that there isn't a significant difference between the original columns and the imputed column, which is a positive indication."
   ]
  },
  {
   "cell_type": "code",
   "execution_count": 20,
   "id": "fd382afc",
   "metadata": {},
   "outputs": [
    {
     "data": {
      "text/plain": [
       "<AxesSubplot:>"
      ]
     },
     "execution_count": 20,
     "metadata": {},
     "output_type": "execute_result"
    },
    {
     "data": {
      "image/png": "[encoded data removed]",
      "text/plain": [
       "<Figure size 432x288 with 1 Axes>"
      ]
     },
     "metadata": {
      "needs_background": "light"
     },
     "output_type": "display_data"
    }
   ],
   "source": [
    "X_train[['Fare', 'Fare_random']].boxplot()"
   ]
  },
  {
   "cell_type": "markdown",
   "id": "191c0367",
   "metadata": {},
   "source": [
    "We can observe that there isn't a significant difference between the original columns and the imputed column, but in the imputed column outliers increased as compared to original column. Therefore, we need to exercise caution when imputing missing values and carefully select the optimal strategy."
   ]
  }
 ],
 "metadata": {
  "kernelspec": {
   "display_name": "Python 3 (ipykernel)",
   "language": "python",
   "name": "python3"
  },
  "language_info": {
   "codemirror_mode": {
    "name": "ipython",
    "version": 3
   },
   "file_extension": ".py",
   "mimetype": "text/x-python",
   "name": "python",
   "nbconvert_exporter": "python",
   "pygments_lexer": "ipython3",
   "version": "3.9.12"
  }
 },
 "nbformat": 4,
 "nbformat_minor": 5
}
