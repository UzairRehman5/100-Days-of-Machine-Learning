{
 "cells": [
  {
   "cell_type": "markdown",
   "id": "be1e1267",
   "metadata": {},
   "source": [
    "# Importing library"
   ]
  },
  {
   "cell_type": "code",
   "execution_count": 8,
   "id": "aa877e9e",
   "metadata": {},
   "outputs": [],
   "source": [
    "import pandas as pd"
   ]
  },
  {
   "cell_type": "markdown",
   "id": "2f450753",
   "metadata": {},
   "source": [
    "# Importing train_test_split, Simple Imputer and Column Transformer"
   ]
  },
  {
   "cell_type": "code",
   "execution_count": 9,
   "id": "87171661",
   "metadata": {},
   "outputs": [],
   "source": [
    "from sklearn.model_selection import train_test_split\n",
    "from sklearn.impute import SimpleImputer\n",
    "from sklearn.compose import ColumnTransformer"
   ]
  },
  {
   "cell_type": "markdown",
   "id": "2b51288b",
   "metadata": {},
   "source": [
    "# Loading dataset"
   ]
  },
  {
   "cell_type": "code",
   "execution_count": 10,
   "id": "db0f7cf4",
   "metadata": {},
   "outputs": [
    {
     "data": {
      "text/html": [
       "<div>\n",
       "<style scoped>\n",
       "    .dataframe tbody tr th:only-of-type {\n",
       "        vertical-align: middle;\n",
       "    }\n",
       "\n",
       "    .dataframe tbody tr th {\n",
       "        vertical-align: top;\n",
       "    }\n",
       "\n",
       "    .dataframe thead th {\n",
       "        text-align: right;\n",
       "    }\n",
       "</style>\n",
       "<table border=\"1\" class=\"dataframe\">\n",
       "  <thead>\n",
       "    <tr style=\"text-align: right;\">\n",
       "      <th></th>\n",
       "      <th>Age</th>\n",
       "      <th>Fare</th>\n",
       "      <th>Family</th>\n",
       "      <th>Survived</th>\n",
       "    </tr>\n",
       "  </thead>\n",
       "  <tbody>\n",
       "    <tr>\n",
       "      <th>716</th>\n",
       "      <td>38.0</td>\n",
       "      <td>227.5250</td>\n",
       "      <td>0</td>\n",
       "      <td>1</td>\n",
       "    </tr>\n",
       "    <tr>\n",
       "      <th>220</th>\n",
       "      <td>16.0</td>\n",
       "      <td>8.0500</td>\n",
       "      <td>0</td>\n",
       "      <td>1</td>\n",
       "    </tr>\n",
       "    <tr>\n",
       "      <th>162</th>\n",
       "      <td>26.0</td>\n",
       "      <td>NaN</td>\n",
       "      <td>0</td>\n",
       "      <td>0</td>\n",
       "    </tr>\n",
       "    <tr>\n",
       "      <th>651</th>\n",
       "      <td>18.0</td>\n",
       "      <td>23.0000</td>\n",
       "      <td>1</td>\n",
       "      <td>1</td>\n",
       "    </tr>\n",
       "    <tr>\n",
       "      <th>786</th>\n",
       "      <td>18.0</td>\n",
       "      <td>7.4958</td>\n",
       "      <td>0</td>\n",
       "      <td>1</td>\n",
       "    </tr>\n",
       "  </tbody>\n",
       "</table>\n",
       "</div>"
      ],
      "text/plain": [
       "      Age      Fare  Family  Survived\n",
       "716  38.0  227.5250       0         1\n",
       "220  16.0    8.0500       0         1\n",
       "162  26.0       NaN       0         0\n",
       "651  18.0   23.0000       1         1\n",
       "786  18.0    7.4958       0         1"
      ]
     },
     "execution_count": 10,
     "metadata": {},
     "output_type": "execute_result"
    }
   ],
   "source": [
    "df = pd.read_csv(\"titanic_toy.csv\")\n",
    "df.sample(5)"
   ]
  },
  {
   "cell_type": "markdown",
   "id": "e54a2a03",
   "metadata": {},
   "source": [
    "#  Dividing dataset into two subset: train & test"
   ]
  },
  {
   "cell_type": "code",
   "execution_count": 11,
   "id": "483ab866",
   "metadata": {},
   "outputs": [],
   "source": [
    "# Storing all the input columns in variable 'X' and target column in variable 'y'\n",
    "\n",
    "X = df.drop(columns=[\"Survived\"])\n",
    "y = df['Survived']"
   ]
  },
  {
   "cell_type": "code",
   "execution_count": 12,
   "id": "2ad52c77",
   "metadata": {},
   "outputs": [],
   "source": [
    "#  Dividing dataset into two subsets: one for training the model (X_train, y_train) and the other for testing its \n",
    "# performance (y_train, y_test), helping evaluate how well the model generalizes to new unseen data.\n",
    "\n",
    "X_train, X_test, y_train, y_test = train_test_split(X,y,test_size=0.2,random_state=2)"
   ]
  },
  {
   "cell_type": "markdown",
   "id": "625d46ff",
   "metadata": {},
   "source": [
    "# Creating Imputers "
   ]
  },
  {
   "cell_type": "code",
   "execution_count": 13,
   "id": "a85e9643",
   "metadata": {},
   "outputs": [],
   "source": [
    "# Creating two imputers, 'imputer1' and 'imputer2', with different strategies (median and mean) for filling missing values.\n",
    "\n",
    "imputer1 = SimpleImputer(strategy='median')\n",
    "imputer2 = SimpleImputer(strategy='mean')"
   ]
  },
  {
   "cell_type": "markdown",
   "id": "c981a395",
   "metadata": {},
   "source": [
    "# Column Transformer"
   ]
  },
  {
   "cell_type": "code",
   "execution_count": 18,
   "id": "c37c6835",
   "metadata": {},
   "outputs": [],
   "source": [
    "# Column transformer named 'trf' applies 'imputer1' to the 'Age' column and 'imputer2' to the 'Fare' column, \n",
    "# while leaving other columns unchanged.\n",
    "\n",
    "trf = ColumnTransformer([\n",
    "    ('imputer1',imputer1,['Age']),\n",
    "    ('imputer2',imputer2,['Fare'])\n",
    "],remainder='passthrough')"
   ]
  },
  {
   "cell_type": "markdown",
   "id": "fd2c6196",
   "metadata": {},
   "source": [
    "# Training 'trf' to the training data"
   ]
  },
  {
   "cell_type": "code",
   "execution_count": 19,
   "id": "a67aa7a9",
   "metadata": {},
   "outputs": [
    {
     "data": {
      "text/plain": [
       "ColumnTransformer(remainder='passthrough',\n",
       "                  transformers=[('imputer1', SimpleImputer(strategy='median'),\n",
       "                                 ['Age']),\n",
       "                                ('imputer2', SimpleImputer(), ['Fare'])])"
      ]
     },
     "execution_count": 19,
     "metadata": {},
     "output_type": "execute_result"
    }
   ],
   "source": [
    "# Fits (trains) column transformer 'trf' to the training data 'X_train'\n",
    "\n",
    "trf.fit(X_train)"
   ]
  },
  {
   "cell_type": "code",
   "execution_count": 22,
   "id": "278150ae",
   "metadata": {},
   "outputs": [
    {
     "name": "stdout",
     "output_type": "stream",
     "text": [
      "The median of age column is [28.75]\n"
     ]
    }
   ],
   "source": [
    "# Retrieves the statistics (median) calculated by the 'imputer1' imputer from the fitted column transformer 'trf'.\n",
    "\n",
    "median = trf.named_transformers_['imputer1'].statistics_\n",
    "\n",
    "print('The median of age column is', median)"
   ]
  },
  {
   "cell_type": "code",
   "execution_count": 23,
   "id": "8aa3a3a2",
   "metadata": {},
   "outputs": [
    {
     "name": "stdout",
     "output_type": "stream",
     "text": [
      "The mean of fare column is [32.61759689]\n"
     ]
    }
   ],
   "source": [
    "# Retrieves the statistics (mean) calculated by the 'imputer2' imputer from the fitted column transformer 'trf'.\n",
    "\n",
    "mean = trf.named_transformers_['imputer2'].statistics_\n",
    "\n",
    "print('The mean of fare column is', mean)"
   ]
  },
  {
   "cell_type": "code",
   "execution_count": 24,
   "id": "a6142d03",
   "metadata": {},
   "outputs": [],
   "source": [
    "# These lines of code transform the original training and test datasets, 'X_train' and 'X_test', \n",
    "# using the previously fitted column transformer 'trf', which applies imputation.\n",
    "\n",
    "X_train = trf.transform(X_train)\n",
    "X_test = trf.transform(X_test)"
   ]
  },
  {
   "cell_type": "code",
   "execution_count": 25,
   "id": "1805fd0c",
   "metadata": {},
   "outputs": [
    {
     "data": {
      "text/plain": [
       "array([[ 40.    ,  27.7208,   0.    ],\n",
       "       [  4.    ,  16.7   ,   2.    ],\n",
       "       [ 47.    ,   9.    ,   0.    ],\n",
       "       ...,\n",
       "       [ 71.    ,  49.5042,   0.    ],\n",
       "       [ 28.75  , 221.7792,   0.    ],\n",
       "       [ 28.75  ,  25.925 ,   0.    ]])"
      ]
     },
     "execution_count": 25,
     "metadata": {},
     "output_type": "execute_result"
    }
   ],
   "source": [
    "# All the missing values of X_train are now filled.\n",
    "\n",
    "X_train"
   ]
  },
  {
   "cell_type": "code",
   "execution_count": 28,
   "id": "d44ad379",
   "metadata": {},
   "outputs": [
    {
     "data": {
      "text/plain": [
       "array([[ 42.        ,  26.2875    ,   0.        ],\n",
       "       [ 21.        ,   8.05      ,   0.        ],\n",
       "       [ 24.        ,  65.        ,   3.        ],\n",
       "       [ 28.        ,  56.4958    ,   0.        ],\n",
       "       [ 17.        ,   7.925     ,   6.        ],\n",
       "       [ 30.        ,   7.8958    ,   0.        ],\n",
       "       [ 80.        ,  30.        ,   0.        ],\n",
       "       [ 25.        ,   7.25      ,   0.        ],\n",
       "       [ 50.        , 133.65      ,   2.        ],\n",
       "       [ 25.        ,  26.        ,   1.        ],\n",
       "       [ 35.        ,  26.        ,   0.        ],\n",
       "       [ 35.        ,  90.        ,   1.        ],\n",
       "       [ 55.        ,  16.        ,   0.        ],\n",
       "       [ 28.75      ,  56.4958    ,   0.        ],\n",
       "       [ 28.75      ,  56.4958    ,   0.        ],\n",
       "       [ 19.        ,   7.8542    ,   1.        ],\n",
       "       [ 28.75      ,  15.2458    ,   2.        ],\n",
       "       [ 49.        ,   0.        ,   0.        ],\n",
       "       [ 18.        ,  32.61759689,   1.        ],\n",
       "       [ 65.        ,   7.75      ,   0.        ],\n",
       "       [ 18.        , 108.9       ,   1.        ],\n",
       "       [ 28.75      ,  22.3583    ,   2.        ],\n",
       "       [ 16.        ,  18.        ,   2.        ],\n",
       "       [ 21.        ,   9.825     ,   1.        ],\n",
       "       [ 19.        ,   6.75      ,   0.        ],\n",
       "       [  1.        ,  11.1333    ,   2.        ],\n",
       "       [ 50.        ,  10.5       ,   0.        ],\n",
       "       [ 37.        ,  53.1       ,   1.        ],\n",
       "       [ 28.        ,  32.61759689,   0.        ],\n",
       "       [ 54.        ,  14.        ,   0.        ],\n",
       "       [ 20.        ,   7.925     ,   0.        ],\n",
       "       [ 36.        ,   0.        ,   0.        ],\n",
       "       [  6.        ,  31.275     ,   6.        ],\n",
       "       [ 28.75      ,  50.        ,   0.        ],\n",
       "       [ 40.        ,  31.        ,   0.        ],\n",
       "       [ 26.        ,  16.1       ,   1.        ],\n",
       "       [ 30.        ,  32.61759689,   0.        ],\n",
       "       [  1.        ,  46.9       ,   7.        ],\n",
       "       [ 28.75      ,   7.8958    ,   0.        ],\n",
       "       [ 35.        ,  10.5       ,   0.        ],\n",
       "       [ 38.        ,   7.05      ,   0.        ],\n",
       "       [ 44.        ,  16.1       ,   1.        ],\n",
       "       [ 22.        ,   7.75      ,   0.        ],\n",
       "       [ 18.        ,   6.4958    ,   1.        ],\n",
       "       [ 21.        ,   8.4333    ,   0.        ],\n",
       "       [ 28.75      , 227.525     ,   0.        ],\n",
       "       [ 21.        ,  77.9583    ,   0.        ],\n",
       "       [ 28.75      ,   8.6625    ,   0.        ],\n",
       "       [ 22.        ,   7.225     ,   0.        ],\n",
       "       [ 27.        ,  10.5       ,   0.        ],\n",
       "       [ 28.75      ,   8.05      ,   0.        ],\n",
       "       [ 51.        ,  26.55      ,   0.        ],\n",
       "       [ 28.        ,  33.        ,   1.        ],\n",
       "       [ 47.        ,  38.5       ,   0.        ],\n",
       "       [ 32.        ,  10.5       ,   0.        ],\n",
       "       [ 48.        ,  52.        ,   1.        ],\n",
       "       [ 10.        ,  24.15      ,   2.        ],\n",
       "       [ 21.        ,   8.6625    ,   0.        ],\n",
       "       [ 51.        ,   7.0542    ,   0.        ],\n",
       "       [ 32.        ,   7.925     ,   0.        ],\n",
       "       [ 42.        ,  13.        ,   0.        ],\n",
       "       [  2.        ,  26.        ,   2.        ],\n",
       "       [ 35.        ,   8.05      ,   0.        ],\n",
       "       [ 28.75      ,   7.25      ,   0.        ],\n",
       "       [  2.        ,  10.4625    ,   1.        ],\n",
       "       [ 33.        ,   9.5       ,   0.        ],\n",
       "       [ 48.        ,  25.9292    ,   0.        ],\n",
       "       [ 55.        ,  30.5       ,   0.        ],\n",
       "       [  1.        ,  39.6875    ,   5.        ],\n",
       "       [ 17.        ,   7.0542    ,   1.        ],\n",
       "       [ 24.        ,  15.85      ,   1.        ],\n",
       "       [ 74.        ,   7.775     ,   0.        ],\n",
       "       [ 28.75      ,  24.15      ,   1.        ],\n",
       "       [ 28.        ,   7.7958    ,   0.        ],\n",
       "       [ 26.        ,   7.8542    ,   0.        ],\n",
       "       [  1.        ,  39.        ,   3.        ],\n",
       "       [ 18.        ,   8.05      ,   0.        ],\n",
       "       [  3.        ,  26.        ,   2.        ],\n",
       "       [ 48.        ,  39.6       ,   1.        ],\n",
       "       [ 32.        ,  56.4958    ,   0.        ],\n",
       "       [ 19.        ,  91.0792    ,   1.        ],\n",
       "       [ 28.75      ,  42.4       ,   0.        ],\n",
       "       [ 70.        ,  10.5       ,   0.        ],\n",
       "       [ 34.        ,  26.        ,   1.        ],\n",
       "       [ 39.        , 110.8833    ,   2.        ],\n",
       "       [ 17.        ,  10.5       ,   0.        ],\n",
       "       [ 38.        ,   8.6625    ,   0.        ],\n",
       "       [ 28.75      ,   7.8958    ,   0.        ],\n",
       "       [ 30.        ,  21.        ,   3.        ],\n",
       "       [ 28.        ,  13.        ,   0.        ],\n",
       "       [ 28.75      ,   7.725     ,   0.        ],\n",
       "       [ 19.        ,   8.1583    ,   0.        ],\n",
       "       [ 29.        ,   7.75      ,   0.        ],\n",
       "       [ 28.75      ,   7.8958    ,   0.        ],\n",
       "       [ 44.        ,   7.925     ,   0.        ],\n",
       "       [ 22.        ,  41.5792    ,   3.        ],\n",
       "       [ 21.        ,  34.375     ,   4.        ],\n",
       "       [ 41.        ,  19.5       ,   1.        ],\n",
       "       [ 28.75      ,   7.225     ,   0.        ],\n",
       "       [ 25.        ,  55.4417    ,   1.        ],\n",
       "       [  0.92      ,  32.61759689,   3.        ],\n",
       "       [ 44.        ,  26.        ,   1.        ],\n",
       "       [ 19.        ,  26.        ,   0.        ],\n",
       "       [ 30.        ,  56.9292    ,   0.        ],\n",
       "       [ 20.        ,   9.5       ,   0.        ],\n",
       "       [  5.        ,  12.475     ,   0.        ],\n",
       "       [  4.        ,  39.        ,   3.        ],\n",
       "       [ 28.75      ,  16.1       ,   1.        ],\n",
       "       [ 38.        ,   0.        ,   0.        ],\n",
       "       [ 28.        ,  22.525     ,   0.        ],\n",
       "       [ 28.75      ,  30.        ,   0.        ],\n",
       "       [ 29.        ,   7.775     ,   0.        ],\n",
       "       [ 49.        ,  89.1042    ,   1.        ],\n",
       "       [ 19.        ,  14.5       ,   0.        ],\n",
       "       [ 18.        , 262.375     ,   4.        ],\n",
       "       [ 31.        ,  26.25      ,   2.        ],\n",
       "       [ 27.        ,   7.7958    ,   0.        ],\n",
       "       [ 36.        ,  32.61759689,   3.        ],\n",
       "       [  8.        ,  36.75      ,   2.        ],\n",
       "       [  2.        ,  21.075     ,   4.        ],\n",
       "       [ 63.        ,  77.9583    ,   1.        ],\n",
       "       [ 31.        ,   7.75      ,   0.        ],\n",
       "       [ 28.75      ,   0.        ,   0.        ],\n",
       "       [ 25.        ,  13.        ,   0.        ],\n",
       "       [ 20.5       ,   7.25      ,   0.        ],\n",
       "       [ 28.75      ,   7.8958    ,   0.        ],\n",
       "       [ 64.        , 263.        ,   5.        ],\n",
       "       [ 19.        ,  26.        ,   1.        ],\n",
       "       [ 18.        ,   7.775     ,   0.        ],\n",
       "       [ 28.75      ,   0.        ,   0.        ],\n",
       "       [ 28.75      ,   7.8958    ,   0.        ],\n",
       "       [ 11.        ,  18.7875    ,   0.        ],\n",
       "       [ 15.        ,  14.4542    ,   1.        ],\n",
       "       [ 22.        ,  55.        ,   1.        ],\n",
       "       [ 50.        ,  13.        ,   0.        ],\n",
       "       [ 28.        ,  14.4       ,   2.        ],\n",
       "       [ 39.        ,  13.        ,   0.        ],\n",
       "       [ 28.75      ,   8.05      ,   0.        ],\n",
       "       [ 39.        ,  32.61759689,   0.        ],\n",
       "       [ 24.        ,  16.1       ,   1.        ],\n",
       "       [ 23.        ,  32.61759689,   0.        ],\n",
       "       [ 17.        ,  57.        ,   1.        ],\n",
       "       [ 44.        ,  26.        ,   1.        ],\n",
       "       [ 23.        ,  13.7917    ,   0.        ],\n",
       "       [ 28.75      ,  26.55      ,   0.        ],\n",
       "       [ 52.        ,  78.2667    ,   1.        ],\n",
       "       [ 24.5       ,   8.05      ,   0.        ],\n",
       "       [ 55.5       ,   8.05      ,   0.        ],\n",
       "       [ 18.        ,   7.7958    ,   0.        ],\n",
       "       [ 18.        ,  13.        ,   2.        ],\n",
       "       [ 45.        ,  83.475     ,   1.        ],\n",
       "       [ 31.        ,  18.        ,   1.        ],\n",
       "       [ 30.5       ,   8.05      ,   0.        ],\n",
       "       [ 42.        ,   8.4042    ,   1.        ],\n",
       "       [ 28.75      ,   7.75      ,   0.        ],\n",
       "       [ 36.        ,   7.4958    ,   0.        ],\n",
       "       [ 34.        ,  26.55      ,   0.        ],\n",
       "       [ 54.        ,  78.2667    ,   1.        ],\n",
       "       [ 15.        ,   8.0292    ,   0.        ],\n",
       "       [ 25.        ,   7.775     ,   1.        ],\n",
       "       [ 26.        ,  32.61759689,   0.        ],\n",
       "       [ 28.75      ,   8.1125    ,   0.        ],\n",
       "       [ 19.        ,   8.05      ,   0.        ],\n",
       "       [ 29.        ,   7.8958    ,   0.        ],\n",
       "       [ 19.        ,  30.        ,   0.        ],\n",
       "       [ 33.        ,  90.        ,   1.        ],\n",
       "       [ 36.        ,  24.15      ,   2.        ],\n",
       "       [ 28.75      ,   7.775     ,   0.        ],\n",
       "       [ 35.        , 512.3292    ,   0.        ],\n",
       "       [ 22.        ,   7.25      ,   0.        ],\n",
       "       [ 28.75      ,  16.1       ,   1.        ],\n",
       "       [ 18.        ,   7.4958    ,   0.        ],\n",
       "       [ 28.        ,  26.        ,   1.        ],\n",
       "       [ 22.        ,   7.25      ,   0.        ],\n",
       "       [ 24.        ,   8.05      ,   0.        ],\n",
       "       [ 22.        ,   9.        ,   0.        ],\n",
       "       [ 28.75      ,  69.55      ,  10.        ],\n",
       "       [ 26.        ,   7.8958    ,   0.        ],\n",
       "       [ 29.        ,  32.61759689,   2.        ]])"
      ]
     },
     "execution_count": 28,
     "metadata": {},
     "output_type": "execute_result"
    }
   ],
   "source": [
    "# All the missing values of X_test are now filled.\n",
    "\n",
    "X_test"
   ]
  }
 ],
 "metadata": {
  "kernelspec": {
   "display_name": "Python 3 (ipykernel)",
   "language": "python",
   "name": "python3"
  },
  "language_info": {
   "codemirror_mode": {
    "name": "ipython",
    "version": 3
   },
   "file_extension": ".py",
   "mimetype": "text/x-python",
   "name": "python",
   "nbconvert_exporter": "python",
   "pygments_lexer": "ipython3",
   "version": "3.9.12"
  }
 },
 "nbformat": 4,
 "nbformat_minor": 5
}
