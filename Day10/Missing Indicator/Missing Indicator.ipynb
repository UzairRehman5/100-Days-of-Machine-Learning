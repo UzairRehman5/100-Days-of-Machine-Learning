{
 "cells": [
  {
   "cell_type": "markdown",
   "id": "9216535f",
   "metadata": {},
   "source": [
    "# Importing libraries"
   ]
  },
  {
   "cell_type": "code",
   "execution_count": 82,
   "id": "91a62271",
   "metadata": {},
   "outputs": [],
   "source": [
    "# Import necessary libraries\n",
    "import numpy as np\n",
    "import pandas as pd\n",
    "import matplotlib.pyplot as plt\n",
    "import seaborn as sns\n",
    "from sklearn.impute import MissingIndicator, SimpleImputer\n",
    "from sklearn.model_selection import train_test_split"
   ]
  },
  {
   "cell_type": "markdown",
   "id": "76231144",
   "metadata": {},
   "source": [
    "# Importing dataset"
   ]
  },
  {
   "cell_type": "code",
   "execution_count": 83,
   "id": "93e70dda",
   "metadata": {},
   "outputs": [
    {
     "data": {
      "text/html": [
       "<div>\n",
       "<style scoped>\n",
       "    .dataframe tbody tr th:only-of-type {\n",
       "        vertical-align: middle;\n",
       "    }\n",
       "\n",
       "    .dataframe tbody tr th {\n",
       "        vertical-align: top;\n",
       "    }\n",
       "\n",
       "    .dataframe thead th {\n",
       "        text-align: right;\n",
       "    }\n",
       "</style>\n",
       "<table border=\"1\" class=\"dataframe\">\n",
       "  <thead>\n",
       "    <tr style=\"text-align: right;\">\n",
       "      <th></th>\n",
       "      <th>Survived</th>\n",
       "      <th>Age</th>\n",
       "      <th>Fare</th>\n",
       "    </tr>\n",
       "  </thead>\n",
       "  <tbody>\n",
       "    <tr>\n",
       "      <th>0</th>\n",
       "      <td>0</td>\n",
       "      <td>22.0</td>\n",
       "      <td>7.2500</td>\n",
       "    </tr>\n",
       "    <tr>\n",
       "      <th>1</th>\n",
       "      <td>1</td>\n",
       "      <td>38.0</td>\n",
       "      <td>71.2833</td>\n",
       "    </tr>\n",
       "    <tr>\n",
       "      <th>2</th>\n",
       "      <td>1</td>\n",
       "      <td>26.0</td>\n",
       "      <td>7.9250</td>\n",
       "    </tr>\n",
       "    <tr>\n",
       "      <th>3</th>\n",
       "      <td>1</td>\n",
       "      <td>35.0</td>\n",
       "      <td>53.1000</td>\n",
       "    </tr>\n",
       "    <tr>\n",
       "      <th>4</th>\n",
       "      <td>0</td>\n",
       "      <td>35.0</td>\n",
       "      <td>8.0500</td>\n",
       "    </tr>\n",
       "  </tbody>\n",
       "</table>\n",
       "</div>"
      ],
      "text/plain": [
       "   Survived   Age     Fare\n",
       "0         0  22.0   7.2500\n",
       "1         1  38.0  71.2833\n",
       "2         1  26.0   7.9250\n",
       "3         1  35.0  53.1000\n",
       "4         0  35.0   8.0500"
      ]
     },
     "execution_count": 83,
     "metadata": {},
     "output_type": "execute_result"
    }
   ],
   "source": [
    "# Read data from a CSV file and select specific columns (Age, Fare, Survived)\n",
    "df = pd.read_csv(\"train.csv\", usecols=['Age', 'Fare', 'Survived'])\n",
    "df.head()"
   ]
  },
  {
   "cell_type": "markdown",
   "id": "306d9040",
   "metadata": {},
   "source": [
    "# Handling Missing Values"
   ]
  },
  {
   "cell_type": "code",
   "execution_count": 84,
   "id": "0971136b",
   "metadata": {},
   "outputs": [],
   "source": [
    "# Split the data into features (X) and target (y)\n",
    "X = df.drop(columns=['Survived'])\n",
    "y = df['Survived']"
   ]
  },
  {
   "cell_type": "code",
   "execution_count": 85,
   "id": "851aab5a",
   "metadata": {},
   "outputs": [],
   "source": [
    "# Split the data into training and testing sets\n",
    "X_train, X_test, y_train, y_test = train_test_split(X, y, test_size=0.2, random_state=2)"
   ]
  },
  {
   "cell_type": "code",
   "execution_count": 86,
   "id": "6dc96d71",
   "metadata": {},
   "outputs": [],
   "source": [
    "# Initialize a SimpleImputer for missing value imputation\n",
    "si = SimpleImputer()\n",
    "\n",
    "# Transform the training and testing data using the imputer\n",
    "X_train_trf = si.fit_transform(X_train)\n",
    "X_test_trf = si.transform(X_test)"
   ]
  },
  {
   "cell_type": "code",
   "execution_count": 87,
   "id": "328d7ea5",
   "metadata": {},
   "outputs": [
    {
     "data": {
      "text/plain": [
       "array([[ 40.        ,  27.7208    ],\n",
       "       [  4.        ,  16.7       ],\n",
       "       [ 47.        ,   9.        ],\n",
       "       ...,\n",
       "       [ 71.        ,  49.5042    ],\n",
       "       [ 29.78590426, 221.7792    ],\n",
       "       [ 29.78590426,  25.925     ]])"
      ]
     },
     "execution_count": 87,
     "metadata": {},
     "output_type": "execute_result"
    }
   ],
   "source": [
    "X_train_trf"
   ]
  },
  {
   "cell_type": "code",
   "execution_count": 88,
   "id": "37f8f016",
   "metadata": {},
   "outputs": [
    {
     "data": {
      "text/plain": [
       "array([[ 42.        ,  26.2875    ],\n",
       "       [ 21.        ,   8.05      ],\n",
       "       [ 24.        ,  65.        ],\n",
       "       [ 28.        ,  56.4958    ],\n",
       "       [ 17.        ,   7.925     ],\n",
       "       [ 30.        ,   7.8958    ],\n",
       "       [ 80.        ,  30.        ],\n",
       "       [ 25.        ,   7.25      ],\n",
       "       [ 50.        , 133.65      ],\n",
       "       [ 25.        ,  26.        ],\n",
       "       [ 35.        ,  26.        ],\n",
       "       [ 35.        ,  90.        ],\n",
       "       [ 55.        ,  16.        ],\n",
       "       [ 29.78590426,  56.4958    ],\n",
       "       [ 29.78590426,  56.4958    ],\n",
       "       [ 19.        ,   7.8542    ],\n",
       "       [ 29.78590426,  15.2458    ],\n",
       "       [ 49.        ,   0.        ],\n",
       "       [ 18.        ,  14.4542    ],\n",
       "       [ 65.        ,   7.75      ],\n",
       "       [ 18.        , 108.9       ],\n",
       "       [ 29.78590426,  22.3583    ],\n",
       "       [ 16.        ,  18.        ],\n",
       "       [ 21.        ,   9.825     ],\n",
       "       [ 19.        ,   6.75      ],\n",
       "       [  1.        ,  11.1333    ],\n",
       "       [ 50.        ,  10.5       ],\n",
       "       [ 37.        ,  53.1       ],\n",
       "       [ 28.        ,   9.5       ],\n",
       "       [ 54.        ,  14.        ],\n",
       "       [ 20.        ,   7.925     ],\n",
       "       [ 36.        ,   0.        ],\n",
       "       [  6.        ,  31.275     ],\n",
       "       [ 29.78590426,  50.        ],\n",
       "       [ 40.        ,  31.        ],\n",
       "       [ 26.        ,  16.1       ],\n",
       "       [ 30.        ,  93.5       ],\n",
       "       [  1.        ,  46.9       ],\n",
       "       [ 29.78590426,   7.8958    ],\n",
       "       [ 35.        ,  10.5       ],\n",
       "       [ 38.        ,   7.05      ],\n",
       "       [ 44.        ,  16.1       ],\n",
       "       [ 22.        ,   7.75      ],\n",
       "       [ 18.        ,   6.4958    ],\n",
       "       [ 21.        ,   8.4333    ],\n",
       "       [ 29.78590426, 227.525     ],\n",
       "       [ 21.        ,  77.9583    ],\n",
       "       [ 29.78590426,   8.6625    ],\n",
       "       [ 22.        ,   7.225     ],\n",
       "       [ 27.        ,  10.5       ],\n",
       "       [ 29.78590426,   8.05      ],\n",
       "       [ 51.        ,  26.55      ],\n",
       "       [ 28.        ,  33.        ],\n",
       "       [ 47.        ,  38.5       ],\n",
       "       [ 32.        ,  10.5       ],\n",
       "       [ 48.        ,  52.        ],\n",
       "       [ 10.        ,  24.15      ],\n",
       "       [ 21.        ,   8.6625    ],\n",
       "       [ 51.        ,   7.0542    ],\n",
       "       [ 32.        ,   7.925     ],\n",
       "       [ 42.        ,  13.        ],\n",
       "       [  2.        ,  26.        ],\n",
       "       [ 35.        ,   8.05      ],\n",
       "       [ 29.78590426,   7.25      ],\n",
       "       [  2.        ,  10.4625    ],\n",
       "       [ 33.        ,   9.5       ],\n",
       "       [ 48.        ,  25.9292    ],\n",
       "       [ 55.        ,  30.5       ],\n",
       "       [  1.        ,  39.6875    ],\n",
       "       [ 17.        ,   7.0542    ],\n",
       "       [ 24.        ,  15.85      ],\n",
       "       [ 74.        ,   7.775     ],\n",
       "       [ 29.78590426,  24.15      ],\n",
       "       [ 28.        ,   7.7958    ],\n",
       "       [ 26.        ,   7.8542    ],\n",
       "       [  1.        ,  39.        ],\n",
       "       [ 18.        ,   8.05      ],\n",
       "       [  3.        ,  26.        ],\n",
       "       [ 48.        ,  39.6       ],\n",
       "       [ 32.        ,  56.4958    ],\n",
       "       [ 19.        ,  91.0792    ],\n",
       "       [ 29.78590426,  42.4       ],\n",
       "       [ 70.        ,  10.5       ],\n",
       "       [ 34.        ,  26.        ],\n",
       "       [ 39.        , 110.8833    ],\n",
       "       [ 17.        ,  10.5       ],\n",
       "       [ 38.        ,   8.6625    ],\n",
       "       [ 29.78590426,   7.8958    ],\n",
       "       [ 30.        ,  21.        ],\n",
       "       [ 28.        ,  13.        ],\n",
       "       [ 29.78590426,   7.725     ],\n",
       "       [ 19.        ,   8.1583    ],\n",
       "       [ 29.        ,   7.75      ],\n",
       "       [ 29.78590426,   7.8958    ],\n",
       "       [ 44.        ,   7.925     ],\n",
       "       [ 22.        ,  41.5792    ],\n",
       "       [ 21.        ,  34.375     ],\n",
       "       [ 41.        ,  19.5       ],\n",
       "       [ 29.78590426,   7.225     ],\n",
       "       [ 25.        ,  55.4417    ],\n",
       "       [  0.92      , 151.55      ],\n",
       "       [ 44.        ,  26.        ],\n",
       "       [ 19.        ,  26.        ],\n",
       "       [ 30.        ,  56.9292    ],\n",
       "       [ 20.        ,   9.5       ],\n",
       "       [  5.        ,  12.475     ],\n",
       "       [  4.        ,  39.        ],\n",
       "       [ 29.78590426,  16.1       ],\n",
       "       [ 38.        ,   0.        ],\n",
       "       [ 28.        ,  22.525     ],\n",
       "       [ 29.78590426,  30.        ],\n",
       "       [ 29.        ,   7.775     ],\n",
       "       [ 49.        ,  89.1042    ],\n",
       "       [ 19.        ,  14.5       ],\n",
       "       [ 18.        , 262.375     ],\n",
       "       [ 31.        ,  26.25      ],\n",
       "       [ 27.        ,   7.7958    ],\n",
       "       [ 36.        , 120.        ],\n",
       "       [  8.        ,  36.75      ],\n",
       "       [  2.        ,  21.075     ],\n",
       "       [ 63.        ,  77.9583    ],\n",
       "       [ 31.        ,   7.75      ],\n",
       "       [ 29.78590426,   0.        ],\n",
       "       [ 25.        ,  13.        ],\n",
       "       [ 20.5       ,   7.25      ],\n",
       "       [ 29.78590426,   7.8958    ],\n",
       "       [ 64.        , 263.        ],\n",
       "       [ 19.        ,  26.        ],\n",
       "       [ 18.        ,   7.775     ],\n",
       "       [ 29.78590426,   0.        ],\n",
       "       [ 29.78590426,   7.8958    ],\n",
       "       [ 11.        ,  18.7875    ],\n",
       "       [ 15.        ,  14.4542    ],\n",
       "       [ 22.        ,  55.        ],\n",
       "       [ 50.        ,  13.        ],\n",
       "       [ 28.        ,  14.4       ],\n",
       "       [ 39.        ,  13.        ],\n",
       "       [ 29.78590426,   8.05      ],\n",
       "       [ 39.        ,   7.925     ],\n",
       "       [ 24.        ,  16.1       ],\n",
       "       [ 23.        ,   7.925     ],\n",
       "       [ 17.        ,  57.        ],\n",
       "       [ 44.        ,  26.        ],\n",
       "       [ 23.        ,  13.7917    ],\n",
       "       [ 29.78590426,  26.55      ],\n",
       "       [ 52.        ,  78.2667    ],\n",
       "       [ 24.5       ,   8.05      ],\n",
       "       [ 55.5       ,   8.05      ],\n",
       "       [ 18.        ,   7.7958    ],\n",
       "       [ 18.        ,  13.        ],\n",
       "       [ 45.        ,  83.475     ],\n",
       "       [ 31.        ,  18.        ],\n",
       "       [ 30.5       ,   8.05      ],\n",
       "       [ 42.        ,   8.4042    ],\n",
       "       [ 29.78590426,   7.75      ],\n",
       "       [ 36.        ,   7.4958    ],\n",
       "       [ 34.        ,  26.55      ],\n",
       "       [ 54.        ,  78.2667    ],\n",
       "       [ 15.        ,   8.0292    ],\n",
       "       [ 25.        ,   7.775     ],\n",
       "       [ 26.        ,  30.        ],\n",
       "       [ 29.78590426,   8.1125    ],\n",
       "       [ 19.        ,   8.05      ],\n",
       "       [ 29.        ,   7.8958    ],\n",
       "       [ 19.        ,  30.        ],\n",
       "       [ 33.        ,  90.        ],\n",
       "       [ 36.        ,  24.15      ],\n",
       "       [ 29.78590426,   7.775     ],\n",
       "       [ 35.        , 512.3292    ],\n",
       "       [ 22.        ,   7.25      ],\n",
       "       [ 29.78590426,  16.1       ],\n",
       "       [ 18.        ,   7.4958    ],\n",
       "       [ 28.        ,  26.        ],\n",
       "       [ 22.        ,   7.25      ],\n",
       "       [ 24.        ,   8.05      ],\n",
       "       [ 22.        ,   9.        ],\n",
       "       [ 29.78590426,  69.55      ],\n",
       "       [ 26.        ,   7.8958    ],\n",
       "       [ 29.        ,  10.4625    ]])"
      ]
     },
     "execution_count": 88,
     "metadata": {},
     "output_type": "execute_result"
    }
   ],
   "source": [
    "X_test_trf"
   ]
  },
  {
   "cell_type": "markdown",
   "id": "2a11c345",
   "metadata": {},
   "source": [
    "## Accuracy without Missing Indicator technique"
   ]
  },
  {
   "cell_type": "code",
   "execution_count": 89,
   "id": "2fa6e0ab",
   "metadata": {},
   "outputs": [
    {
     "name": "stdout",
     "output_type": "stream",
     "text": [
      "Accuracy without using missing indicator technique : 61.452513966480446\n"
     ]
    }
   ],
   "source": [
    "# Import the LogisticRegression model and accuracy_score metric\n",
    "from sklearn.linear_model import LogisticRegression\n",
    "from sklearn.metrics import accuracy_score\n",
    "\n",
    "# Create a LogisticRegression classifier and train it on the transformed data\n",
    "clf = LogisticRegression()\n",
    "clf.fit(X_train_trf, y_train)\n",
    "\n",
    "# Make predictions on the test data and calculate accuracy\n",
    "y_pred = clf.predict(X_test_trf)\n",
    "accuracy = accuracy_score(y_test, y_pred) * 100\n",
    "print('Accuracy without using missing indicator technique :',accuracy)"
   ]
  },
  {
   "cell_type": "markdown",
   "id": "2ba27035",
   "metadata": {},
   "source": [
    "## Initializing Missing Indicator technique"
   ]
  },
  {
   "cell_type": "code",
   "execution_count": 90,
   "id": "2052b284",
   "metadata": {},
   "outputs": [
    {
     "data": {
      "text/plain": [
       "MissingIndicator()"
      ]
     },
     "execution_count": 90,
     "metadata": {},
     "output_type": "execute_result"
    }
   ],
   "source": [
    "# Initialize a MissingIndicator to detect missing values\n",
    "mi = MissingIndicator()\n",
    "mi.fit(X_train)"
   ]
  },
  {
   "cell_type": "code",
   "execution_count": 91,
   "id": "53b1f972",
   "metadata": {},
   "outputs": [],
   "source": [
    "# Transform the training and testing data to represent missing value indicators\n",
    "X_train_missing = mi.transform(X_train)\n",
    "X_test_missing = mi.transform(X_test)"
   ]
  },
  {
   "cell_type": "code",
   "execution_count": 92,
   "id": "0af45dfa",
   "metadata": {},
   "outputs": [],
   "source": [
    "# Add a new feature to indicate missing values in the 'Age' column\n",
    "X_train['Age_NA'] = X_train_missing\n",
    "X_test['Age_NA'] = X_test_missing"
   ]
  },
  {
   "cell_type": "code",
   "execution_count": 93,
   "id": "9f497ef9",
   "metadata": {},
   "outputs": [],
   "source": [
    "# Reinitialize the SimpleImputer for missing value imputation\n",
    "si = SimpleImputer()\n",
    "\n",
    "# Transform the training and testing data with the new feature\n",
    "X_train_trf2 = si.fit_transform(X_train)\n",
    "X_test_trf2 = si.transform(X_test)"
   ]
  },
  {
   "cell_type": "code",
   "execution_count": 94,
   "id": "13f48a9f",
   "metadata": {},
   "outputs": [
    {
     "data": {
      "text/plain": [
       "array([[ 40.        ,  27.7208    ,   0.        ],\n",
       "       [  4.        ,  16.7       ,   0.        ],\n",
       "       [ 47.        ,   9.        ,   0.        ],\n",
       "       ...,\n",
       "       [ 71.        ,  49.5042    ,   0.        ],\n",
       "       [ 29.78590426, 221.7792    ,   1.        ],\n",
       "       [ 29.78590426,  25.925     ,   1.        ]])"
      ]
     },
     "execution_count": 94,
     "metadata": {},
     "output_type": "execute_result"
    }
   ],
   "source": [
    "X_train_trf2"
   ]
  },
  {
   "cell_type": "code",
   "execution_count": 95,
   "id": "cf4b899a",
   "metadata": {},
   "outputs": [
    {
     "data": {
      "text/plain": [
       "array([[ 42.        ,  26.2875    ,   0.        ],\n",
       "       [ 21.        ,   8.05      ,   0.        ],\n",
       "       [ 24.        ,  65.        ,   0.        ],\n",
       "       [ 28.        ,  56.4958    ,   0.        ],\n",
       "       [ 17.        ,   7.925     ,   0.        ],\n",
       "       [ 30.        ,   7.8958    ,   0.        ],\n",
       "       [ 80.        ,  30.        ,   0.        ],\n",
       "       [ 25.        ,   7.25      ,   0.        ],\n",
       "       [ 50.        , 133.65      ,   0.        ],\n",
       "       [ 25.        ,  26.        ,   0.        ],\n",
       "       [ 35.        ,  26.        ,   0.        ],\n",
       "       [ 35.        ,  90.        ,   0.        ],\n",
       "       [ 55.        ,  16.        ,   0.        ],\n",
       "       [ 29.78590426,  56.4958    ,   1.        ],\n",
       "       [ 29.78590426,  56.4958    ,   1.        ],\n",
       "       [ 19.        ,   7.8542    ,   0.        ],\n",
       "       [ 29.78590426,  15.2458    ,   1.        ],\n",
       "       [ 49.        ,   0.        ,   0.        ],\n",
       "       [ 18.        ,  14.4542    ,   0.        ],\n",
       "       [ 65.        ,   7.75      ,   0.        ],\n",
       "       [ 18.        , 108.9       ,   0.        ],\n",
       "       [ 29.78590426,  22.3583    ,   1.        ],\n",
       "       [ 16.        ,  18.        ,   0.        ],\n",
       "       [ 21.        ,   9.825     ,   0.        ],\n",
       "       [ 19.        ,   6.75      ,   0.        ],\n",
       "       [  1.        ,  11.1333    ,   0.        ],\n",
       "       [ 50.        ,  10.5       ,   0.        ],\n",
       "       [ 37.        ,  53.1       ,   0.        ],\n",
       "       [ 28.        ,   9.5       ,   0.        ],\n",
       "       [ 54.        ,  14.        ,   0.        ],\n",
       "       [ 20.        ,   7.925     ,   0.        ],\n",
       "       [ 36.        ,   0.        ,   0.        ],\n",
       "       [  6.        ,  31.275     ,   0.        ],\n",
       "       [ 29.78590426,  50.        ,   1.        ],\n",
       "       [ 40.        ,  31.        ,   0.        ],\n",
       "       [ 26.        ,  16.1       ,   0.        ],\n",
       "       [ 30.        ,  93.5       ,   0.        ],\n",
       "       [  1.        ,  46.9       ,   0.        ],\n",
       "       [ 29.78590426,   7.8958    ,   1.        ],\n",
       "       [ 35.        ,  10.5       ,   0.        ],\n",
       "       [ 38.        ,   7.05      ,   0.        ],\n",
       "       [ 44.        ,  16.1       ,   0.        ],\n",
       "       [ 22.        ,   7.75      ,   0.        ],\n",
       "       [ 18.        ,   6.4958    ,   0.        ],\n",
       "       [ 21.        ,   8.4333    ,   0.        ],\n",
       "       [ 29.78590426, 227.525     ,   1.        ],\n",
       "       [ 21.        ,  77.9583    ,   0.        ],\n",
       "       [ 29.78590426,   8.6625    ,   1.        ],\n",
       "       [ 22.        ,   7.225     ,   0.        ],\n",
       "       [ 27.        ,  10.5       ,   0.        ],\n",
       "       [ 29.78590426,   8.05      ,   1.        ],\n",
       "       [ 51.        ,  26.55      ,   0.        ],\n",
       "       [ 28.        ,  33.        ,   0.        ],\n",
       "       [ 47.        ,  38.5       ,   0.        ],\n",
       "       [ 32.        ,  10.5       ,   0.        ],\n",
       "       [ 48.        ,  52.        ,   0.        ],\n",
       "       [ 10.        ,  24.15      ,   0.        ],\n",
       "       [ 21.        ,   8.6625    ,   0.        ],\n",
       "       [ 51.        ,   7.0542    ,   0.        ],\n",
       "       [ 32.        ,   7.925     ,   0.        ],\n",
       "       [ 42.        ,  13.        ,   0.        ],\n",
       "       [  2.        ,  26.        ,   0.        ],\n",
       "       [ 35.        ,   8.05      ,   0.        ],\n",
       "       [ 29.78590426,   7.25      ,   1.        ],\n",
       "       [  2.        ,  10.4625    ,   0.        ],\n",
       "       [ 33.        ,   9.5       ,   0.        ],\n",
       "       [ 48.        ,  25.9292    ,   0.        ],\n",
       "       [ 55.        ,  30.5       ,   0.        ],\n",
       "       [  1.        ,  39.6875    ,   0.        ],\n",
       "       [ 17.        ,   7.0542    ,   0.        ],\n",
       "       [ 24.        ,  15.85      ,   0.        ],\n",
       "       [ 74.        ,   7.775     ,   0.        ],\n",
       "       [ 29.78590426,  24.15      ,   1.        ],\n",
       "       [ 28.        ,   7.7958    ,   0.        ],\n",
       "       [ 26.        ,   7.8542    ,   0.        ],\n",
       "       [  1.        ,  39.        ,   0.        ],\n",
       "       [ 18.        ,   8.05      ,   0.        ],\n",
       "       [  3.        ,  26.        ,   0.        ],\n",
       "       [ 48.        ,  39.6       ,   0.        ],\n",
       "       [ 32.        ,  56.4958    ,   0.        ],\n",
       "       [ 19.        ,  91.0792    ,   0.        ],\n",
       "       [ 29.78590426,  42.4       ,   1.        ],\n",
       "       [ 70.        ,  10.5       ,   0.        ],\n",
       "       [ 34.        ,  26.        ,   0.        ],\n",
       "       [ 39.        , 110.8833    ,   0.        ],\n",
       "       [ 17.        ,  10.5       ,   0.        ],\n",
       "       [ 38.        ,   8.6625    ,   0.        ],\n",
       "       [ 29.78590426,   7.8958    ,   1.        ],\n",
       "       [ 30.        ,  21.        ,   0.        ],\n",
       "       [ 28.        ,  13.        ,   0.        ],\n",
       "       [ 29.78590426,   7.725     ,   1.        ],\n",
       "       [ 19.        ,   8.1583    ,   0.        ],\n",
       "       [ 29.        ,   7.75      ,   0.        ],\n",
       "       [ 29.78590426,   7.8958    ,   1.        ],\n",
       "       [ 44.        ,   7.925     ,   0.        ],\n",
       "       [ 22.        ,  41.5792    ,   0.        ],\n",
       "       [ 21.        ,  34.375     ,   0.        ],\n",
       "       [ 41.        ,  19.5       ,   0.        ],\n",
       "       [ 29.78590426,   7.225     ,   1.        ],\n",
       "       [ 25.        ,  55.4417    ,   0.        ],\n",
       "       [  0.92      , 151.55      ,   0.        ],\n",
       "       [ 44.        ,  26.        ,   0.        ],\n",
       "       [ 19.        ,  26.        ,   0.        ],\n",
       "       [ 30.        ,  56.9292    ,   0.        ],\n",
       "       [ 20.        ,   9.5       ,   0.        ],\n",
       "       [  5.        ,  12.475     ,   0.        ],\n",
       "       [  4.        ,  39.        ,   0.        ],\n",
       "       [ 29.78590426,  16.1       ,   1.        ],\n",
       "       [ 38.        ,   0.        ,   0.        ],\n",
       "       [ 28.        ,  22.525     ,   0.        ],\n",
       "       [ 29.78590426,  30.        ,   1.        ],\n",
       "       [ 29.        ,   7.775     ,   0.        ],\n",
       "       [ 49.        ,  89.1042    ,   0.        ],\n",
       "       [ 19.        ,  14.5       ,   0.        ],\n",
       "       [ 18.        , 262.375     ,   0.        ],\n",
       "       [ 31.        ,  26.25      ,   0.        ],\n",
       "       [ 27.        ,   7.7958    ,   0.        ],\n",
       "       [ 36.        , 120.        ,   0.        ],\n",
       "       [  8.        ,  36.75      ,   0.        ],\n",
       "       [  2.        ,  21.075     ,   0.        ],\n",
       "       [ 63.        ,  77.9583    ,   0.        ],\n",
       "       [ 31.        ,   7.75      ,   0.        ],\n",
       "       [ 29.78590426,   0.        ,   1.        ],\n",
       "       [ 25.        ,  13.        ,   0.        ],\n",
       "       [ 20.5       ,   7.25      ,   0.        ],\n",
       "       [ 29.78590426,   7.8958    ,   1.        ],\n",
       "       [ 64.        , 263.        ,   0.        ],\n",
       "       [ 19.        ,  26.        ,   0.        ],\n",
       "       [ 18.        ,   7.775     ,   0.        ],\n",
       "       [ 29.78590426,   0.        ,   1.        ],\n",
       "       [ 29.78590426,   7.8958    ,   1.        ],\n",
       "       [ 11.        ,  18.7875    ,   0.        ],\n",
       "       [ 15.        ,  14.4542    ,   0.        ],\n",
       "       [ 22.        ,  55.        ,   0.        ],\n",
       "       [ 50.        ,  13.        ,   0.        ],\n",
       "       [ 28.        ,  14.4       ,   0.        ],\n",
       "       [ 39.        ,  13.        ,   0.        ],\n",
       "       [ 29.78590426,   8.05      ,   1.        ],\n",
       "       [ 39.        ,   7.925     ,   0.        ],\n",
       "       [ 24.        ,  16.1       ,   0.        ],\n",
       "       [ 23.        ,   7.925     ,   0.        ],\n",
       "       [ 17.        ,  57.        ,   0.        ],\n",
       "       [ 44.        ,  26.        ,   0.        ],\n",
       "       [ 23.        ,  13.7917    ,   0.        ],\n",
       "       [ 29.78590426,  26.55      ,   1.        ],\n",
       "       [ 52.        ,  78.2667    ,   0.        ],\n",
       "       [ 24.5       ,   8.05      ,   0.        ],\n",
       "       [ 55.5       ,   8.05      ,   0.        ],\n",
       "       [ 18.        ,   7.7958    ,   0.        ],\n",
       "       [ 18.        ,  13.        ,   0.        ],\n",
       "       [ 45.        ,  83.475     ,   0.        ],\n",
       "       [ 31.        ,  18.        ,   0.        ],\n",
       "       [ 30.5       ,   8.05      ,   0.        ],\n",
       "       [ 42.        ,   8.4042    ,   0.        ],\n",
       "       [ 29.78590426,   7.75      ,   1.        ],\n",
       "       [ 36.        ,   7.4958    ,   0.        ],\n",
       "       [ 34.        ,  26.55      ,   0.        ],\n",
       "       [ 54.        ,  78.2667    ,   0.        ],\n",
       "       [ 15.        ,   8.0292    ,   0.        ],\n",
       "       [ 25.        ,   7.775     ,   0.        ],\n",
       "       [ 26.        ,  30.        ,   0.        ],\n",
       "       [ 29.78590426,   8.1125    ,   1.        ],\n",
       "       [ 19.        ,   8.05      ,   0.        ],\n",
       "       [ 29.        ,   7.8958    ,   0.        ],\n",
       "       [ 19.        ,  30.        ,   0.        ],\n",
       "       [ 33.        ,  90.        ,   0.        ],\n",
       "       [ 36.        ,  24.15      ,   0.        ],\n",
       "       [ 29.78590426,   7.775     ,   1.        ],\n",
       "       [ 35.        , 512.3292    ,   0.        ],\n",
       "       [ 22.        ,   7.25      ,   0.        ],\n",
       "       [ 29.78590426,  16.1       ,   1.        ],\n",
       "       [ 18.        ,   7.4958    ,   0.        ],\n",
       "       [ 28.        ,  26.        ,   0.        ],\n",
       "       [ 22.        ,   7.25      ,   0.        ],\n",
       "       [ 24.        ,   8.05      ,   0.        ],\n",
       "       [ 22.        ,   9.        ,   0.        ],\n",
       "       [ 29.78590426,  69.55      ,   1.        ],\n",
       "       [ 26.        ,   7.8958    ,   0.        ],\n",
       "       [ 29.        ,  10.4625    ,   0.        ]])"
      ]
     },
     "execution_count": 95,
     "metadata": {},
     "output_type": "execute_result"
    }
   ],
   "source": [
    "X_test_trf2"
   ]
  },
  {
   "cell_type": "markdown",
   "id": "18bd5cb0",
   "metadata": {},
   "source": [
    "## Accuracy after incorporating the Missing Indicator technique"
   ]
  },
  {
   "cell_type": "code",
   "execution_count": 96,
   "id": "d650365d",
   "metadata": {},
   "outputs": [
    {
     "name": "stdout",
     "output_type": "stream",
     "text": [
      "Accuracy after using missing indicator technique : 63.128491620111724\n"
     ]
    }
   ],
   "source": [
    "# Create a new LogisticRegression classifier and train it on the transformed data\n",
    "clf = LogisticRegression()\n",
    "clf.fit(X_train_trf2, y_train)\n",
    "\n",
    "# Make predictions on the test data and calculate accuracy\n",
    "y_pred = clf.predict(X_test_trf2)\n",
    "accuracy2 = accuracy_score(y_test, y_pred) * 100\n",
    "print('Accuracy after using missing indicator technique :',accuracy2)"
   ]
  },
  {
   "cell_type": "markdown",
   "id": "20b62824",
   "metadata": {},
   "source": [
    " "
   ]
  },
  {
   "cell_type": "markdown",
   "id": "fb3e07a7",
   "metadata": {},
   "source": [
    "Notice that the accuracy we obtained from logistic regression without the missing indicator technique was 61.4. Now, after incorporating the missing indicator technique, our accuracy has increased to 63.4. This demonstrates that using the missing indicator technique can sometimes yield better results."
   ]
  }
 ],
 "metadata": {
  "kernelspec": {
   "display_name": "Python 3 (ipykernel)",
   "language": "python",
   "name": "python3"
  },
  "language_info": {
   "codemirror_mode": {
    "name": "ipython",
    "version": 3
   },
   "file_extension": ".py",
   "mimetype": "text/x-python",
   "name": "python",
   "nbconvert_exporter": "python",
   "pygments_lexer": "ipython3",
   "version": "3.9.12"
  }
 },
 "nbformat": 4,
 "nbformat_minor": 5
}
